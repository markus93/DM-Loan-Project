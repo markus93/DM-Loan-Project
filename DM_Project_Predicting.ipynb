{
 "cells": [
  {
   "cell_type": "markdown",
   "metadata": {},
   "source": [
    "# Data Mining Project - Predicting Interest Rates\n",
    "Markus Kängsepp"
   ]
  },
  {
   "cell_type": "markdown",
   "metadata": {},
   "source": [
    "## Merge all data from year 2016"
   ]
  },
  {
   "cell_type": "code",
   "execution_count": 6,
   "metadata": {
    "collapsed": true
   },
   "outputs": [],
   "source": [
    "source(\"helpers.R\")\n",
    "\n",
    "file1 = \"data_loan/LoanStats_securev1_2016Q1.csv\"\n",
    "file2 = \"data_loan/LoanStats_securev1_2016Q1.csv\"\n",
    "file3 = \"data_loan/LoanStats_securev1_2016Q1.csv\"\n",
    "file4 = \"data_loan/LoanStats_securev1_2016Q1.csv\""
   ]
  },
  {
   "cell_type": "code",
   "execution_count": 7,
   "metadata": {
    "collapsed": false
   },
   "outputs": [],
   "source": [
    "dataQ1 = read_csv(file1)\n",
    "dataQ2 = read_csv(file2)\n",
    "dataQ3 = read_csv(file3)\n",
    "dataQ4 = read_csv(file4)"
   ]
  },
  {
   "cell_type": "code",
   "execution_count": 10,
   "metadata": {
    "collapsed": false
   },
   "outputs": [
    {
     "data": {
      "text/html": [
       "<table>\n",
       "<thead><tr><th scope=col>id</th><th scope=col>member_id</th><th scope=col>loan_amnt</th><th scope=col>funded_amnt</th><th scope=col>funded_amnt_inv</th><th scope=col>term</th><th scope=col>int_rate</th><th scope=col>installment</th><th scope=col>grade</th><th scope=col>sub_grade</th><th scope=col>...</th><th scope=col>sec_app_earliest_cr_line</th><th scope=col>sec_app_inq_last_6mths</th><th scope=col>sec_app_mort_acc</th><th scope=col>sec_app_open_acc</th><th scope=col>sec_app_revol_util</th><th scope=col>sec_app_open_il_6m</th><th scope=col>sec_app_num_rev_accts</th><th scope=col>sec_app_chargeoff_within_12_mths</th><th scope=col>sec_app_collections_12_mths_ex_med</th><th scope=col>sec_app_mths_since_last_major_derog</th></tr></thead>\n",
       "<tbody>\n",
       "\t<tr><td>76153534  </td><td>NA        </td><td>28000     </td><td>28000     </td><td>28000     </td><td> 36 months</td><td>  6.49%   </td><td>858.05    </td><td>A         </td><td>A2        </td><td>...       </td><td>NA        </td><td>NA        </td><td>NA        </td><td>NA        </td><td>NA        </td><td>NA        </td><td>NA        </td><td>NA        </td><td>NA        </td><td>NA        </td></tr>\n",
       "\t<tr><td>76153691  </td><td>NA        </td><td> 7200     </td><td> 7200     </td><td> 7200     </td><td> 36 months</td><td>  8.39%   </td><td>226.92    </td><td>B         </td><td>B1        </td><td>...       </td><td>NA        </td><td>NA        </td><td>NA        </td><td>NA        </td><td>NA        </td><td>NA        </td><td>NA        </td><td>NA        </td><td>NA        </td><td>NA        </td></tr>\n",
       "\t<tr><td>75993542  </td><td>NA        </td><td>10850     </td><td>10850     </td><td>10850     </td><td> 36 months</td><td> 13.67%   </td><td>369.10    </td><td>C         </td><td>C3        </td><td>...       </td><td>NA        </td><td>NA        </td><td>NA        </td><td>NA        </td><td>NA        </td><td>NA        </td><td>NA        </td><td>NA        </td><td>NA        </td><td>NA        </td></tr>\n",
       "\t<tr><td>75273614  </td><td>NA        </td><td> 2000     </td><td> 2000     </td><td> 2000     </td><td> 36 months</td><td> 28.34%   </td><td> 83.10    </td><td>G         </td><td>G3        </td><td>...       </td><td>NA        </td><td>NA        </td><td>NA        </td><td>NA        </td><td>NA        </td><td>NA        </td><td>NA        </td><td>NA        </td><td>NA        </td><td>NA        </td></tr>\n",
       "\t<tr><td>75359225  </td><td>NA        </td><td>20000     </td><td>20000     </td><td>20000     </td><td> 36 months</td><td>  5.32%   </td><td>602.30    </td><td>A         </td><td>A1        </td><td>...       </td><td>NA        </td><td>NA        </td><td>NA        </td><td>NA        </td><td>NA        </td><td>NA        </td><td>NA        </td><td>NA        </td><td>NA        </td><td>NA        </td></tr>\n",
       "\t<tr><td>74805010  </td><td>NA        </td><td> 3000     </td><td> 3000     </td><td> 3000     </td><td> 36 months</td><td>  9.75%   </td><td> 96.45    </td><td>B         </td><td>B3        </td><td>...       </td><td>NA        </td><td>NA        </td><td>NA        </td><td>NA        </td><td>NA        </td><td>NA        </td><td>NA        </td><td>NA        </td><td>NA        </td><td>NA        </td></tr>\n",
       "</tbody>\n",
       "</table>\n"
      ],
      "text/latex": [
       "\\begin{tabular}{r|llllllllllllllllllllllllllllllllllllllllllllllllllllllllllllllllllllllllllllllllllllllllllllllllllllllllllllllllllllllllllllllll}\n",
       " id & member\\_id & loan\\_amnt & funded\\_amnt & funded\\_amnt\\_inv & term & int\\_rate & installment & grade & sub\\_grade & ... & sec\\_app\\_earliest\\_cr\\_line & sec\\_app\\_inq\\_last\\_6mths & sec\\_app\\_mort\\_acc & sec\\_app\\_open\\_acc & sec\\_app\\_revol\\_util & sec\\_app\\_open\\_il\\_6m & sec\\_app\\_num\\_rev\\_accts & sec\\_app\\_chargeoff\\_within\\_12\\_mths & sec\\_app\\_collections\\_12\\_mths\\_ex\\_med & sec\\_app\\_mths\\_since\\_last\\_major\\_derog\\\\\n",
       "\\hline\n",
       "\t 76153534   & NA         & 28000      & 28000      & 28000      &  36 months &   6.49\\%  & 858.05     & A          & A2         & ...        & NA         & NA         & NA         & NA         & NA         & NA         & NA         & NA         & NA         & NA        \\\\\n",
       "\t 76153691   & NA         &  7200      &  7200      &  7200      &  36 months &   8.39\\%  & 226.92     & B          & B1         & ...        & NA         & NA         & NA         & NA         & NA         & NA         & NA         & NA         & NA         & NA        \\\\\n",
       "\t 75993542   & NA         & 10850      & 10850      & 10850      &  36 months &  13.67\\%  & 369.10     & C          & C3         & ...        & NA         & NA         & NA         & NA         & NA         & NA         & NA         & NA         & NA         & NA        \\\\\n",
       "\t 75273614   & NA         &  2000      &  2000      &  2000      &  36 months &  28.34\\%  &  83.10     & G          & G3         & ...        & NA         & NA         & NA         & NA         & NA         & NA         & NA         & NA         & NA         & NA        \\\\\n",
       "\t 75359225   & NA         & 20000      & 20000      & 20000      &  36 months &   5.32\\%  & 602.30     & A          & A1         & ...        & NA         & NA         & NA         & NA         & NA         & NA         & NA         & NA         & NA         & NA        \\\\\n",
       "\t 74805010   & NA         &  3000      &  3000      &  3000      &  36 months &   9.75\\%  &  96.45     & B          & B3         & ...        & NA         & NA         & NA         & NA         & NA         & NA         & NA         & NA         & NA         & NA        \\\\\n",
       "\\end{tabular}\n"
      ],
      "text/markdown": [
       "\n",
       "id | member_id | loan_amnt | funded_amnt | funded_amnt_inv | term | int_rate | installment | grade | sub_grade | ... | sec_app_earliest_cr_line | sec_app_inq_last_6mths | sec_app_mort_acc | sec_app_open_acc | sec_app_revol_util | sec_app_open_il_6m | sec_app_num_rev_accts | sec_app_chargeoff_within_12_mths | sec_app_collections_12_mths_ex_med | sec_app_mths_since_last_major_derog | \n",
       "|---|---|---|---|---|---|\n",
       "| 76153534   | NA         | 28000      | 28000      | 28000      |  36 months |   6.49%    | 858.05     | A          | A2         | ...        | NA         | NA         | NA         | NA         | NA         | NA         | NA         | NA         | NA         | NA         | \n",
       "| 76153691   | NA         |  7200      |  7200      |  7200      |  36 months |   8.39%    | 226.92     | B          | B1         | ...        | NA         | NA         | NA         | NA         | NA         | NA         | NA         | NA         | NA         | NA         | \n",
       "| 75993542   | NA         | 10850      | 10850      | 10850      |  36 months |  13.67%    | 369.10     | C          | C3         | ...        | NA         | NA         | NA         | NA         | NA         | NA         | NA         | NA         | NA         | NA         | \n",
       "| 75273614   | NA         |  2000      |  2000      |  2000      |  36 months |  28.34%    |  83.10     | G          | G3         | ...        | NA         | NA         | NA         | NA         | NA         | NA         | NA         | NA         | NA         | NA         | \n",
       "| 75359225   | NA         | 20000      | 20000      | 20000      |  36 months |   5.32%    | 602.30     | A          | A1         | ...        | NA         | NA         | NA         | NA         | NA         | NA         | NA         | NA         | NA         | NA         | \n",
       "| 74805010   | NA         |  3000      |  3000      |  3000      |  36 months |   9.75%    |  96.45     | B          | B3         | ...        | NA         | NA         | NA         | NA         | NA         | NA         | NA         | NA         | NA         | NA         | \n",
       "\n",
       "\n"
      ],
      "text/plain": [
       "  id       member_id loan_amnt funded_amnt funded_amnt_inv term       int_rate\n",
       "1 76153534 NA        28000     28000       28000            36 months   6.49% \n",
       "2 76153691 NA         7200      7200        7200            36 months   8.39% \n",
       "3 75993542 NA        10850     10850       10850            36 months  13.67% \n",
       "4 75273614 NA         2000      2000        2000            36 months  28.34% \n",
       "5 75359225 NA        20000     20000       20000            36 months   5.32% \n",
       "6 74805010 NA         3000      3000        3000            36 months   9.75% \n",
       "  installment grade sub_grade ... sec_app_earliest_cr_line\n",
       "1 858.05      A     A2        ... NA                      \n",
       "2 226.92      B     B1        ... NA                      \n",
       "3 369.10      C     C3        ... NA                      \n",
       "4  83.10      G     G3        ... NA                      \n",
       "5 602.30      A     A1        ... NA                      \n",
       "6  96.45      B     B3        ... NA                      \n",
       "  sec_app_inq_last_6mths sec_app_mort_acc sec_app_open_acc sec_app_revol_util\n",
       "1 NA                     NA               NA               NA                \n",
       "2 NA                     NA               NA               NA                \n",
       "3 NA                     NA               NA               NA                \n",
       "4 NA                     NA               NA               NA                \n",
       "5 NA                     NA               NA               NA                \n",
       "6 NA                     NA               NA               NA                \n",
       "  sec_app_open_il_6m sec_app_num_rev_accts sec_app_chargeoff_within_12_mths\n",
       "1 NA                 NA                    NA                              \n",
       "2 NA                 NA                    NA                              \n",
       "3 NA                 NA                    NA                              \n",
       "4 NA                 NA                    NA                              \n",
       "5 NA                 NA                    NA                              \n",
       "6 NA                 NA                    NA                              \n",
       "  sec_app_collections_12_mths_ex_med sec_app_mths_since_last_major_derog\n",
       "1 NA                                 NA                                 \n",
       "2 NA                                 NA                                 \n",
       "3 NA                                 NA                                 \n",
       "4 NA                                 NA                                 \n",
       "5 NA                                 NA                                 \n",
       "6 NA                                 NA                                 "
      ]
     },
     "metadata": {},
     "output_type": "display_data"
    }
   ],
   "source": [
    "head(dataQ1)"
   ]
  }
 ],
 "metadata": {
  "kernelspec": {
   "display_name": "R",
   "language": "R",
   "name": "ir"
  },
  "language_info": {
   "codemirror_mode": "r",
   "file_extension": ".r",
   "mimetype": "text/x-r-source",
   "name": "R",
   "pygments_lexer": "r",
   "version": "3.3.2"
  },
  "toc": {
   "colors": {
    "hover_highlight": "#DAA520",
    "running_highlight": "#FF0000",
    "selected_highlight": "#FFD700"
   },
   "moveMenuLeft": true,
   "nav_menu": {
    "height": "29px",
    "width": "251px"
   },
   "navigate_menu": true,
   "number_sections": true,
   "sideBar": true,
   "threshold": 4,
   "toc_cell": false,
   "toc_section_display": "block",
   "toc_window_display": false,
   "widenNotebook": false
  }
 },
 "nbformat": 4,
 "nbformat_minor": 2
}
