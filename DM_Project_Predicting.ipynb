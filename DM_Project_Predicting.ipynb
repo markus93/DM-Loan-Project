{
 "cells": [
  {
   "cell_type": "markdown",
   "metadata": {},
   "source": [
    "# Data Mining Project - Predicting Interest Rates\n",
    "Markus Kängsepp"
   ]
  },
  {
   "cell_type": "markdown",
   "metadata": {},
   "source": [
    "## Merge all data from year 2016"
   ]
  },
  {
   "cell_type": "code",
   "execution_count": 28,
   "metadata": {
    "collapsed": true
   },
   "outputs": [],
   "source": [
    "file1 = \"data_loan/LoanStats_securev1_2016Q1.csv\"\n",
    "file2 = \"data_loan/LoanStats_securev1_2016Q2.csv\"\n",
    "file3 = \"data_loan/LoanStats_securev1_2016Q3.csv\"\n",
    "file4 = \"data_loan/LoanStats_securev1_2016Q4.csv\"\n",
    "\n",
    "f_desc = \"data_loan/loan_desc.csv\""
   ]
  },
  {
   "cell_type": "code",
   "execution_count": 29,
   "metadata": {
    "collapsed": false
   },
   "outputs": [],
   "source": [
    "dataQ1 <- read.csv(file1, skip = 1)  # Added line with description so skip = 2.\n",
    "dataQ2 <- read.csv(file2, skip = 1)\n",
    "dataQ3 <- read.csv(file3, skip = 1)\n",
    "dataQ4 <- read.csv(file4, skip = 1)"
   ]
  },
  {
   "cell_type": "code",
   "execution_count": 30,
   "metadata": {
    "collapsed": false
   },
   "outputs": [
    {
     "data": {
      "text/html": [
       "<table>\n",
       "<thead><tr><th scope=col>id</th><th scope=col>member_id</th><th scope=col>loan_amnt</th><th scope=col>funded_amnt</th><th scope=col>funded_amnt_inv</th><th scope=col>term</th><th scope=col>int_rate</th><th scope=col>installment</th><th scope=col>grade</th><th scope=col>sub_grade</th><th scope=col>...</th><th scope=col>sec_app_earliest_cr_line</th><th scope=col>sec_app_inq_last_6mths</th><th scope=col>sec_app_mort_acc</th><th scope=col>sec_app_open_acc</th><th scope=col>sec_app_revol_util</th><th scope=col>sec_app_open_il_6m</th><th scope=col>sec_app_num_rev_accts</th><th scope=col>sec_app_chargeoff_within_12_mths</th><th scope=col>sec_app_collections_12_mths_ex_med</th><th scope=col>sec_app_mths_since_last_major_derog</th></tr></thead>\n",
       "<tbody>\n",
       "\t<tr><td>76153534  </td><td>NA        </td><td>28000     </td><td>28000     </td><td>28000     </td><td> 36 months</td><td>  6.49%   </td><td>858.05    </td><td>A         </td><td>A2        </td><td>...       </td><td>NA        </td><td>NA        </td><td>NA        </td><td>NA        </td><td>NA        </td><td>NA        </td><td>NA        </td><td>NA        </td><td>NA        </td><td>NA        </td></tr>\n",
       "\t<tr><td>76153691  </td><td>NA        </td><td> 7200     </td><td> 7200     </td><td> 7200     </td><td> 36 months</td><td>  8.39%   </td><td>226.92    </td><td>B         </td><td>B1        </td><td>...       </td><td>NA        </td><td>NA        </td><td>NA        </td><td>NA        </td><td>NA        </td><td>NA        </td><td>NA        </td><td>NA        </td><td>NA        </td><td>NA        </td></tr>\n",
       "\t<tr><td>75993542  </td><td>NA        </td><td>10850     </td><td>10850     </td><td>10850     </td><td> 36 months</td><td> 13.67%   </td><td>369.10    </td><td>C         </td><td>C3        </td><td>...       </td><td>NA        </td><td>NA        </td><td>NA        </td><td>NA        </td><td>NA        </td><td>NA        </td><td>NA        </td><td>NA        </td><td>NA        </td><td>NA        </td></tr>\n",
       "\t<tr><td>75273614  </td><td>NA        </td><td> 2000     </td><td> 2000     </td><td> 2000     </td><td> 36 months</td><td> 28.34%   </td><td> 83.10    </td><td>G         </td><td>G3        </td><td>...       </td><td>NA        </td><td>NA        </td><td>NA        </td><td>NA        </td><td>NA        </td><td>NA        </td><td>NA        </td><td>NA        </td><td>NA        </td><td>NA        </td></tr>\n",
       "\t<tr><td>75359225  </td><td>NA        </td><td>20000     </td><td>20000     </td><td>20000     </td><td> 36 months</td><td>  5.32%   </td><td>602.30    </td><td>A         </td><td>A1        </td><td>...       </td><td>NA        </td><td>NA        </td><td>NA        </td><td>NA        </td><td>NA        </td><td>NA        </td><td>NA        </td><td>NA        </td><td>NA        </td><td>NA        </td></tr>\n",
       "\t<tr><td>74805010  </td><td>NA        </td><td> 3000     </td><td> 3000     </td><td> 3000     </td><td> 36 months</td><td>  9.75%   </td><td> 96.45    </td><td>B         </td><td>B3        </td><td>...       </td><td>NA        </td><td>NA        </td><td>NA        </td><td>NA        </td><td>NA        </td><td>NA        </td><td>NA        </td><td>NA        </td><td>NA        </td><td>NA        </td></tr>\n",
       "</tbody>\n",
       "</table>\n"
      ],
      "text/latex": [
       "\\begin{tabular}{r|llllllllllllllllllllllllllllllllllllllllllllllllllllllllllllllllllllllllllllllllllllllllllllllllllllllllllllllllllllllllllllllll}\n",
       " id & member\\_id & loan\\_amnt & funded\\_amnt & funded\\_amnt\\_inv & term & int\\_rate & installment & grade & sub\\_grade & ... & sec\\_app\\_earliest\\_cr\\_line & sec\\_app\\_inq\\_last\\_6mths & sec\\_app\\_mort\\_acc & sec\\_app\\_open\\_acc & sec\\_app\\_revol\\_util & sec\\_app\\_open\\_il\\_6m & sec\\_app\\_num\\_rev\\_accts & sec\\_app\\_chargeoff\\_within\\_12\\_mths & sec\\_app\\_collections\\_12\\_mths\\_ex\\_med & sec\\_app\\_mths\\_since\\_last\\_major\\_derog\\\\\n",
       "\\hline\n",
       "\t 76153534   & NA         & 28000      & 28000      & 28000      &  36 months &   6.49\\%  & 858.05     & A          & A2         & ...        & NA         & NA         & NA         & NA         & NA         & NA         & NA         & NA         & NA         & NA        \\\\\n",
       "\t 76153691   & NA         &  7200      &  7200      &  7200      &  36 months &   8.39\\%  & 226.92     & B          & B1         & ...        & NA         & NA         & NA         & NA         & NA         & NA         & NA         & NA         & NA         & NA        \\\\\n",
       "\t 75993542   & NA         & 10850      & 10850      & 10850      &  36 months &  13.67\\%  & 369.10     & C          & C3         & ...        & NA         & NA         & NA         & NA         & NA         & NA         & NA         & NA         & NA         & NA        \\\\\n",
       "\t 75273614   & NA         &  2000      &  2000      &  2000      &  36 months &  28.34\\%  &  83.10     & G          & G3         & ...        & NA         & NA         & NA         & NA         & NA         & NA         & NA         & NA         & NA         & NA        \\\\\n",
       "\t 75359225   & NA         & 20000      & 20000      & 20000      &  36 months &   5.32\\%  & 602.30     & A          & A1         & ...        & NA         & NA         & NA         & NA         & NA         & NA         & NA         & NA         & NA         & NA        \\\\\n",
       "\t 74805010   & NA         &  3000      &  3000      &  3000      &  36 months &   9.75\\%  &  96.45     & B          & B3         & ...        & NA         & NA         & NA         & NA         & NA         & NA         & NA         & NA         & NA         & NA        \\\\\n",
       "\\end{tabular}\n"
      ],
      "text/markdown": [
       "\n",
       "id | member_id | loan_amnt | funded_amnt | funded_amnt_inv | term | int_rate | installment | grade | sub_grade | ... | sec_app_earliest_cr_line | sec_app_inq_last_6mths | sec_app_mort_acc | sec_app_open_acc | sec_app_revol_util | sec_app_open_il_6m | sec_app_num_rev_accts | sec_app_chargeoff_within_12_mths | sec_app_collections_12_mths_ex_med | sec_app_mths_since_last_major_derog | \n",
       "|---|---|---|---|---|---|\n",
       "| 76153534   | NA         | 28000      | 28000      | 28000      |  36 months |   6.49%    | 858.05     | A          | A2         | ...        | NA         | NA         | NA         | NA         | NA         | NA         | NA         | NA         | NA         | NA         | \n",
       "| 76153691   | NA         |  7200      |  7200      |  7200      |  36 months |   8.39%    | 226.92     | B          | B1         | ...        | NA         | NA         | NA         | NA         | NA         | NA         | NA         | NA         | NA         | NA         | \n",
       "| 75993542   | NA         | 10850      | 10850      | 10850      |  36 months |  13.67%    | 369.10     | C          | C3         | ...        | NA         | NA         | NA         | NA         | NA         | NA         | NA         | NA         | NA         | NA         | \n",
       "| 75273614   | NA         |  2000      |  2000      |  2000      |  36 months |  28.34%    |  83.10     | G          | G3         | ...        | NA         | NA         | NA         | NA         | NA         | NA         | NA         | NA         | NA         | NA         | \n",
       "| 75359225   | NA         | 20000      | 20000      | 20000      |  36 months |   5.32%    | 602.30     | A          | A1         | ...        | NA         | NA         | NA         | NA         | NA         | NA         | NA         | NA         | NA         | NA         | \n",
       "| 74805010   | NA         |  3000      |  3000      |  3000      |  36 months |   9.75%    |  96.45     | B          | B3         | ...        | NA         | NA         | NA         | NA         | NA         | NA         | NA         | NA         | NA         | NA         | \n",
       "\n",
       "\n"
      ],
      "text/plain": [
       "  id       member_id loan_amnt funded_amnt funded_amnt_inv term       int_rate\n",
       "1 76153534 NA        28000     28000       28000            36 months   6.49% \n",
       "2 76153691 NA         7200      7200        7200            36 months   8.39% \n",
       "3 75993542 NA        10850     10850       10850            36 months  13.67% \n",
       "4 75273614 NA         2000      2000        2000            36 months  28.34% \n",
       "5 75359225 NA        20000     20000       20000            36 months   5.32% \n",
       "6 74805010 NA         3000      3000        3000            36 months   9.75% \n",
       "  installment grade sub_grade ... sec_app_earliest_cr_line\n",
       "1 858.05      A     A2        ... NA                      \n",
       "2 226.92      B     B1        ... NA                      \n",
       "3 369.10      C     C3        ... NA                      \n",
       "4  83.10      G     G3        ... NA                      \n",
       "5 602.30      A     A1        ... NA                      \n",
       "6  96.45      B     B3        ... NA                      \n",
       "  sec_app_inq_last_6mths sec_app_mort_acc sec_app_open_acc sec_app_revol_util\n",
       "1 NA                     NA               NA               NA                \n",
       "2 NA                     NA               NA               NA                \n",
       "3 NA                     NA               NA               NA                \n",
       "4 NA                     NA               NA               NA                \n",
       "5 NA                     NA               NA               NA                \n",
       "6 NA                     NA               NA               NA                \n",
       "  sec_app_open_il_6m sec_app_num_rev_accts sec_app_chargeoff_within_12_mths\n",
       "1 NA                 NA                    NA                              \n",
       "2 NA                 NA                    NA                              \n",
       "3 NA                 NA                    NA                              \n",
       "4 NA                 NA                    NA                              \n",
       "5 NA                 NA                    NA                              \n",
       "6 NA                 NA                    NA                              \n",
       "  sec_app_collections_12_mths_ex_med sec_app_mths_since_last_major_derog\n",
       "1 NA                                 NA                                 \n",
       "2 NA                                 NA                                 \n",
       "3 NA                                 NA                                 \n",
       "4 NA                                 NA                                 \n",
       "5 NA                                 NA                                 \n",
       "6 NA                                 NA                                 "
      ]
     },
     "metadata": {},
     "output_type": "display_data"
    }
   ],
   "source": [
    "head(dataQ1)"
   ]
  },
  {
   "cell_type": "markdown",
   "metadata": {},
   "source": [
    "### Add description to column names to get better understanding of the data"
   ]
  },
  {
   "cell_type": "code",
   "execution_count": 97,
   "metadata": {
    "collapsed": false
   },
   "outputs": [],
   "source": [
    "n = length(colnames(dataQ1))\n",
    "\n",
    "col_desc = rep(\"\", n)\n",
    "\n",
    "\n",
    "for(i in c(1:128))\n",
    "{\n",
    "    #print(colnames(dataQ1)[i])\n",
    "    #print(as.character(desc[desc$V1 == colnames(dataQ1)[i], 2][1]))\n",
    "    d = as.character(desc[desc$V1 == colnames(dataQ1)[i], 2])\n",
    "    if(length(d) == 0)\n",
    "    {\n",
    "        d = \"\"\n",
    "    }\n",
    "    \n",
    "    col_desc[i] = d\n",
    "    \n",
    "}\n",
    "\n",
    "col_desc = cbind(colnames(dataQ1), col_desc)"
   ]
  },
  {
   "cell_type": "code",
   "execution_count": 103,
   "metadata": {
    "collapsed": false
   },
   "outputs": [],
   "source": [
    "write.table(t(col_desc), file = \"data_loan/sorted_desc.csv\", sep = \",\", col.names = F, row.names = F)"
   ]
  },
  {
   "cell_type": "markdown",
   "metadata": {},
   "source": [
    "### Selecting initial columns that may be useful"
   ]
  },
  {
   "cell_type": "code",
   "execution_count": null,
   "metadata": {
    "collapsed": true
   },
   "outputs": [],
   "source": [
    "## total_acc (37) last interesting row\n",
    "#colnames(dataQ1)[37]\n",
    "\n",
    "# Put all data to one data.frame\n",
    "data16 = rbind(head(dataQ1[, c(1:37)],-2), head(dataQ2[, c(1:37)],-2), head(dataQ3[, c(1:37)],-2), head(dataQ4[, c(1:37)],-2))"
   ]
  },
  {
   "cell_type": "code",
   "execution_count": 54,
   "metadata": {
    "collapsed": false
   },
   "outputs": [
    {
     "data": {
      "text/html": [
       "<table>\n",
       "<thead><tr><th></th><th scope=col>id</th><th scope=col>member_id</th><th scope=col>loan_amnt</th><th scope=col>funded_amnt</th><th scope=col>funded_amnt_inv</th><th scope=col>term</th><th scope=col>int_rate</th><th scope=col>installment</th><th scope=col>grade</th><th scope=col>sub_grade</th><th scope=col>...</th><th scope=col>fico_range_low</th><th scope=col>fico_range_high</th><th scope=col>inq_last_6mths</th><th scope=col>mths_since_last_delinq</th><th scope=col>mths_since_last_record</th><th scope=col>open_acc</th><th scope=col>pub_rec</th><th scope=col>revol_bal</th><th scope=col>revol_util</th><th scope=col>total_acc</th></tr></thead>\n",
       "<tbody>\n",
       "\t<tr><th scope=row>434402</th><td>89955820  </td><td>NA        </td><td>24000     </td><td>24000     </td><td>24000     </td><td> 60 months</td><td> 10.49%   </td><td>515.74    </td><td>B         </td><td>B3        </td><td>...       </td><td>725       </td><td>729       </td><td>0         </td><td>NA        </td><td>42        </td><td>15        </td><td>2         </td><td>22448     </td><td>22.4%     </td><td>22        </td></tr>\n",
       "\t<tr><th scope=row>434403</th><td>89885898  </td><td>NA        </td><td>24000     </td><td>24000     </td><td>24000     </td><td> 60 months</td><td> 12.79%   </td><td>543.50    </td><td>C         </td><td>C1        </td><td>...       </td><td>665       </td><td>669       </td><td>0         </td><td>NA        </td><td>NA        </td><td> 5        </td><td>0         </td><td>49431     </td><td>84.4%     </td><td>54        </td></tr>\n",
       "\t<tr><th scope=row>434404</th><td>88977788  </td><td>NA        </td><td>24000     </td><td>24000     </td><td>24000     </td><td> 60 months</td><td> 10.49%   </td><td>515.74    </td><td>B         </td><td>B3        </td><td>...       </td><td>695       </td><td>699       </td><td>1         </td><td>60        </td><td>69        </td><td>24        </td><td>1         </td><td>21665     </td><td>39%       </td><td>58        </td></tr>\n",
       "\t<tr><th scope=row>434405</th><td>88985880  </td><td>NA        </td><td>40000     </td><td>40000     </td><td>40000     </td><td> 60 months</td><td> 10.49%   </td><td>859.56    </td><td>B         </td><td>B3        </td><td>...       </td><td>705       </td><td>709       </td><td>1         </td><td> 9        </td><td>NA        </td><td> 5        </td><td>0         </td><td> 8633     </td><td>64.9%     </td><td>37        </td></tr>\n",
       "\t<tr><th scope=row>434406</th><td>88224441  </td><td>NA        </td><td>24000     </td><td>24000     </td><td>24000     </td><td> 60 months</td><td> 14.49%   </td><td>564.56    </td><td>C         </td><td>C4        </td><td>...       </td><td>660       </td><td>664       </td><td>0         </td><td>67        </td><td>72        </td><td>10        </td><td>1         </td><td>17641     </td><td>68.1%     </td><td>31        </td></tr>\n",
       "\t<tr><th scope=row>434407</th><td>88215728  </td><td>NA        </td><td>14000     </td><td>14000     </td><td>14000     </td><td> 60 months</td><td> 14.49%   </td><td>329.33    </td><td>C         </td><td>C4        </td><td>...       </td><td>660       </td><td>664       </td><td>1         </td><td>37        </td><td>NA        </td><td> 8        </td><td>0         </td><td> 7662     </td><td>54%       </td><td>22        </td></tr>\n",
       "</tbody>\n",
       "</table>\n"
      ],
      "text/latex": [
       "\\begin{tabular}{r|lllllllllllllllllllllllllllllllllllll}\n",
       "  & id & member\\_id & loan\\_amnt & funded\\_amnt & funded\\_amnt\\_inv & term & int\\_rate & installment & grade & sub\\_grade & ... & fico\\_range\\_low & fico\\_range\\_high & inq\\_last\\_6mths & mths\\_since\\_last\\_delinq & mths\\_since\\_last\\_record & open\\_acc & pub\\_rec & revol\\_bal & revol\\_util & total\\_acc\\\\\n",
       "\\hline\n",
       "\t434402 & 89955820   & NA         & 24000      & 24000      & 24000      &  60 months &  10.49\\%  & 515.74     & B          & B3         & ...        & 725        & 729        & 0          & NA         & 42         & 15         & 2          & 22448      & 22.4\\%    & 22        \\\\\n",
       "\t434403 & 89885898   & NA         & 24000      & 24000      & 24000      &  60 months &  12.79\\%  & 543.50     & C          & C1         & ...        & 665        & 669        & 0          & NA         & NA         &  5         & 0          & 49431      & 84.4\\%    & 54        \\\\\n",
       "\t434404 & 88977788   & NA         & 24000      & 24000      & 24000      &  60 months &  10.49\\%  & 515.74     & B          & B3         & ...        & 695        & 699        & 1          & 60         & 69         & 24         & 1          & 21665      & 39\\%      & 58        \\\\\n",
       "\t434405 & 88985880   & NA         & 40000      & 40000      & 40000      &  60 months &  10.49\\%  & 859.56     & B          & B3         & ...        & 705        & 709        & 1          &  9         & NA         &  5         & 0          &  8633      & 64.9\\%    & 37        \\\\\n",
       "\t434406 & 88224441   & NA         & 24000      & 24000      & 24000      &  60 months &  14.49\\%  & 564.56     & C          & C4         & ...        & 660        & 664        & 0          & 67         & 72         & 10         & 1          & 17641      & 68.1\\%    & 31        \\\\\n",
       "\t434407 & 88215728   & NA         & 14000      & 14000      & 14000      &  60 months &  14.49\\%  & 329.33     & C          & C4         & ...        & 660        & 664        & 1          & 37         & NA         &  8         & 0          &  7662      & 54\\%      & 22        \\\\\n",
       "\\end{tabular}\n"
      ],
      "text/markdown": [
       "\n",
       "| <!--/--> | id | member_id | loan_amnt | funded_amnt | funded_amnt_inv | term | int_rate | installment | grade | sub_grade | ... | fico_range_low | fico_range_high | inq_last_6mths | mths_since_last_delinq | mths_since_last_record | open_acc | pub_rec | revol_bal | revol_util | total_acc | \n",
       "|---|---|---|---|---|---|\n",
       "| 434402 | 89955820   | NA         | 24000      | 24000      | 24000      |  60 months |  10.49%    | 515.74     | B          | B3         | ...        | 725        | 729        | 0          | NA         | 42         | 15         | 2          | 22448      | 22.4%      | 22         | \n",
       "| 434403 | 89885898   | NA         | 24000      | 24000      | 24000      |  60 months |  12.79%    | 543.50     | C          | C1         | ...        | 665        | 669        | 0          | NA         | NA         |  5         | 0          | 49431      | 84.4%      | 54         | \n",
       "| 434404 | 88977788   | NA         | 24000      | 24000      | 24000      |  60 months |  10.49%    | 515.74     | B          | B3         | ...        | 695        | 699        | 1          | 60         | 69         | 24         | 1          | 21665      | 39%        | 58         | \n",
       "| 434405 | 88985880   | NA         | 40000      | 40000      | 40000      |  60 months |  10.49%    | 859.56     | B          | B3         | ...        | 705        | 709        | 1          |  9         | NA         |  5         | 0          |  8633      | 64.9%      | 37         | \n",
       "| 434406 | 88224441   | NA         | 24000      | 24000      | 24000      |  60 months |  14.49%    | 564.56     | C          | C4         | ...        | 660        | 664        | 0          | 67         | 72         | 10         | 1          | 17641      | 68.1%      | 31         | \n",
       "| 434407 | 88215728   | NA         | 14000      | 14000      | 14000      |  60 months |  14.49%    | 329.33     | C          | C4         | ...        | 660        | 664        | 1          | 37         | NA         |  8         | 0          |  7662      | 54%        | 22         | \n",
       "\n",
       "\n"
      ],
      "text/plain": [
       "       id       member_id loan_amnt funded_amnt funded_amnt_inv term      \n",
       "434402 89955820 NA        24000     24000       24000            60 months\n",
       "434403 89885898 NA        24000     24000       24000            60 months\n",
       "434404 88977788 NA        24000     24000       24000            60 months\n",
       "434405 88985880 NA        40000     40000       40000            60 months\n",
       "434406 88224441 NA        24000     24000       24000            60 months\n",
       "434407 88215728 NA        14000     14000       14000            60 months\n",
       "       int_rate installment grade sub_grade ... fico_range_low fico_range_high\n",
       "434402  10.49%  515.74      B     B3        ... 725            729            \n",
       "434403  12.79%  543.50      C     C1        ... 665            669            \n",
       "434404  10.49%  515.74      B     B3        ... 695            699            \n",
       "434405  10.49%  859.56      B     B3        ... 705            709            \n",
       "434406  14.49%  564.56      C     C4        ... 660            664            \n",
       "434407  14.49%  329.33      C     C4        ... 660            664            \n",
       "       inq_last_6mths mths_since_last_delinq mths_since_last_record open_acc\n",
       "434402 0              NA                     42                     15      \n",
       "434403 0              NA                     NA                      5      \n",
       "434404 1              60                     69                     24      \n",
       "434405 1               9                     NA                      5      \n",
       "434406 0              67                     72                     10      \n",
       "434407 1              37                     NA                      8      \n",
       "       pub_rec revol_bal revol_util total_acc\n",
       "434402 2       22448     22.4%      22       \n",
       "434403 0       49431     84.4%      54       \n",
       "434404 1       21665     39%        58       \n",
       "434405 0        8633     64.9%      37       \n",
       "434406 1       17641     68.1%      31       \n",
       "434407 0        7662     54%        22       "
      ]
     },
     "metadata": {},
     "output_type": "display_data"
    },
    {
     "data": {
      "text/html": [
       "<table>\n",
       "<thead><tr><th></th><th scope=col>id</th><th scope=col>member_id</th><th scope=col>loan_amnt</th><th scope=col>funded_amnt</th><th scope=col>funded_amnt_inv</th><th scope=col>term</th><th scope=col>int_rate</th><th scope=col>installment</th><th scope=col>grade</th><th scope=col>sub_grade</th><th scope=col>...</th><th scope=col>fico_range_low</th><th scope=col>fico_range_high</th><th scope=col>inq_last_6mths</th><th scope=col>mths_since_last_delinq</th><th scope=col>mths_since_last_record</th><th scope=col>open_acc</th><th scope=col>pub_rec</th><th scope=col>revol_bal</th><th scope=col>revol_util</th><th scope=col>total_acc</th></tr></thead>\n",
       "<tbody>\n",
       "\t<tr><th scope=row>59470</th><td>72565730  </td><td>NA        </td><td>8000      </td><td>8000      </td><td>8000      </td><td> 36 months</td><td> 10.75%   </td><td>260.97    </td><td>B         </td><td>B4        </td><td>...       </td><td>670       </td><td>674       </td><td>2         </td><td>16        </td><td>NA        </td><td>16        </td><td>0         </td><td>10284     </td><td>62%       </td><td>39        </td></tr>\n",
       "</tbody>\n",
       "</table>\n"
      ],
      "text/latex": [
       "\\begin{tabular}{r|lllllllllllllllllllllllllllllllllllll}\n",
       "  & id & member\\_id & loan\\_amnt & funded\\_amnt & funded\\_amnt\\_inv & term & int\\_rate & installment & grade & sub\\_grade & ... & fico\\_range\\_low & fico\\_range\\_high & inq\\_last\\_6mths & mths\\_since\\_last\\_delinq & mths\\_since\\_last\\_record & open\\_acc & pub\\_rec & revol\\_bal & revol\\_util & total\\_acc\\\\\n",
       "\\hline\n",
       "\t59470 & 72565730   & NA         & 8000       & 8000       & 8000       &  36 months &  10.75\\%  & 260.97     & B          & B4         & ...        & 670        & 674        & 2          & 16         & NA         & 16         & 0          & 10284      & 62\\%      & 39        \\\\\n",
       "\\end{tabular}\n"
      ],
      "text/markdown": [
       "\n",
       "| <!--/--> | id | member_id | loan_amnt | funded_amnt | funded_amnt_inv | term | int_rate | installment | grade | sub_grade | ... | fico_range_low | fico_range_high | inq_last_6mths | mths_since_last_delinq | mths_since_last_record | open_acc | pub_rec | revol_bal | revol_util | total_acc | \n",
       "|---|\n",
       "| 59470 | 72565730   | NA         | 8000       | 8000       | 8000       |  36 months |  10.75%    | 260.97     | B          | B4         | ...        | 670        | 674        | 2          | 16         | NA         | 16         | 0          | 10284      | 62%        | 39         | \n",
       "\n",
       "\n"
      ],
      "text/plain": [
       "      id       member_id loan_amnt funded_amnt funded_amnt_inv term      \n",
       "59470 72565730 NA        8000      8000        8000             36 months\n",
       "      int_rate installment grade sub_grade ... fico_range_low fico_range_high\n",
       "59470  10.75%  260.97      B     B4        ... 670            674            \n",
       "      inq_last_6mths mths_since_last_delinq mths_since_last_record open_acc\n",
       "59470 2              16                     NA                     16      \n",
       "      pub_rec revol_bal revol_util total_acc\n",
       "59470 0       10284     62%        39       "
      ]
     },
     "metadata": {},
     "output_type": "display_data"
    }
   ],
   "source": [
    "tail(data16)\n",
    "data16[59470,]"
   ]
  },
  {
   "cell_type": "code",
   "execution_count": 55,
   "metadata": {
    "collapsed": false
   },
   "outputs": [],
   "source": [
    "#write.csv(data2016, \"data_loan/data16.csv\", row.names = F)  # For some reason turns some months to numbers... i.e Jan-16 to 42401"
   ]
  },
  {
   "cell_type": "code",
   "execution_count": 56,
   "metadata": {
    "collapsed": true
   },
   "outputs": [],
   "source": [
    "data16 <- read.csv(\"data_loan/data16.csv\")"
   ]
  },
  {
   "cell_type": "code",
   "execution_count": 57,
   "metadata": {
    "collapsed": false
   },
   "outputs": [
    {
     "data": {
      "text/html": [
       "<table>\n",
       "<thead><tr><th scope=col>id</th><th scope=col>member_id</th><th scope=col>loan_amnt</th><th scope=col>funded_amnt</th><th scope=col>funded_amnt_inv</th><th scope=col>term</th><th scope=col>int_rate</th><th scope=col>installment</th><th scope=col>grade</th><th scope=col>sub_grade</th></tr></thead>\n",
       "<tbody>\n",
       "\t<tr><td>76153534  </td><td>NA        </td><td>28000     </td><td>28000     </td><td>28000     </td><td> 36 months</td><td>6.49%     </td><td>858.05    </td><td>A         </td><td>A2        </td></tr>\n",
       "\t<tr><td>76153691  </td><td>NA        </td><td> 7200     </td><td> 7200     </td><td> 7200     </td><td> 36 months</td><td>8.39%     </td><td>226.92    </td><td>B         </td><td>B1        </td></tr>\n",
       "\t<tr><td>75993542  </td><td>NA        </td><td>10850     </td><td>10850     </td><td>10850     </td><td> 36 months</td><td>13.67%    </td><td>369.10    </td><td>C         </td><td>C3        </td></tr>\n",
       "\t<tr><td>75273614  </td><td>NA        </td><td> 2000     </td><td> 2000     </td><td> 2000     </td><td> 36 months</td><td>28.34%    </td><td> 83.10    </td><td>G         </td><td>G3        </td></tr>\n",
       "\t<tr><td>75359225  </td><td>NA        </td><td>20000     </td><td>20000     </td><td>20000     </td><td> 36 months</td><td>5.32%     </td><td>602.30    </td><td>A         </td><td>A1        </td></tr>\n",
       "\t<tr><td>74805010  </td><td>NA        </td><td> 3000     </td><td> 3000     </td><td> 3000     </td><td> 36 months</td><td>9.75%     </td><td> 96.45    </td><td>B         </td><td>B3        </td></tr>\n",
       "</tbody>\n",
       "</table>\n"
      ],
      "text/latex": [
       "\\begin{tabular}{r|llllllllll}\n",
       " id & member\\_id & loan\\_amnt & funded\\_amnt & funded\\_amnt\\_inv & term & int\\_rate & installment & grade & sub\\_grade\\\\\n",
       "\\hline\n",
       "\t 76153534   & NA         & 28000      & 28000      & 28000      &  36 months & 6.49\\%    & 858.05     & A          & A2        \\\\\n",
       "\t 76153691   & NA         &  7200      &  7200      &  7200      &  36 months & 8.39\\%    & 226.92     & B          & B1        \\\\\n",
       "\t 75993542   & NA         & 10850      & 10850      & 10850      &  36 months & 13.67\\%   & 369.10     & C          & C3        \\\\\n",
       "\t 75273614   & NA         &  2000      &  2000      &  2000      &  36 months & 28.34\\%   &  83.10     & G          & G3        \\\\\n",
       "\t 75359225   & NA         & 20000      & 20000      & 20000      &  36 months & 5.32\\%    & 602.30     & A          & A1        \\\\\n",
       "\t 74805010   & NA         &  3000      &  3000      &  3000      &  36 months & 9.75\\%    &  96.45     & B          & B3        \\\\\n",
       "\\end{tabular}\n"
      ],
      "text/markdown": [
       "\n",
       "id | member_id | loan_amnt | funded_amnt | funded_amnt_inv | term | int_rate | installment | grade | sub_grade | \n",
       "|---|---|---|---|---|---|\n",
       "| 76153534   | NA         | 28000      | 28000      | 28000      |  36 months | 6.49%      | 858.05     | A          | A2         | \n",
       "| 76153691   | NA         |  7200      |  7200      |  7200      |  36 months | 8.39%      | 226.92     | B          | B1         | \n",
       "| 75993542   | NA         | 10850      | 10850      | 10850      |  36 months | 13.67%     | 369.10     | C          | C3         | \n",
       "| 75273614   | NA         |  2000      |  2000      |  2000      |  36 months | 28.34%     |  83.10     | G          | G3         | \n",
       "| 75359225   | NA         | 20000      | 20000      | 20000      |  36 months | 5.32%      | 602.30     | A          | A1         | \n",
       "| 74805010   | NA         |  3000      |  3000      |  3000      |  36 months | 9.75%      |  96.45     | B          | B3         | \n",
       "\n",
       "\n"
      ],
      "text/plain": [
       "  id       member_id loan_amnt funded_amnt funded_amnt_inv term       int_rate\n",
       "1 76153534 NA        28000     28000       28000            36 months 6.49%   \n",
       "2 76153691 NA         7200      7200        7200            36 months 8.39%   \n",
       "3 75993542 NA        10850     10850       10850            36 months 13.67%  \n",
       "4 75273614 NA         2000      2000        2000            36 months 28.34%  \n",
       "5 75359225 NA        20000     20000       20000            36 months 5.32%   \n",
       "6 74805010 NA         3000      3000        3000            36 months 9.75%   \n",
       "  installment grade sub_grade\n",
       "1 858.05      A     A2       \n",
       "2 226.92      B     B1       \n",
       "3 369.10      C     C3       \n",
       "4  83.10      G     G3       \n",
       "5 602.30      A     A1       \n",
       "6  96.45      B     B3       "
      ]
     },
     "metadata": {},
     "output_type": "display_data"
    },
    {
     "data": {
      "text/html": [
       "<table>\n",
       "<thead><tr><th scope=col>sub_grade</th><th scope=col>emp_title</th><th scope=col>emp_length</th><th scope=col>home_ownership</th><th scope=col>annual_inc</th><th scope=col>verification_status</th><th scope=col>issue_d</th><th scope=col>loan_status</th><th scope=col>pymnt_plan</th><th scope=col>url</th><th scope=col>desc</th></tr></thead>\n",
       "<tbody>\n",
       "\t<tr><td>A2                                                               </td><td>IT                                                               </td><td>10+ years                                                        </td><td>MORTGAGE                                                         </td><td>117000                                                           </td><td>Not Verified                                                     </td><td>Mar-16                                                           </td><td>Current                                                          </td><td>n                                                                </td><td>https://lendingclub.com/browse/loanDetail.action?loan_id=76153534</td><td>                                                                 </td></tr>\n",
       "\t<tr><td>B1                                                               </td><td>Director of Slots                                                </td><td>10+ years                                                        </td><td>RENT                                                             </td><td>197000                                                           </td><td>Not Verified                                                     </td><td>Mar-16                                                           </td><td>Current                                                          </td><td>n                                                                </td><td>https://lendingclub.com/browse/loanDetail.action?loan_id=76153691</td><td>                                                                 </td></tr>\n",
       "\t<tr><td>C3                                                               </td><td>Manager                                                          </td><td>10+ years                                                        </td><td>MORTGAGE                                                         </td><td> 44000                                                           </td><td>Verified                                                         </td><td>Mar-16                                                           </td><td>Current                                                          </td><td>n                                                                </td><td>https://lendingclub.com/browse/loanDetail.action?loan_id=75993542</td><td>                                                                 </td></tr>\n",
       "\t<tr><td>G3                                                               </td><td>security officer                                                 </td><td>2 years                                                          </td><td>RENT                                                             </td><td> 24000                                                           </td><td>Verified                                                         </td><td>Mar-16                                                           </td><td>Fully Paid                                                       </td><td>n                                                                </td><td>https://lendingclub.com/browse/loanDetail.action?loan_id=75273614</td><td>                                                                 </td></tr>\n",
       "\t<tr><td>A1                                                               </td><td>President                                                        </td><td>10+ years                                                        </td><td>MORTGAGE                                                         </td><td>165000                                                           </td><td>Not Verified                                                     </td><td>Mar-16                                                           </td><td>Current                                                          </td><td>n                                                                </td><td>https://lendingclub.com/browse/loanDetail.action?loan_id=75359225</td><td>                                                                 </td></tr>\n",
       "\t<tr><td>B3                                                               </td><td><span style=white-space:pre-wrap>sales            </span>        </td><td>&lt; 1 year                                                      </td><td><span style=white-space:pre-wrap>RENT    </span>                 </td><td> 24000                                                           </td><td>Source Verified                                                  </td><td>Mar-16                                                           </td><td><span style=white-space:pre-wrap>Current   </span>               </td><td>n                                                                </td><td>https://lendingclub.com/browse/loanDetail.action?loan_id=74805010</td><td>                                                                 </td></tr>\n",
       "</tbody>\n",
       "</table>\n"
      ],
      "text/latex": [
       "\\begin{tabular}{r|lllllllllll}\n",
       " sub\\_grade & emp\\_title & emp\\_length & home\\_ownership & annual\\_inc & verification\\_status & issue\\_d & loan\\_status & pymnt\\_plan & url & desc\\\\\n",
       "\\hline\n",
       "\t A2                                                                  & IT                                                                  & 10+ years                                                           & MORTGAGE                                                            & 117000                                                              & Not Verified                                                        & Mar-16                                                              & Current                                                             & n                                                                   & https://lendingclub.com/browse/loanDetail.action?loan\\_id=76153534 &                                                                    \\\\\n",
       "\t B1                                                                  & Director of Slots                                                   & 10+ years                                                           & RENT                                                                & 197000                                                              & Not Verified                                                        & Mar-16                                                              & Current                                                             & n                                                                   & https://lendingclub.com/browse/loanDetail.action?loan\\_id=76153691 &                                                                    \\\\\n",
       "\t C3                                                                  & Manager                                                             & 10+ years                                                           & MORTGAGE                                                            &  44000                                                              & Verified                                                            & Mar-16                                                              & Current                                                             & n                                                                   & https://lendingclub.com/browse/loanDetail.action?loan\\_id=75993542 &                                                                    \\\\\n",
       "\t G3                                                                  & security officer                                                    & 2 years                                                             & RENT                                                                &  24000                                                              & Verified                                                            & Mar-16                                                              & Fully Paid                                                          & n                                                                   & https://lendingclub.com/browse/loanDetail.action?loan\\_id=75273614 &                                                                    \\\\\n",
       "\t A1                                                                  & President                                                           & 10+ years                                                           & MORTGAGE                                                            & 165000                                                              & Not Verified                                                        & Mar-16                                                              & Current                                                             & n                                                                   & https://lendingclub.com/browse/loanDetail.action?loan\\_id=75359225 &                                                                    \\\\\n",
       "\t B3                                                                  & sales                                                               & < 1 year                                                            & RENT                                                                &  24000                                                              & Source Verified                                                     & Mar-16                                                              & Current                                                             & n                                                                   & https://lendingclub.com/browse/loanDetail.action?loan\\_id=74805010 &                                                                    \\\\\n",
       "\\end{tabular}\n"
      ],
      "text/markdown": [
       "\n",
       "sub_grade | emp_title | emp_length | home_ownership | annual_inc | verification_status | issue_d | loan_status | pymnt_plan | url | desc | \n",
       "|---|---|---|---|---|---|\n",
       "| A2                                                                | IT                                                                | 10+ years                                                         | MORTGAGE                                                          | 117000                                                            | Not Verified                                                      | Mar-16                                                            | Current                                                           | n                                                                 | https://lendingclub.com/browse/loanDetail.action?loan_id=76153534 |                                                                   | \n",
       "| B1                                                                | Director of Slots                                                 | 10+ years                                                         | RENT                                                              | 197000                                                            | Not Verified                                                      | Mar-16                                                            | Current                                                           | n                                                                 | https://lendingclub.com/browse/loanDetail.action?loan_id=76153691 |                                                                   | \n",
       "| C3                                                                | Manager                                                           | 10+ years                                                         | MORTGAGE                                                          |  44000                                                            | Verified                                                          | Mar-16                                                            | Current                                                           | n                                                                 | https://lendingclub.com/browse/loanDetail.action?loan_id=75993542 |                                                                   | \n",
       "| G3                                                                | security officer                                                  | 2 years                                                           | RENT                                                              |  24000                                                            | Verified                                                          | Mar-16                                                            | Fully Paid                                                        | n                                                                 | https://lendingclub.com/browse/loanDetail.action?loan_id=75273614 |                                                                   | \n",
       "| A1                                                                | President                                                         | 10+ years                                                         | MORTGAGE                                                          | 165000                                                            | Not Verified                                                      | Mar-16                                                            | Current                                                           | n                                                                 | https://lendingclub.com/browse/loanDetail.action?loan_id=75359225 |                                                                   | \n",
       "| B3                                                                | sales                                                             | < 1 year                                                          | RENT                                                              |  24000                                                            | Source Verified                                                   | Mar-16                                                            | Current                                                           | n                                                                 | https://lendingclub.com/browse/loanDetail.action?loan_id=74805010 |                                                                   | \n",
       "\n",
       "\n"
      ],
      "text/plain": [
       "  sub_grade emp_title         emp_length home_ownership annual_inc\n",
       "1 A2        IT                10+ years  MORTGAGE       117000    \n",
       "2 B1        Director of Slots 10+ years  RENT           197000    \n",
       "3 C3        Manager           10+ years  MORTGAGE        44000    \n",
       "4 G3        security officer  2 years    RENT            24000    \n",
       "5 A1        President         10+ years  MORTGAGE       165000    \n",
       "6 B3        sales             < 1 year   RENT            24000    \n",
       "  verification_status issue_d loan_status pymnt_plan\n",
       "1 Not Verified        Mar-16  Current     n         \n",
       "2 Not Verified        Mar-16  Current     n         \n",
       "3 Verified            Mar-16  Current     n         \n",
       "4 Verified            Mar-16  Fully Paid  n         \n",
       "5 Not Verified        Mar-16  Current     n         \n",
       "6 Source Verified     Mar-16  Current     n         \n",
       "  url                                                               desc\n",
       "1 https://lendingclub.com/browse/loanDetail.action?loan_id=76153534     \n",
       "2 https://lendingclub.com/browse/loanDetail.action?loan_id=76153691     \n",
       "3 https://lendingclub.com/browse/loanDetail.action?loan_id=75993542     \n",
       "4 https://lendingclub.com/browse/loanDetail.action?loan_id=75273614     \n",
       "5 https://lendingclub.com/browse/loanDetail.action?loan_id=75359225     \n",
       "6 https://lendingclub.com/browse/loanDetail.action?loan_id=74805010     "
      ]
     },
     "metadata": {},
     "output_type": "display_data"
    }
   ],
   "source": [
    "head(data16[,c(1:10)])\n",
    "head(data16[,c(10:20)])"
   ]
  },
  {
   "cell_type": "code",
   "execution_count": 34,
   "metadata": {
    "collapsed": false
   },
   "outputs": [
    {
     "name": "stdout",
     "output_type": "stream",
     "text": [
      " Factor w/ 13 levels \"\",\"< 1 year\",..: 4 4 4 5 4 2 6 6 3 12 ...\n"
     ]
    }
   ],
   "source": [
    "str(data16$emp_length)"
   ]
  },
  {
   "cell_type": "code",
   "execution_count": 53,
   "metadata": {
    "collapsed": false
   },
   "outputs": [
    {
     "data": {
      "text/html": [
       "<table>\n",
       "<thead><tr><th></th><th scope=col>id</th><th scope=col>member_id</th><th scope=col>loan_amnt</th><th scope=col>funded_amnt</th><th scope=col>funded_amnt_inv</th><th scope=col>term</th><th scope=col>int_rate</th><th scope=col>installment</th><th scope=col>grade</th><th scope=col>sub_grade</th><th scope=col>...</th><th scope=col>fico_range_low</th><th scope=col>fico_range_high</th><th scope=col>inq_last_6mths</th><th scope=col>mths_since_last_delinq</th><th scope=col>mths_since_last_record</th><th scope=col>open_acc</th><th scope=col>pub_rec</th><th scope=col>revol_bal</th><th scope=col>revol_util</th><th scope=col>total_acc</th></tr></thead>\n",
       "<tbody>\n",
       "\t<tr><th scope=row>59470</th><td>72565730  </td><td>NA        </td><td>8000      </td><td>8000      </td><td>8000      </td><td> 36 months</td><td> 10.75%   </td><td>260.97    </td><td>B         </td><td>B4        </td><td>...       </td><td>670       </td><td>674       </td><td>2         </td><td>16        </td><td>NA        </td><td>16        </td><td>0         </td><td>10284     </td><td>62%       </td><td>39        </td></tr>\n",
       "</tbody>\n",
       "</table>\n"
      ],
      "text/latex": [
       "\\begin{tabular}{r|lllllllllllllllllllllllllllllllllllll}\n",
       "  & id & member\\_id & loan\\_amnt & funded\\_amnt & funded\\_amnt\\_inv & term & int\\_rate & installment & grade & sub\\_grade & ... & fico\\_range\\_low & fico\\_range\\_high & inq\\_last\\_6mths & mths\\_since\\_last\\_delinq & mths\\_since\\_last\\_record & open\\_acc & pub\\_rec & revol\\_bal & revol\\_util & total\\_acc\\\\\n",
       "\\hline\n",
       "\t59470 & 72565730   & NA         & 8000       & 8000       & 8000       &  36 months &  10.75\\%  & 260.97     & B          & B4         & ...        & 670        & 674        & 2          & 16         & NA         & 16         & 0          & 10284      & 62\\%      & 39        \\\\\n",
       "\\end{tabular}\n"
      ],
      "text/markdown": [
       "\n",
       "| <!--/--> | id | member_id | loan_amnt | funded_amnt | funded_amnt_inv | term | int_rate | installment | grade | sub_grade | ... | fico_range_low | fico_range_high | inq_last_6mths | mths_since_last_delinq | mths_since_last_record | open_acc | pub_rec | revol_bal | revol_util | total_acc | \n",
       "|---|\n",
       "| 59470 | 72565730   | NA         | 8000       | 8000       | 8000       |  36 months |  10.75%    | 260.97     | B          | B4         | ...        | 670        | 674        | 2          | 16         | NA         | 16         | 0          | 10284      | 62%        | 39         | \n",
       "\n",
       "\n"
      ],
      "text/plain": [
       "      id       member_id loan_amnt funded_amnt funded_amnt_inv term      \n",
       "59470 72565730 NA        8000      8000        8000             36 months\n",
       "      int_rate installment grade sub_grade ... fico_range_low fico_range_high\n",
       "59470  10.75%  260.97      B     B4        ... 670            674            \n",
       "      inq_last_6mths mths_since_last_delinq mths_since_last_record open_acc\n",
       "59470 2              16                     NA                     16      \n",
       "      pub_rec revol_bal revol_util total_acc\n",
       "59470 0       10284     62%        39       "
      ]
     },
     "metadata": {},
     "output_type": "display_data"
    },
    {
     "data": {
      "text/html": [
       "<table>\n",
       "<thead><tr><th scope=col>id</th><th scope=col>member_id</th><th scope=col>loan_amnt</th><th scope=col>funded_amnt</th><th scope=col>funded_amnt_inv</th><th scope=col>term</th><th scope=col>int_rate</th><th scope=col>installment</th><th scope=col>grade</th><th scope=col>sub_grade</th><th scope=col>...</th><th scope=col>sec_app_earliest_cr_line</th><th scope=col>sec_app_inq_last_6mths</th><th scope=col>sec_app_mort_acc</th><th scope=col>sec_app_open_acc</th><th scope=col>sec_app_revol_util</th><th scope=col>sec_app_open_il_6m</th><th scope=col>sec_app_num_rev_accts</th><th scope=col>sec_app_chargeoff_within_12_mths</th><th scope=col>sec_app_collections_12_mths_ex_med</th><th scope=col>sec_app_mths_since_last_major_derog</th></tr></thead>\n",
       "<tbody>\n",
       "\t<tr><td>76153534  </td><td>NA        </td><td>28000     </td><td>28000     </td><td>28000     </td><td> 36 months</td><td>  6.49%   </td><td>858.05    </td><td>A         </td><td>A2        </td><td>...       </td><td>NA        </td><td>NA        </td><td>NA        </td><td>NA        </td><td>NA        </td><td>NA        </td><td>NA        </td><td>NA        </td><td>NA        </td><td>NA        </td></tr>\n",
       "\t<tr><td>76153691  </td><td>NA        </td><td> 7200     </td><td> 7200     </td><td> 7200     </td><td> 36 months</td><td>  8.39%   </td><td>226.92    </td><td>B         </td><td>B1        </td><td>...       </td><td>NA        </td><td>NA        </td><td>NA        </td><td>NA        </td><td>NA        </td><td>NA        </td><td>NA        </td><td>NA        </td><td>NA        </td><td>NA        </td></tr>\n",
       "\t<tr><td>75993542  </td><td>NA        </td><td>10850     </td><td>10850     </td><td>10850     </td><td> 36 months</td><td> 13.67%   </td><td>369.10    </td><td>C         </td><td>C3        </td><td>...       </td><td>NA        </td><td>NA        </td><td>NA        </td><td>NA        </td><td>NA        </td><td>NA        </td><td>NA        </td><td>NA        </td><td>NA        </td><td>NA        </td></tr>\n",
       "\t<tr><td>75273614  </td><td>NA        </td><td> 2000     </td><td> 2000     </td><td> 2000     </td><td> 36 months</td><td> 28.34%   </td><td> 83.10    </td><td>G         </td><td>G3        </td><td>...       </td><td>NA        </td><td>NA        </td><td>NA        </td><td>NA        </td><td>NA        </td><td>NA        </td><td>NA        </td><td>NA        </td><td>NA        </td><td>NA        </td></tr>\n",
       "\t<tr><td>75359225  </td><td>NA        </td><td>20000     </td><td>20000     </td><td>20000     </td><td> 36 months</td><td>  5.32%   </td><td>602.30    </td><td>A         </td><td>A1        </td><td>...       </td><td>NA        </td><td>NA        </td><td>NA        </td><td>NA        </td><td>NA        </td><td>NA        </td><td>NA        </td><td>NA        </td><td>NA        </td><td>NA        </td></tr>\n",
       "\t<tr><td>74805010  </td><td>NA        </td><td> 3000     </td><td> 3000     </td><td> 3000     </td><td> 36 months</td><td>  9.75%   </td><td> 96.45    </td><td>B         </td><td>B3        </td><td>...       </td><td>NA        </td><td>NA        </td><td>NA        </td><td>NA        </td><td>NA        </td><td>NA        </td><td>NA        </td><td>NA        </td><td>NA        </td><td>NA        </td></tr>\n",
       "\t<tr><td>76042475  </td><td>NA        </td><td> 6000     </td><td> 6000     </td><td> 6000     </td><td> 36 months</td><td> 10.75%   </td><td>195.73    </td><td>B         </td><td>B4        </td><td>...       </td><td>NA        </td><td>NA        </td><td>NA        </td><td>NA        </td><td>NA        </td><td>NA        </td><td>NA        </td><td>NA        </td><td>NA        </td><td>NA        </td></tr>\n",
       "\t<tr><td>75061834  </td><td>NA        </td><td>20000     </td><td>20000     </td><td>20000     </td><td> 36 months</td><td> 11.47%   </td><td>659.24    </td><td>B         </td><td>B5        </td><td>...       </td><td>NA        </td><td>NA        </td><td>NA        </td><td>NA        </td><td>NA        </td><td>NA        </td><td>NA        </td><td>NA        </td><td>NA        </td><td>NA        </td></tr>\n",
       "\t<tr><td>75933549  </td><td>NA        </td><td>24000     </td><td>24000     </td><td>24000     </td><td> 60 months</td><td> 19.53%   </td><td>629.60    </td><td>D         </td><td>D5        </td><td>...       </td><td>NA        </td><td>NA        </td><td>NA        </td><td>NA        </td><td>NA        </td><td>NA        </td><td>NA        </td><td>NA        </td><td>NA        </td><td>NA        </td></tr>\n",
       "\t<tr><td>76143686  </td><td>NA        </td><td> 9000     </td><td> 9000     </td><td> 9000     </td><td> 36 months</td><td> 15.31%   </td><td>313.36    </td><td>C         </td><td>C5        </td><td>...       </td><td>NA        </td><td>NA        </td><td>NA        </td><td>NA        </td><td>NA        </td><td>NA        </td><td>NA        </td><td>NA        </td><td>NA        </td><td>NA        </td></tr>\n",
       "\t<tr><td>74523825  </td><td>NA        </td><td>12000     </td><td>12000     </td><td>12000     </td><td> 60 months</td><td> 11.47%   </td><td>263.74    </td><td>B         </td><td>B5        </td><td>...       </td><td>NA        </td><td>NA        </td><td>NA        </td><td>NA        </td><td>NA        </td><td>NA        </td><td>NA        </td><td>NA        </td><td>NA        </td><td>NA        </td></tr>\n",
       "\t<tr><td>75963286  </td><td>NA        </td><td>25000     </td><td>25000     </td><td>25000     </td><td> 36 months</td><td>  5.32%   </td><td>752.87    </td><td>A         </td><td>A1        </td><td>...       </td><td>NA        </td><td>NA        </td><td>NA        </td><td>NA        </td><td>NA        </td><td>NA        </td><td>NA        </td><td>NA        </td><td>NA        </td><td>NA        </td></tr>\n",
       "\t<tr><td>76113668  </td><td>NA        </td><td> 7025     </td><td> 7025     </td><td> 7025     </td><td> 36 months</td><td> 12.99%   </td><td>236.67    </td><td>C         </td><td>C2        </td><td>...       </td><td>NA        </td><td>NA        </td><td>NA        </td><td>NA        </td><td>NA        </td><td>NA        </td><td>NA        </td><td>NA        </td><td>NA        </td><td>NA        </td></tr>\n",
       "\t<tr><td>76143234  </td><td>NA        </td><td> 8000     </td><td> 8000     </td><td> 8000     </td><td> 36 months</td><td> 10.75%   </td><td>260.97    </td><td>B         </td><td>B4        </td><td>...       </td><td>NA        </td><td>NA        </td><td>NA        </td><td>NA        </td><td>NA        </td><td>NA        </td><td>NA        </td><td>NA        </td><td>NA        </td><td>NA        </td></tr>\n",
       "\t<tr><td>76052683  </td><td>NA        </td><td>15000     </td><td>15000     </td><td>15000     </td><td> 60 months</td><td>  9.16%   </td><td>312.55    </td><td>B         </td><td>B2        </td><td>...       </td><td>NA        </td><td>NA        </td><td>NA        </td><td>NA        </td><td>NA        </td><td>NA        </td><td>NA        </td><td>NA        </td><td>NA        </td><td>NA        </td></tr>\n",
       "\t<tr><td>75779547  </td><td>NA        </td><td>10000     </td><td>10000     </td><td>10000     </td><td> 36 months</td><td>  6.49%   </td><td>306.45    </td><td>A         </td><td>A2        </td><td>...       </td><td>NA        </td><td>NA        </td><td>NA        </td><td>NA        </td><td>NA        </td><td>NA        </td><td>NA        </td><td>NA        </td><td>NA        </td><td>NA        </td></tr>\n",
       "\t<tr><td>75387867  </td><td>NA        </td><td> 8400     </td><td> 8400     </td><td> 8400     </td><td> 36 months</td><td> 13.67%   </td><td>285.75    </td><td>C         </td><td>C3        </td><td>...       </td><td>NA        </td><td>NA        </td><td>NA        </td><td>NA        </td><td>NA        </td><td>NA        </td><td>NA        </td><td>NA        </td><td>NA        </td><td>NA        </td></tr>\n",
       "\t<tr><td>75911265  </td><td>NA        </td><td> 6400     </td><td> 6400     </td><td> 6400     </td><td> 36 months</td><td> 11.47%   </td><td>210.96    </td><td>B         </td><td>B5        </td><td>...       </td><td>NA        </td><td>NA        </td><td>NA        </td><td>NA        </td><td>NA        </td><td>NA        </td><td>NA        </td><td>NA        </td><td>NA        </td><td>NA        </td></tr>\n",
       "\t<tr><td>76042301  </td><td>NA        </td><td>24000     </td><td>24000     </td><td>24000     </td><td> 36 months</td><td>  9.75%   </td><td>771.60    </td><td>B         </td><td>B3        </td><td>...       </td><td>NA        </td><td>NA        </td><td>NA        </td><td>NA        </td><td>NA        </td><td>NA        </td><td>NA        </td><td>NA        </td><td>NA        </td><td>NA        </td></tr>\n",
       "\t<tr><td>76092999  </td><td>NA        </td><td> 8425     </td><td> 8425     </td><td> 8425     </td><td> 36 months</td><td> 15.31%   </td><td>293.34    </td><td>C         </td><td>C5        </td><td>...       </td><td>NA        </td><td>NA        </td><td>NA        </td><td>NA        </td><td>NA        </td><td>NA        </td><td>NA        </td><td>NA        </td><td>NA        </td><td>NA        </td></tr>\n",
       "\t<tr><td>75587478  </td><td>NA        </td><td>13500     </td><td>13500     </td><td>13500     </td><td> 36 months</td><td>  5.32%   </td><td>406.55    </td><td>A         </td><td>A1        </td><td>...       </td><td>NA        </td><td>NA        </td><td>NA        </td><td>NA        </td><td>NA        </td><td>NA        </td><td>NA        </td><td>NA        </td><td>NA        </td><td>NA        </td></tr>\n",
       "\t<tr><td>75740571  </td><td>NA        </td><td> 5000     </td><td> 5000     </td><td> 5000     </td><td> 36 months</td><td>  9.75%   </td><td>160.75    </td><td>B         </td><td>B3        </td><td>...       </td><td>NA        </td><td>NA        </td><td>NA        </td><td>NA        </td><td>NA        </td><td>NA        </td><td>NA        </td><td>NA        </td><td>NA        </td><td>NA        </td></tr>\n",
       "\t<tr><td>76153758  </td><td>NA        </td><td> 8075     </td><td> 8075     </td><td> 8075     </td><td> 36 months</td><td>  8.39%   </td><td>254.50    </td><td>B         </td><td>B1        </td><td>...       </td><td>NA        </td><td>NA        </td><td>NA        </td><td>NA        </td><td>NA        </td><td>NA        </td><td>NA        </td><td>NA        </td><td>NA        </td><td>NA        </td></tr>\n",
       "\t<tr><td>76111475  </td><td>NA        </td><td>16000     </td><td>16000     </td><td>16000     </td><td> 60 months</td><td> 14.46%   </td><td>376.12    </td><td>C         </td><td>C4        </td><td>...       </td><td>NA        </td><td>NA        </td><td>NA        </td><td>NA        </td><td>NA        </td><td>NA        </td><td>NA        </td><td>NA        </td><td>NA        </td><td>NA        </td></tr>\n",
       "\t<tr><td>76133052  </td><td>NA        </td><td> 7125     </td><td> 7125     </td><td> 7125     </td><td> 36 months</td><td> 13.67%   </td><td>242.38    </td><td>C         </td><td>C3        </td><td>...       </td><td>NA        </td><td>NA        </td><td>NA        </td><td>NA        </td><td>NA        </td><td>NA        </td><td>NA        </td><td>NA        </td><td>NA        </td><td>NA        </td></tr>\n",
       "\t<tr><td>76121773  </td><td>NA        </td><td>16000     </td><td>16000     </td><td>16000     </td><td> 36 months</td><td>  5.32%   </td><td>481.84    </td><td>A         </td><td>A1        </td><td>...       </td><td>NA        </td><td>NA        </td><td>NA        </td><td>NA        </td><td>NA        </td><td>NA        </td><td>NA        </td><td>NA        </td><td>NA        </td><td>NA        </td></tr>\n",
       "\t<tr><td>75151243  </td><td>NA        </td><td> 2650     </td><td> 2650     </td><td> 2650     </td><td> 36 months</td><td> 11.47%   </td><td> 87.35    </td><td>B         </td><td>B5        </td><td>...       </td><td>NA        </td><td>NA        </td><td>NA        </td><td>NA        </td><td>NA        </td><td>NA        </td><td>NA        </td><td>NA        </td><td>NA        </td><td>NA        </td></tr>\n",
       "\t<tr><td>76152329  </td><td>NA        </td><td>20000     </td><td>20000     </td><td>20000     </td><td> 36 months</td><td>  8.39%   </td><td>630.34    </td><td>B         </td><td>B1        </td><td>...       </td><td>NA        </td><td>NA        </td><td>NA        </td><td>NA        </td><td>NA        </td><td>NA        </td><td>NA        </td><td>NA        </td><td>NA        </td><td>NA        </td></tr>\n",
       "\t<tr><td>75879932  </td><td>NA        </td><td> 3000     </td><td> 3000     </td><td> 3000     </td><td> 36 months</td><td> 11.47%   </td><td> 98.89    </td><td>B         </td><td>B5        </td><td>...       </td><td>NA        </td><td>NA        </td><td>NA        </td><td>NA        </td><td>NA        </td><td>NA        </td><td>NA        </td><td>NA        </td><td>NA        </td><td>NA        </td></tr>\n",
       "\t<tr><td>75659952  </td><td>NA        </td><td>21125     </td><td>21125     </td><td>21125     </td><td> 60 months</td><td> 11.99%   </td><td>469.81    </td><td>C         </td><td>C1        </td><td>...       </td><td>NA        </td><td>NA        </td><td>NA        </td><td>NA        </td><td>NA        </td><td>NA        </td><td>NA        </td><td>NA        </td><td>NA        </td><td>NA        </td></tr>\n",
       "\t<tr><td>...</td><td>...</td><td>...</td><td>...</td><td>...</td><td>...</td><td>...</td><td>...</td><td>...</td><td>...</td><td>   </td><td>...</td><td>...</td><td>...</td><td>...</td><td>...</td><td>...</td><td>...</td><td>...</td><td>...</td><td>...</td></tr>\n",
       "\t<tr><td>66472917  </td><td>NA        </td><td>15000     </td><td>15000     </td><td>15000     </td><td> 36 months</td><td>  7.89%   </td><td> 469.29   </td><td>A         </td><td>A5        </td><td>...       </td><td>NA        </td><td>NA        </td><td>NA        </td><td>NA        </td><td>NA        </td><td>NA        </td><td>NA        </td><td>NA        </td><td>NA        </td><td>NA        </td></tr>\n",
       "\t<tr><td>66444826  </td><td>NA        </td><td>19000     </td><td>19000     </td><td>18750     </td><td> 36 months</td><td> 11.99%   </td><td> 630.99   </td><td>C         </td><td>C1        </td><td>...       </td><td>NA        </td><td>NA        </td><td>NA        </td><td>NA        </td><td>NA        </td><td>NA        </td><td>NA        </td><td>NA        </td><td>NA        </td><td>NA        </td></tr>\n",
       "\t<tr><td>66545300  </td><td>NA        </td><td>15000     </td><td>15000     </td><td>15000     </td><td> 36 months</td><td>  6.89%   </td><td> 462.41   </td><td>A         </td><td>A3        </td><td>...       </td><td>NA        </td><td>NA        </td><td>NA        </td><td>NA        </td><td>NA        </td><td>NA        </td><td>NA        </td><td>NA        </td><td>NA        </td><td>NA        </td></tr>\n",
       "\t<tr><td>66634609  </td><td>NA        </td><td>11000     </td><td>11000     </td><td>11000     </td><td> 36 months</td><td>  9.17%   </td><td> 350.67   </td><td>B         </td><td>B2        </td><td>...       </td><td>NA        </td><td>NA        </td><td>NA        </td><td>NA        </td><td>NA        </td><td>NA        </td><td>NA        </td><td>NA        </td><td>NA        </td><td>NA        </td></tr>\n",
       "\t<tr><td>66444535  </td><td>NA        </td><td>10000     </td><td>10000     </td><td>10000     </td><td> 36 months</td><td> 11.22%   </td><td> 328.43   </td><td>B         </td><td>B5        </td><td>...       </td><td>NA        </td><td>NA        </td><td>NA        </td><td>NA        </td><td>NA        </td><td>NA        </td><td>NA        </td><td>NA        </td><td>NA        </td><td>NA        </td></tr>\n",
       "\t<tr><td>66563812  </td><td>NA        </td><td> 6000     </td><td> 6000     </td><td> 6000     </td><td> 36 months</td><td> 11.99%   </td><td> 199.26   </td><td>C         </td><td>C1        </td><td>...       </td><td>NA        </td><td>NA        </td><td>NA        </td><td>NA        </td><td>NA        </td><td>NA        </td><td>NA        </td><td>NA        </td><td>NA        </td><td>NA        </td></tr>\n",
       "\t<tr><td>66643445  </td><td>NA        </td><td> 4500     </td><td> 4500     </td><td> 4500     </td><td> 36 months</td><td>  9.76%   </td><td> 144.70   </td><td>B         </td><td>B3        </td><td>...       </td><td>NA        </td><td>NA        </td><td>NA        </td><td>NA        </td><td>NA        </td><td>NA        </td><td>NA        </td><td>NA        </td><td>NA        </td><td>NA        </td></tr>\n",
       "\t<tr><td>66623289  </td><td>NA        </td><td> 7500     </td><td> 7500     </td><td> 7500     </td><td> 36 months</td><td>  9.76%   </td><td> 241.16   </td><td>B         </td><td>B3        </td><td>...       </td><td>NA        </td><td>NA        </td><td>NA        </td><td>NA        </td><td>NA        </td><td>NA        </td><td>NA        </td><td>NA        </td><td>NA        </td><td>NA        </td></tr>\n",
       "\t<tr><td>66453994  </td><td>NA        </td><td>34000     </td><td>34000     </td><td>34000     </td><td> 36 months</td><td>  9.76%   </td><td>1093.26   </td><td>B         </td><td>B3        </td><td>...       </td><td>NA        </td><td>NA        </td><td>NA        </td><td>NA        </td><td>NA        </td><td>NA        </td><td>NA        </td><td>NA        </td><td>NA        </td><td>NA        </td></tr>\n",
       "\t<tr><td>66523229  </td><td>NA        </td><td>16800     </td><td>16800     </td><td>16800     </td><td> 36 months</td><td>  7.26%   </td><td> 520.74   </td><td>A         </td><td>A4        </td><td>...       </td><td>NA        </td><td>NA        </td><td>NA        </td><td>NA        </td><td>NA        </td><td>NA        </td><td>NA        </td><td>NA        </td><td>NA        </td><td>NA        </td></tr>\n",
       "\t<tr><td>66541817  </td><td>NA        </td><td> 8500     </td><td> 8500     </td><td> 8500     </td><td> 36 months</td><td> 13.18%   </td><td> 287.14   </td><td>C         </td><td>C3        </td><td>...       </td><td>NA        </td><td>NA        </td><td>NA        </td><td>NA        </td><td>NA        </td><td>NA        </td><td>NA        </td><td>NA        </td><td>NA        </td><td>NA        </td></tr>\n",
       "\t<tr><td>65792205  </td><td>NA        </td><td>35000     </td><td>35000     </td><td>35000     </td><td> 60 months</td><td> 18.99%   </td><td> 907.73   </td><td>E         </td><td>E3        </td><td>...       </td><td>NA        </td><td>NA        </td><td>NA        </td><td>NA        </td><td>NA        </td><td>NA        </td><td>NA        </td><td>NA        </td><td>NA        </td><td>NA        </td></tr>\n",
       "\t<tr><td>66442993  </td><td>NA        </td><td>25000     </td><td>25000     </td><td>24800     </td><td> 36 months</td><td> 18.99%   </td><td> 916.28   </td><td>E         </td><td>E3        </td><td>...       </td><td>NA        </td><td>NA        </td><td>NA        </td><td>NA        </td><td>NA        </td><td>NA        </td><td>NA        </td><td>NA        </td><td>NA        </td><td>NA        </td></tr>\n",
       "\t<tr><td>66532821  </td><td>NA        </td><td>12600     </td><td>12600     </td><td>12600     </td><td> 60 months</td><td> 18.99%   </td><td> 326.79   </td><td>E         </td><td>E3        </td><td>...       </td><td>NA        </td><td>NA        </td><td>NA        </td><td>NA        </td><td>NA        </td><td>NA        </td><td>NA        </td><td>NA        </td><td>NA        </td><td>NA        </td></tr>\n",
       "\t<tr><td>66602737  </td><td>NA        </td><td>12000     </td><td>12000     </td><td>12000     </td><td> 36 months</td><td>  9.76%   </td><td> 385.86   </td><td>B         </td><td>B3        </td><td>...       </td><td>NA        </td><td>NA        </td><td>NA        </td><td>NA        </td><td>NA        </td><td>NA        </td><td>NA        </td><td>NA        </td><td>NA        </td><td>NA        </td></tr>\n",
       "\t<tr><td>66453496  </td><td>NA        </td><td> 5000     </td><td> 5000     </td><td> 5000     </td><td> 36 months</td><td> 13.18%   </td><td> 168.91   </td><td>C         </td><td>C3        </td><td>...       </td><td>NA        </td><td>NA        </td><td>NA        </td><td>NA        </td><td>NA        </td><td>NA        </td><td>NA        </td><td>NA        </td><td>NA        </td><td>NA        </td></tr>\n",
       "\t<tr><td>66492137  </td><td>NA        </td><td> 5000     </td><td> 5000     </td><td> 5000     </td><td> 36 months</td><td> 15.41%   </td><td> 174.34   </td><td>D         </td><td>D1        </td><td>...       </td><td>NA        </td><td>NA        </td><td>NA        </td><td>NA        </td><td>NA        </td><td>NA        </td><td>NA        </td><td>NA        </td><td>NA        </td><td>NA        </td></tr>\n",
       "\t<tr><td>66450446  </td><td>NA        </td><td>12950     </td><td>12950     </td><td>12950     </td><td> 36 months</td><td> 15.41%   </td><td> 451.53   </td><td>D         </td><td>D1        </td><td>...       </td><td>NA        </td><td>NA        </td><td>NA        </td><td>NA        </td><td>NA        </td><td>NA        </td><td>NA        </td><td>NA        </td><td>NA        </td><td>NA        </td></tr>\n",
       "\t<tr><td>65374128  </td><td>NA        </td><td>21175     </td><td>21175     </td><td>20925     </td><td> 60 months</td><td> 19.99%   </td><td> 560.90   </td><td>E         </td><td>E4        </td><td>...       </td><td>NA        </td><td>NA        </td><td>NA        </td><td>NA        </td><td>NA        </td><td>NA        </td><td>NA        </td><td>NA        </td><td>NA        </td><td>NA        </td></tr>\n",
       "\t<tr><td>66422233  </td><td>NA        </td><td>24000     </td><td>24000     </td><td>24000     </td><td> 36 months</td><td>  5.32%   </td><td> 722.76   </td><td>A         </td><td>A1        </td><td>...       </td><td>NA        </td><td>NA        </td><td>NA        </td><td>NA        </td><td>NA        </td><td>NA        </td><td>NA        </td><td>NA        </td><td>NA        </td><td>NA        </td></tr>\n",
       "\t<tr><td>66501924  </td><td>NA        </td><td> 6000     </td><td> 6000     </td><td> 6000     </td><td> 36 months</td><td> 13.67%   </td><td> 204.11   </td><td>C         </td><td>C4        </td><td>...       </td><td>NA        </td><td>NA        </td><td>NA        </td><td>NA        </td><td>NA        </td><td>NA        </td><td>NA        </td><td>NA        </td><td>NA        </td><td>NA        </td></tr>\n",
       "\t<tr><td>65855145  </td><td>NA        </td><td> 6000     </td><td> 6000     </td><td> 6000     </td><td> 36 months</td><td> 26.77%   </td><td> 244.22   </td><td>G         </td><td>G1        </td><td>...       </td><td>NA        </td><td>NA        </td><td>NA        </td><td>NA        </td><td>NA        </td><td>NA        </td><td>NA        </td><td>NA        </td><td>NA        </td><td>NA        </td></tr>\n",
       "\t<tr><td>66421505  </td><td>NA        </td><td>24100     </td><td>24100     </td><td>24100     </td><td> 60 months</td><td> 18.49%   </td><td> 618.43   </td><td>E         </td><td>E2        </td><td>...       </td><td>NA        </td><td>NA        </td><td>NA        </td><td>NA        </td><td>NA        </td><td>NA        </td><td>NA        </td><td>NA        </td><td>NA        </td><td>NA        </td></tr>\n",
       "\t<tr><td>66601274  </td><td>NA        </td><td> 4000     </td><td> 4000     </td><td> 4000     </td><td> 36 months</td><td>  9.17%   </td><td> 127.52   </td><td>B         </td><td>B2        </td><td>...       </td><td>NA        </td><td>NA        </td><td>NA        </td><td>NA        </td><td>NA        </td><td>NA        </td><td>NA        </td><td>NA        </td><td>NA        </td><td>NA        </td></tr>\n",
       "\t<tr><td>66390905  </td><td>NA        </td><td> 5000     </td><td> 5000     </td><td> 5000     </td><td> 36 months</td><td>  9.17%   </td><td> 159.40   </td><td>B         </td><td>B2        </td><td>...       </td><td>NA        </td><td>NA        </td><td>NA        </td><td>NA        </td><td>NA        </td><td>NA        </td><td>NA        </td><td>NA        </td><td>NA        </td><td>NA        </td></tr>\n",
       "\t<tr><td>65854936  </td><td>NA        </td><td> 6000     </td><td> 6000     </td><td> 6000     </td><td> 36 months</td><td>  7.89%   </td><td> 187.72   </td><td>A         </td><td>A5        </td><td>...       </td><td>NA        </td><td>NA        </td><td>NA        </td><td>NA        </td><td>NA        </td><td>NA        </td><td>NA        </td><td>NA        </td><td>NA        </td><td>NA        </td></tr>\n",
       "\t<tr><td>66055600  </td><td>NA        </td><td> 6000     </td><td> 6000     </td><td> 6000     </td><td> 36 months</td><td>  9.17%   </td><td> 191.28   </td><td>B         </td><td>B2        </td><td>...       </td><td>NA        </td><td>NA        </td><td>NA        </td><td>NA        </td><td>NA        </td><td>NA        </td><td>NA        </td><td>NA        </td><td>NA        </td><td>NA        </td></tr>\n",
       "\t<tr><td>66141895  </td><td>NA        </td><td>14400     </td><td>14400     </td><td>14400     </td><td> 60 months</td><td> 13.18%   </td><td> 328.98   </td><td>C         </td><td>C3        </td><td>...       </td><td>NA        </td><td>NA        </td><td>NA        </td><td>NA        </td><td>NA        </td><td>NA        </td><td>NA        </td><td>NA        </td><td>NA        </td><td>NA        </td></tr>\n",
       "\t<tr><td>65673209  </td><td>NA        </td><td>34050     </td><td>34050     </td><td>34050     </td><td> 36 months</td><td> 15.41%   </td><td>1187.21   </td><td>D         </td><td>D1        </td><td>...       </td><td>NA        </td><td>NA        </td><td>NA        </td><td>NA        </td><td>NA        </td><td>NA        </td><td>NA        </td><td>NA        </td><td>NA        </td><td>NA        </td></tr>\n",
       "\t<tr><td>65744272  </td><td>NA        </td><td> 5000     </td><td> 5000     </td><td> 5000     </td><td> 36 months</td><td> 11.22%   </td><td> 164.22   </td><td>B         </td><td>B5        </td><td>...       </td><td>NA        </td><td>NA        </td><td>NA        </td><td>NA        </td><td>NA        </td><td>NA        </td><td>NA        </td><td>NA        </td><td>NA        </td><td>NA        </td></tr>\n",
       "</tbody>\n",
       "</table>\n"
      ],
      "text/latex": [
       "\\begin{tabular}{r|llllllllllllllllllllllllllllllllllllllllllllllllllllllllllllllllllllllllllllllllllllllllllllllllllllllllllllllllllllllllllllllll}\n",
       " id & member\\_id & loan\\_amnt & funded\\_amnt & funded\\_amnt\\_inv & term & int\\_rate & installment & grade & sub\\_grade & ... & sec\\_app\\_earliest\\_cr\\_line & sec\\_app\\_inq\\_last\\_6mths & sec\\_app\\_mort\\_acc & sec\\_app\\_open\\_acc & sec\\_app\\_revol\\_util & sec\\_app\\_open\\_il\\_6m & sec\\_app\\_num\\_rev\\_accts & sec\\_app\\_chargeoff\\_within\\_12\\_mths & sec\\_app\\_collections\\_12\\_mths\\_ex\\_med & sec\\_app\\_mths\\_since\\_last\\_major\\_derog\\\\\n",
       "\\hline\n",
       "\t 76153534   & NA         & 28000      & 28000      & 28000      &  36 months &   6.49\\%  & 858.05     & A          & A2         & ...        & NA         & NA         & NA         & NA         & NA         & NA         & NA         & NA         & NA         & NA        \\\\\n",
       "\t 76153691   & NA         &  7200      &  7200      &  7200      &  36 months &   8.39\\%  & 226.92     & B          & B1         & ...        & NA         & NA         & NA         & NA         & NA         & NA         & NA         & NA         & NA         & NA        \\\\\n",
       "\t 75993542   & NA         & 10850      & 10850      & 10850      &  36 months &  13.67\\%  & 369.10     & C          & C3         & ...        & NA         & NA         & NA         & NA         & NA         & NA         & NA         & NA         & NA         & NA        \\\\\n",
       "\t 75273614   & NA         &  2000      &  2000      &  2000      &  36 months &  28.34\\%  &  83.10     & G          & G3         & ...        & NA         & NA         & NA         & NA         & NA         & NA         & NA         & NA         & NA         & NA        \\\\\n",
       "\t 75359225   & NA         & 20000      & 20000      & 20000      &  36 months &   5.32\\%  & 602.30     & A          & A1         & ...        & NA         & NA         & NA         & NA         & NA         & NA         & NA         & NA         & NA         & NA        \\\\\n",
       "\t 74805010   & NA         &  3000      &  3000      &  3000      &  36 months &   9.75\\%  &  96.45     & B          & B3         & ...        & NA         & NA         & NA         & NA         & NA         & NA         & NA         & NA         & NA         & NA        \\\\\n",
       "\t 76042475   & NA         &  6000      &  6000      &  6000      &  36 months &  10.75\\%  & 195.73     & B          & B4         & ...        & NA         & NA         & NA         & NA         & NA         & NA         & NA         & NA         & NA         & NA        \\\\\n",
       "\t 75061834   & NA         & 20000      & 20000      & 20000      &  36 months &  11.47\\%  & 659.24     & B          & B5         & ...        & NA         & NA         & NA         & NA         & NA         & NA         & NA         & NA         & NA         & NA        \\\\\n",
       "\t 75933549   & NA         & 24000      & 24000      & 24000      &  60 months &  19.53\\%  & 629.60     & D          & D5         & ...        & NA         & NA         & NA         & NA         & NA         & NA         & NA         & NA         & NA         & NA        \\\\\n",
       "\t 76143686   & NA         &  9000      &  9000      &  9000      &  36 months &  15.31\\%  & 313.36     & C          & C5         & ...        & NA         & NA         & NA         & NA         & NA         & NA         & NA         & NA         & NA         & NA        \\\\\n",
       "\t 74523825   & NA         & 12000      & 12000      & 12000      &  60 months &  11.47\\%  & 263.74     & B          & B5         & ...        & NA         & NA         & NA         & NA         & NA         & NA         & NA         & NA         & NA         & NA        \\\\\n",
       "\t 75963286   & NA         & 25000      & 25000      & 25000      &  36 months &   5.32\\%  & 752.87     & A          & A1         & ...        & NA         & NA         & NA         & NA         & NA         & NA         & NA         & NA         & NA         & NA        \\\\\n",
       "\t 76113668   & NA         &  7025      &  7025      &  7025      &  36 months &  12.99\\%  & 236.67     & C          & C2         & ...        & NA         & NA         & NA         & NA         & NA         & NA         & NA         & NA         & NA         & NA        \\\\\n",
       "\t 76143234   & NA         &  8000      &  8000      &  8000      &  36 months &  10.75\\%  & 260.97     & B          & B4         & ...        & NA         & NA         & NA         & NA         & NA         & NA         & NA         & NA         & NA         & NA        \\\\\n",
       "\t 76052683   & NA         & 15000      & 15000      & 15000      &  60 months &   9.16\\%  & 312.55     & B          & B2         & ...        & NA         & NA         & NA         & NA         & NA         & NA         & NA         & NA         & NA         & NA        \\\\\n",
       "\t 75779547   & NA         & 10000      & 10000      & 10000      &  36 months &   6.49\\%  & 306.45     & A          & A2         & ...        & NA         & NA         & NA         & NA         & NA         & NA         & NA         & NA         & NA         & NA        \\\\\n",
       "\t 75387867   & NA         &  8400      &  8400      &  8400      &  36 months &  13.67\\%  & 285.75     & C          & C3         & ...        & NA         & NA         & NA         & NA         & NA         & NA         & NA         & NA         & NA         & NA        \\\\\n",
       "\t 75911265   & NA         &  6400      &  6400      &  6400      &  36 months &  11.47\\%  & 210.96     & B          & B5         & ...        & NA         & NA         & NA         & NA         & NA         & NA         & NA         & NA         & NA         & NA        \\\\\n",
       "\t 76042301   & NA         & 24000      & 24000      & 24000      &  36 months &   9.75\\%  & 771.60     & B          & B3         & ...        & NA         & NA         & NA         & NA         & NA         & NA         & NA         & NA         & NA         & NA        \\\\\n",
       "\t 76092999   & NA         &  8425      &  8425      &  8425      &  36 months &  15.31\\%  & 293.34     & C          & C5         & ...        & NA         & NA         & NA         & NA         & NA         & NA         & NA         & NA         & NA         & NA        \\\\\n",
       "\t 75587478   & NA         & 13500      & 13500      & 13500      &  36 months &   5.32\\%  & 406.55     & A          & A1         & ...        & NA         & NA         & NA         & NA         & NA         & NA         & NA         & NA         & NA         & NA        \\\\\n",
       "\t 75740571   & NA         &  5000      &  5000      &  5000      &  36 months &   9.75\\%  & 160.75     & B          & B3         & ...        & NA         & NA         & NA         & NA         & NA         & NA         & NA         & NA         & NA         & NA        \\\\\n",
       "\t 76153758   & NA         &  8075      &  8075      &  8075      &  36 months &   8.39\\%  & 254.50     & B          & B1         & ...        & NA         & NA         & NA         & NA         & NA         & NA         & NA         & NA         & NA         & NA        \\\\\n",
       "\t 76111475   & NA         & 16000      & 16000      & 16000      &  60 months &  14.46\\%  & 376.12     & C          & C4         & ...        & NA         & NA         & NA         & NA         & NA         & NA         & NA         & NA         & NA         & NA        \\\\\n",
       "\t 76133052   & NA         &  7125      &  7125      &  7125      &  36 months &  13.67\\%  & 242.38     & C          & C3         & ...        & NA         & NA         & NA         & NA         & NA         & NA         & NA         & NA         & NA         & NA        \\\\\n",
       "\t 76121773   & NA         & 16000      & 16000      & 16000      &  36 months &   5.32\\%  & 481.84     & A          & A1         & ...        & NA         & NA         & NA         & NA         & NA         & NA         & NA         & NA         & NA         & NA        \\\\\n",
       "\t 75151243   & NA         &  2650      &  2650      &  2650      &  36 months &  11.47\\%  &  87.35     & B          & B5         & ...        & NA         & NA         & NA         & NA         & NA         & NA         & NA         & NA         & NA         & NA        \\\\\n",
       "\t 76152329   & NA         & 20000      & 20000      & 20000      &  36 months &   8.39\\%  & 630.34     & B          & B1         & ...        & NA         & NA         & NA         & NA         & NA         & NA         & NA         & NA         & NA         & NA        \\\\\n",
       "\t 75879932   & NA         &  3000      &  3000      &  3000      &  36 months &  11.47\\%  &  98.89     & B          & B5         & ...        & NA         & NA         & NA         & NA         & NA         & NA         & NA         & NA         & NA         & NA        \\\\\n",
       "\t 75659952   & NA         & 21125      & 21125      & 21125      &  60 months &  11.99\\%  & 469.81     & C          & C1         & ...        & NA         & NA         & NA         & NA         & NA         & NA         & NA         & NA         & NA         & NA        \\\\\n",
       "\t ... & ... & ... & ... & ... & ... & ... & ... & ... & ... &     & ... & ... & ... & ... & ... & ... & ... & ... & ... & ...\\\\\n",
       "\t 66472917   & NA         & 15000      & 15000      & 15000      &  36 months &   7.89\\%  &  469.29    & A          & A5         & ...        & NA         & NA         & NA         & NA         & NA         & NA         & NA         & NA         & NA         & NA        \\\\\n",
       "\t 66444826   & NA         & 19000      & 19000      & 18750      &  36 months &  11.99\\%  &  630.99    & C          & C1         & ...        & NA         & NA         & NA         & NA         & NA         & NA         & NA         & NA         & NA         & NA        \\\\\n",
       "\t 66545300   & NA         & 15000      & 15000      & 15000      &  36 months &   6.89\\%  &  462.41    & A          & A3         & ...        & NA         & NA         & NA         & NA         & NA         & NA         & NA         & NA         & NA         & NA        \\\\\n",
       "\t 66634609   & NA         & 11000      & 11000      & 11000      &  36 months &   9.17\\%  &  350.67    & B          & B2         & ...        & NA         & NA         & NA         & NA         & NA         & NA         & NA         & NA         & NA         & NA        \\\\\n",
       "\t 66444535   & NA         & 10000      & 10000      & 10000      &  36 months &  11.22\\%  &  328.43    & B          & B5         & ...        & NA         & NA         & NA         & NA         & NA         & NA         & NA         & NA         & NA         & NA        \\\\\n",
       "\t 66563812   & NA         &  6000      &  6000      &  6000      &  36 months &  11.99\\%  &  199.26    & C          & C1         & ...        & NA         & NA         & NA         & NA         & NA         & NA         & NA         & NA         & NA         & NA        \\\\\n",
       "\t 66643445   & NA         &  4500      &  4500      &  4500      &  36 months &   9.76\\%  &  144.70    & B          & B3         & ...        & NA         & NA         & NA         & NA         & NA         & NA         & NA         & NA         & NA         & NA        \\\\\n",
       "\t 66623289   & NA         &  7500      &  7500      &  7500      &  36 months &   9.76\\%  &  241.16    & B          & B3         & ...        & NA         & NA         & NA         & NA         & NA         & NA         & NA         & NA         & NA         & NA        \\\\\n",
       "\t 66453994   & NA         & 34000      & 34000      & 34000      &  36 months &   9.76\\%  & 1093.26    & B          & B3         & ...        & NA         & NA         & NA         & NA         & NA         & NA         & NA         & NA         & NA         & NA        \\\\\n",
       "\t 66523229   & NA         & 16800      & 16800      & 16800      &  36 months &   7.26\\%  &  520.74    & A          & A4         & ...        & NA         & NA         & NA         & NA         & NA         & NA         & NA         & NA         & NA         & NA        \\\\\n",
       "\t 66541817   & NA         &  8500      &  8500      &  8500      &  36 months &  13.18\\%  &  287.14    & C          & C3         & ...        & NA         & NA         & NA         & NA         & NA         & NA         & NA         & NA         & NA         & NA        \\\\\n",
       "\t 65792205   & NA         & 35000      & 35000      & 35000      &  60 months &  18.99\\%  &  907.73    & E          & E3         & ...        & NA         & NA         & NA         & NA         & NA         & NA         & NA         & NA         & NA         & NA        \\\\\n",
       "\t 66442993   & NA         & 25000      & 25000      & 24800      &  36 months &  18.99\\%  &  916.28    & E          & E3         & ...        & NA         & NA         & NA         & NA         & NA         & NA         & NA         & NA         & NA         & NA        \\\\\n",
       "\t 66532821   & NA         & 12600      & 12600      & 12600      &  60 months &  18.99\\%  &  326.79    & E          & E3         & ...        & NA         & NA         & NA         & NA         & NA         & NA         & NA         & NA         & NA         & NA        \\\\\n",
       "\t 66602737   & NA         & 12000      & 12000      & 12000      &  36 months &   9.76\\%  &  385.86    & B          & B3         & ...        & NA         & NA         & NA         & NA         & NA         & NA         & NA         & NA         & NA         & NA        \\\\\n",
       "\t 66453496   & NA         &  5000      &  5000      &  5000      &  36 months &  13.18\\%  &  168.91    & C          & C3         & ...        & NA         & NA         & NA         & NA         & NA         & NA         & NA         & NA         & NA         & NA        \\\\\n",
       "\t 66492137   & NA         &  5000      &  5000      &  5000      &  36 months &  15.41\\%  &  174.34    & D          & D1         & ...        & NA         & NA         & NA         & NA         & NA         & NA         & NA         & NA         & NA         & NA        \\\\\n",
       "\t 66450446   & NA         & 12950      & 12950      & 12950      &  36 months &  15.41\\%  &  451.53    & D          & D1         & ...        & NA         & NA         & NA         & NA         & NA         & NA         & NA         & NA         & NA         & NA        \\\\\n",
       "\t 65374128   & NA         & 21175      & 21175      & 20925      &  60 months &  19.99\\%  &  560.90    & E          & E4         & ...        & NA         & NA         & NA         & NA         & NA         & NA         & NA         & NA         & NA         & NA        \\\\\n",
       "\t 66422233   & NA         & 24000      & 24000      & 24000      &  36 months &   5.32\\%  &  722.76    & A          & A1         & ...        & NA         & NA         & NA         & NA         & NA         & NA         & NA         & NA         & NA         & NA        \\\\\n",
       "\t 66501924   & NA         &  6000      &  6000      &  6000      &  36 months &  13.67\\%  &  204.11    & C          & C4         & ...        & NA         & NA         & NA         & NA         & NA         & NA         & NA         & NA         & NA         & NA        \\\\\n",
       "\t 65855145   & NA         &  6000      &  6000      &  6000      &  36 months &  26.77\\%  &  244.22    & G          & G1         & ...        & NA         & NA         & NA         & NA         & NA         & NA         & NA         & NA         & NA         & NA        \\\\\n",
       "\t 66421505   & NA         & 24100      & 24100      & 24100      &  60 months &  18.49\\%  &  618.43    & E          & E2         & ...        & NA         & NA         & NA         & NA         & NA         & NA         & NA         & NA         & NA         & NA        \\\\\n",
       "\t 66601274   & NA         &  4000      &  4000      &  4000      &  36 months &   9.17\\%  &  127.52    & B          & B2         & ...        & NA         & NA         & NA         & NA         & NA         & NA         & NA         & NA         & NA         & NA        \\\\\n",
       "\t 66390905   & NA         &  5000      &  5000      &  5000      &  36 months &   9.17\\%  &  159.40    & B          & B2         & ...        & NA         & NA         & NA         & NA         & NA         & NA         & NA         & NA         & NA         & NA        \\\\\n",
       "\t 65854936   & NA         &  6000      &  6000      &  6000      &  36 months &   7.89\\%  &  187.72    & A          & A5         & ...        & NA         & NA         & NA         & NA         & NA         & NA         & NA         & NA         & NA         & NA        \\\\\n",
       "\t 66055600   & NA         &  6000      &  6000      &  6000      &  36 months &   9.17\\%  &  191.28    & B          & B2         & ...        & NA         & NA         & NA         & NA         & NA         & NA         & NA         & NA         & NA         & NA        \\\\\n",
       "\t 66141895   & NA         & 14400      & 14400      & 14400      &  60 months &  13.18\\%  &  328.98    & C          & C3         & ...        & NA         & NA         & NA         & NA         & NA         & NA         & NA         & NA         & NA         & NA        \\\\\n",
       "\t 65673209   & NA         & 34050      & 34050      & 34050      &  36 months &  15.41\\%  & 1187.21    & D          & D1         & ...        & NA         & NA         & NA         & NA         & NA         & NA         & NA         & NA         & NA         & NA        \\\\\n",
       "\t 65744272   & NA         &  5000      &  5000      &  5000      &  36 months &  11.22\\%  &  164.22    & B          & B5         & ...        & NA         & NA         & NA         & NA         & NA         & NA         & NA         & NA         & NA         & NA        \\\\\n",
       "\\end{tabular}\n"
      ],
      "text/markdown": [
       "\n",
       "id | member_id | loan_amnt | funded_amnt | funded_amnt_inv | term | int_rate | installment | grade | sub_grade | ... | sec_app_earliest_cr_line | sec_app_inq_last_6mths | sec_app_mort_acc | sec_app_open_acc | sec_app_revol_util | sec_app_open_il_6m | sec_app_num_rev_accts | sec_app_chargeoff_within_12_mths | sec_app_collections_12_mths_ex_med | sec_app_mths_since_last_major_derog | \n",
       "|---|---|---|---|---|---|---|---|---|---|---|---|---|---|---|---|---|---|---|---|---|---|---|---|---|---|---|---|---|---|---|---|---|---|---|---|---|---|---|---|---|---|---|---|---|---|---|---|---|---|---|---|---|---|---|---|---|---|---|---|---|\n",
       "| 76153534   | NA         | 28000      | 28000      | 28000      |  36 months |   6.49%    | 858.05     | A          | A2         | ...        | NA         | NA         | NA         | NA         | NA         | NA         | NA         | NA         | NA         | NA         | \n",
       "| 76153691   | NA         |  7200      |  7200      |  7200      |  36 months |   8.39%    | 226.92     | B          | B1         | ...        | NA         | NA         | NA         | NA         | NA         | NA         | NA         | NA         | NA         | NA         | \n",
       "| 75993542   | NA         | 10850      | 10850      | 10850      |  36 months |  13.67%    | 369.10     | C          | C3         | ...        | NA         | NA         | NA         | NA         | NA         | NA         | NA         | NA         | NA         | NA         | \n",
       "| 75273614   | NA         |  2000      |  2000      |  2000      |  36 months |  28.34%    |  83.10     | G          | G3         | ...        | NA         | NA         | NA         | NA         | NA         | NA         | NA         | NA         | NA         | NA         | \n",
       "| 75359225   | NA         | 20000      | 20000      | 20000      |  36 months |   5.32%    | 602.30     | A          | A1         | ...        | NA         | NA         | NA         | NA         | NA         | NA         | NA         | NA         | NA         | NA         | \n",
       "| 74805010   | NA         |  3000      |  3000      |  3000      |  36 months |   9.75%    |  96.45     | B          | B3         | ...        | NA         | NA         | NA         | NA         | NA         | NA         | NA         | NA         | NA         | NA         | \n",
       "| 76042475   | NA         |  6000      |  6000      |  6000      |  36 months |  10.75%    | 195.73     | B          | B4         | ...        | NA         | NA         | NA         | NA         | NA         | NA         | NA         | NA         | NA         | NA         | \n",
       "| 75061834   | NA         | 20000      | 20000      | 20000      |  36 months |  11.47%    | 659.24     | B          | B5         | ...        | NA         | NA         | NA         | NA         | NA         | NA         | NA         | NA         | NA         | NA         | \n",
       "| 75933549   | NA         | 24000      | 24000      | 24000      |  60 months |  19.53%    | 629.60     | D          | D5         | ...        | NA         | NA         | NA         | NA         | NA         | NA         | NA         | NA         | NA         | NA         | \n",
       "| 76143686   | NA         |  9000      |  9000      |  9000      |  36 months |  15.31%    | 313.36     | C          | C5         | ...        | NA         | NA         | NA         | NA         | NA         | NA         | NA         | NA         | NA         | NA         | \n",
       "| 74523825   | NA         | 12000      | 12000      | 12000      |  60 months |  11.47%    | 263.74     | B          | B5         | ...        | NA         | NA         | NA         | NA         | NA         | NA         | NA         | NA         | NA         | NA         | \n",
       "| 75963286   | NA         | 25000      | 25000      | 25000      |  36 months |   5.32%    | 752.87     | A          | A1         | ...        | NA         | NA         | NA         | NA         | NA         | NA         | NA         | NA         | NA         | NA         | \n",
       "| 76113668   | NA         |  7025      |  7025      |  7025      |  36 months |  12.99%    | 236.67     | C          | C2         | ...        | NA         | NA         | NA         | NA         | NA         | NA         | NA         | NA         | NA         | NA         | \n",
       "| 76143234   | NA         |  8000      |  8000      |  8000      |  36 months |  10.75%    | 260.97     | B          | B4         | ...        | NA         | NA         | NA         | NA         | NA         | NA         | NA         | NA         | NA         | NA         | \n",
       "| 76052683   | NA         | 15000      | 15000      | 15000      |  60 months |   9.16%    | 312.55     | B          | B2         | ...        | NA         | NA         | NA         | NA         | NA         | NA         | NA         | NA         | NA         | NA         | \n",
       "| 75779547   | NA         | 10000      | 10000      | 10000      |  36 months |   6.49%    | 306.45     | A          | A2         | ...        | NA         | NA         | NA         | NA         | NA         | NA         | NA         | NA         | NA         | NA         | \n",
       "| 75387867   | NA         |  8400      |  8400      |  8400      |  36 months |  13.67%    | 285.75     | C          | C3         | ...        | NA         | NA         | NA         | NA         | NA         | NA         | NA         | NA         | NA         | NA         | \n",
       "| 75911265   | NA         |  6400      |  6400      |  6400      |  36 months |  11.47%    | 210.96     | B          | B5         | ...        | NA         | NA         | NA         | NA         | NA         | NA         | NA         | NA         | NA         | NA         | \n",
       "| 76042301   | NA         | 24000      | 24000      | 24000      |  36 months |   9.75%    | 771.60     | B          | B3         | ...        | NA         | NA         | NA         | NA         | NA         | NA         | NA         | NA         | NA         | NA         | \n",
       "| 76092999   | NA         |  8425      |  8425      |  8425      |  36 months |  15.31%    | 293.34     | C          | C5         | ...        | NA         | NA         | NA         | NA         | NA         | NA         | NA         | NA         | NA         | NA         | \n",
       "| 75587478   | NA         | 13500      | 13500      | 13500      |  36 months |   5.32%    | 406.55     | A          | A1         | ...        | NA         | NA         | NA         | NA         | NA         | NA         | NA         | NA         | NA         | NA         | \n",
       "| 75740571   | NA         |  5000      |  5000      |  5000      |  36 months |   9.75%    | 160.75     | B          | B3         | ...        | NA         | NA         | NA         | NA         | NA         | NA         | NA         | NA         | NA         | NA         | \n",
       "| 76153758   | NA         |  8075      |  8075      |  8075      |  36 months |   8.39%    | 254.50     | B          | B1         | ...        | NA         | NA         | NA         | NA         | NA         | NA         | NA         | NA         | NA         | NA         | \n",
       "| 76111475   | NA         | 16000      | 16000      | 16000      |  60 months |  14.46%    | 376.12     | C          | C4         | ...        | NA         | NA         | NA         | NA         | NA         | NA         | NA         | NA         | NA         | NA         | \n",
       "| 76133052   | NA         |  7125      |  7125      |  7125      |  36 months |  13.67%    | 242.38     | C          | C3         | ...        | NA         | NA         | NA         | NA         | NA         | NA         | NA         | NA         | NA         | NA         | \n",
       "| 76121773   | NA         | 16000      | 16000      | 16000      |  36 months |   5.32%    | 481.84     | A          | A1         | ...        | NA         | NA         | NA         | NA         | NA         | NA         | NA         | NA         | NA         | NA         | \n",
       "| 75151243   | NA         |  2650      |  2650      |  2650      |  36 months |  11.47%    |  87.35     | B          | B5         | ...        | NA         | NA         | NA         | NA         | NA         | NA         | NA         | NA         | NA         | NA         | \n",
       "| 76152329   | NA         | 20000      | 20000      | 20000      |  36 months |   8.39%    | 630.34     | B          | B1         | ...        | NA         | NA         | NA         | NA         | NA         | NA         | NA         | NA         | NA         | NA         | \n",
       "| 75879932   | NA         |  3000      |  3000      |  3000      |  36 months |  11.47%    |  98.89     | B          | B5         | ...        | NA         | NA         | NA         | NA         | NA         | NA         | NA         | NA         | NA         | NA         | \n",
       "| 75659952   | NA         | 21125      | 21125      | 21125      |  60 months |  11.99%    | 469.81     | C          | C1         | ...        | NA         | NA         | NA         | NA         | NA         | NA         | NA         | NA         | NA         | NA         | \n",
       "| ... | ... | ... | ... | ... | ... | ... | ... | ... | ... |     | ... | ... | ... | ... | ... | ... | ... | ... | ... | ... | \n",
       "| 66472917   | NA         | 15000      | 15000      | 15000      |  36 months |   7.89%    |  469.29    | A          | A5         | ...        | NA         | NA         | NA         | NA         | NA         | NA         | NA         | NA         | NA         | NA         | \n",
       "| 66444826   | NA         | 19000      | 19000      | 18750      |  36 months |  11.99%    |  630.99    | C          | C1         | ...        | NA         | NA         | NA         | NA         | NA         | NA         | NA         | NA         | NA         | NA         | \n",
       "| 66545300   | NA         | 15000      | 15000      | 15000      |  36 months |   6.89%    |  462.41    | A          | A3         | ...        | NA         | NA         | NA         | NA         | NA         | NA         | NA         | NA         | NA         | NA         | \n",
       "| 66634609   | NA         | 11000      | 11000      | 11000      |  36 months |   9.17%    |  350.67    | B          | B2         | ...        | NA         | NA         | NA         | NA         | NA         | NA         | NA         | NA         | NA         | NA         | \n",
       "| 66444535   | NA         | 10000      | 10000      | 10000      |  36 months |  11.22%    |  328.43    | B          | B5         | ...        | NA         | NA         | NA         | NA         | NA         | NA         | NA         | NA         | NA         | NA         | \n",
       "| 66563812   | NA         |  6000      |  6000      |  6000      |  36 months |  11.99%    |  199.26    | C          | C1         | ...        | NA         | NA         | NA         | NA         | NA         | NA         | NA         | NA         | NA         | NA         | \n",
       "| 66643445   | NA         |  4500      |  4500      |  4500      |  36 months |   9.76%    |  144.70    | B          | B3         | ...        | NA         | NA         | NA         | NA         | NA         | NA         | NA         | NA         | NA         | NA         | \n",
       "| 66623289   | NA         |  7500      |  7500      |  7500      |  36 months |   9.76%    |  241.16    | B          | B3         | ...        | NA         | NA         | NA         | NA         | NA         | NA         | NA         | NA         | NA         | NA         | \n",
       "| 66453994   | NA         | 34000      | 34000      | 34000      |  36 months |   9.76%    | 1093.26    | B          | B3         | ...        | NA         | NA         | NA         | NA         | NA         | NA         | NA         | NA         | NA         | NA         | \n",
       "| 66523229   | NA         | 16800      | 16800      | 16800      |  36 months |   7.26%    |  520.74    | A          | A4         | ...        | NA         | NA         | NA         | NA         | NA         | NA         | NA         | NA         | NA         | NA         | \n",
       "| 66541817   | NA         |  8500      |  8500      |  8500      |  36 months |  13.18%    |  287.14    | C          | C3         | ...        | NA         | NA         | NA         | NA         | NA         | NA         | NA         | NA         | NA         | NA         | \n",
       "| 65792205   | NA         | 35000      | 35000      | 35000      |  60 months |  18.99%    |  907.73    | E          | E3         | ...        | NA         | NA         | NA         | NA         | NA         | NA         | NA         | NA         | NA         | NA         | \n",
       "| 66442993   | NA         | 25000      | 25000      | 24800      |  36 months |  18.99%    |  916.28    | E          | E3         | ...        | NA         | NA         | NA         | NA         | NA         | NA         | NA         | NA         | NA         | NA         | \n",
       "| 66532821   | NA         | 12600      | 12600      | 12600      |  60 months |  18.99%    |  326.79    | E          | E3         | ...        | NA         | NA         | NA         | NA         | NA         | NA         | NA         | NA         | NA         | NA         | \n",
       "| 66602737   | NA         | 12000      | 12000      | 12000      |  36 months |   9.76%    |  385.86    | B          | B3         | ...        | NA         | NA         | NA         | NA         | NA         | NA         | NA         | NA         | NA         | NA         | \n",
       "| 66453496   | NA         |  5000      |  5000      |  5000      |  36 months |  13.18%    |  168.91    | C          | C3         | ...        | NA         | NA         | NA         | NA         | NA         | NA         | NA         | NA         | NA         | NA         | \n",
       "| 66492137   | NA         |  5000      |  5000      |  5000      |  36 months |  15.41%    |  174.34    | D          | D1         | ...        | NA         | NA         | NA         | NA         | NA         | NA         | NA         | NA         | NA         | NA         | \n",
       "| 66450446   | NA         | 12950      | 12950      | 12950      |  36 months |  15.41%    |  451.53    | D          | D1         | ...        | NA         | NA         | NA         | NA         | NA         | NA         | NA         | NA         | NA         | NA         | \n",
       "| 65374128   | NA         | 21175      | 21175      | 20925      |  60 months |  19.99%    |  560.90    | E          | E4         | ...        | NA         | NA         | NA         | NA         | NA         | NA         | NA         | NA         | NA         | NA         | \n",
       "| 66422233   | NA         | 24000      | 24000      | 24000      |  36 months |   5.32%    |  722.76    | A          | A1         | ...        | NA         | NA         | NA         | NA         | NA         | NA         | NA         | NA         | NA         | NA         | \n",
       "| 66501924   | NA         |  6000      |  6000      |  6000      |  36 months |  13.67%    |  204.11    | C          | C4         | ...        | NA         | NA         | NA         | NA         | NA         | NA         | NA         | NA         | NA         | NA         | \n",
       "| 65855145   | NA         |  6000      |  6000      |  6000      |  36 months |  26.77%    |  244.22    | G          | G1         | ...        | NA         | NA         | NA         | NA         | NA         | NA         | NA         | NA         | NA         | NA         | \n",
       "| 66421505   | NA         | 24100      | 24100      | 24100      |  60 months |  18.49%    |  618.43    | E          | E2         | ...        | NA         | NA         | NA         | NA         | NA         | NA         | NA         | NA         | NA         | NA         | \n",
       "| 66601274   | NA         |  4000      |  4000      |  4000      |  36 months |   9.17%    |  127.52    | B          | B2         | ...        | NA         | NA         | NA         | NA         | NA         | NA         | NA         | NA         | NA         | NA         | \n",
       "| 66390905   | NA         |  5000      |  5000      |  5000      |  36 months |   9.17%    |  159.40    | B          | B2         | ...        | NA         | NA         | NA         | NA         | NA         | NA         | NA         | NA         | NA         | NA         | \n",
       "| 65854936   | NA         |  6000      |  6000      |  6000      |  36 months |   7.89%    |  187.72    | A          | A5         | ...        | NA         | NA         | NA         | NA         | NA         | NA         | NA         | NA         | NA         | NA         | \n",
       "| 66055600   | NA         |  6000      |  6000      |  6000      |  36 months |   9.17%    |  191.28    | B          | B2         | ...        | NA         | NA         | NA         | NA         | NA         | NA         | NA         | NA         | NA         | NA         | \n",
       "| 66141895   | NA         | 14400      | 14400      | 14400      |  60 months |  13.18%    |  328.98    | C          | C3         | ...        | NA         | NA         | NA         | NA         | NA         | NA         | NA         | NA         | NA         | NA         | \n",
       "| 65673209   | NA         | 34050      | 34050      | 34050      |  36 months |  15.41%    | 1187.21    | D          | D1         | ...        | NA         | NA         | NA         | NA         | NA         | NA         | NA         | NA         | NA         | NA         | \n",
       "| 65744272   | NA         |  5000      |  5000      |  5000      |  36 months |  11.22%    |  164.22    | B          | B5         | ...        | NA         | NA         | NA         | NA         | NA         | NA         | NA         | NA         | NA         | NA         | \n",
       "\n",
       "\n"
      ],
      "text/plain": [
       "       id       member_id loan_amnt funded_amnt funded_amnt_inv term      \n",
       "1      76153534 NA        28000     28000       28000            36 months\n",
       "2      76153691 NA         7200      7200        7200            36 months\n",
       "3      75993542 NA        10850     10850       10850            36 months\n",
       "4      75273614 NA         2000      2000        2000            36 months\n",
       "5      75359225 NA        20000     20000       20000            36 months\n",
       "6      74805010 NA         3000      3000        3000            36 months\n",
       "7      76042475 NA         6000      6000        6000            36 months\n",
       "8      75061834 NA        20000     20000       20000            36 months\n",
       "9      75933549 NA        24000     24000       24000            60 months\n",
       "10     76143686 NA         9000      9000        9000            36 months\n",
       "11     74523825 NA        12000     12000       12000            60 months\n",
       "12     75963286 NA        25000     25000       25000            36 months\n",
       "13     76113668 NA         7025      7025        7025            36 months\n",
       "14     76143234 NA         8000      8000        8000            36 months\n",
       "15     76052683 NA        15000     15000       15000            60 months\n",
       "16     75779547 NA        10000     10000       10000            36 months\n",
       "17     75387867 NA         8400      8400        8400            36 months\n",
       "18     75911265 NA         6400      6400        6400            36 months\n",
       "19     76042301 NA        24000     24000       24000            36 months\n",
       "20     76092999 NA         8425      8425        8425            36 months\n",
       "21     75587478 NA        13500     13500       13500            36 months\n",
       "22     75740571 NA         5000      5000        5000            36 months\n",
       "23     76153758 NA         8075      8075        8075            36 months\n",
       "24     76111475 NA        16000     16000       16000            60 months\n",
       "25     76133052 NA         7125      7125        7125            36 months\n",
       "26     76121773 NA        16000     16000       16000            36 months\n",
       "27     75151243 NA         2650      2650        2650            36 months\n",
       "28     76152329 NA        20000     20000       20000            36 months\n",
       "29     75879932 NA         3000      3000        3000            36 months\n",
       "30     75659952 NA        21125     21125       21125            60 months\n",
       "...    ...      ...       ...       ...         ...             ...       \n",
       "133858 66472917 NA        15000     15000       15000            36 months\n",
       "133859 66444826 NA        19000     19000       18750            36 months\n",
       "133860 66545300 NA        15000     15000       15000            36 months\n",
       "133861 66634609 NA        11000     11000       11000            36 months\n",
       "133862 66444535 NA        10000     10000       10000            36 months\n",
       "133863 66563812 NA         6000      6000        6000            36 months\n",
       "133864 66643445 NA         4500      4500        4500            36 months\n",
       "133865 66623289 NA         7500      7500        7500            36 months\n",
       "133866 66453994 NA        34000     34000       34000            36 months\n",
       "133867 66523229 NA        16800     16800       16800            36 months\n",
       "133868 66541817 NA         8500      8500        8500            36 months\n",
       "133869 65792205 NA        35000     35000       35000            60 months\n",
       "133870 66442993 NA        25000     25000       24800            36 months\n",
       "133871 66532821 NA        12600     12600       12600            60 months\n",
       "133872 66602737 NA        12000     12000       12000            36 months\n",
       "133873 66453496 NA         5000      5000        5000            36 months\n",
       "133874 66492137 NA         5000      5000        5000            36 months\n",
       "133875 66450446 NA        12950     12950       12950            36 months\n",
       "133876 65374128 NA        21175     21175       20925            60 months\n",
       "133877 66422233 NA        24000     24000       24000            36 months\n",
       "133878 66501924 NA         6000      6000        6000            36 months\n",
       "133879 65855145 NA         6000      6000        6000            36 months\n",
       "133880 66421505 NA        24100     24100       24100            60 months\n",
       "133881 66601274 NA         4000      4000        4000            36 months\n",
       "133882 66390905 NA         5000      5000        5000            36 months\n",
       "133883 65854936 NA         6000      6000        6000            36 months\n",
       "133884 66055600 NA         6000      6000        6000            36 months\n",
       "133885 66141895 NA        14400     14400       14400            60 months\n",
       "133886 65673209 NA        34050     34050       34050            36 months\n",
       "133887 65744272 NA         5000      5000        5000            36 months\n",
       "       int_rate installment grade sub_grade ... sec_app_earliest_cr_line\n",
       "1        6.49%  858.05      A     A2        ... NA                      \n",
       "2        8.39%  226.92      B     B1        ... NA                      \n",
       "3       13.67%  369.10      C     C3        ... NA                      \n",
       "4       28.34%   83.10      G     G3        ... NA                      \n",
       "5        5.32%  602.30      A     A1        ... NA                      \n",
       "6        9.75%   96.45      B     B3        ... NA                      \n",
       "7       10.75%  195.73      B     B4        ... NA                      \n",
       "8       11.47%  659.24      B     B5        ... NA                      \n",
       "9       19.53%  629.60      D     D5        ... NA                      \n",
       "10      15.31%  313.36      C     C5        ... NA                      \n",
       "11      11.47%  263.74      B     B5        ... NA                      \n",
       "12       5.32%  752.87      A     A1        ... NA                      \n",
       "13      12.99%  236.67      C     C2        ... NA                      \n",
       "14      10.75%  260.97      B     B4        ... NA                      \n",
       "15       9.16%  312.55      B     B2        ... NA                      \n",
       "16       6.49%  306.45      A     A2        ... NA                      \n",
       "17      13.67%  285.75      C     C3        ... NA                      \n",
       "18      11.47%  210.96      B     B5        ... NA                      \n",
       "19       9.75%  771.60      B     B3        ... NA                      \n",
       "20      15.31%  293.34      C     C5        ... NA                      \n",
       "21       5.32%  406.55      A     A1        ... NA                      \n",
       "22       9.75%  160.75      B     B3        ... NA                      \n",
       "23       8.39%  254.50      B     B1        ... NA                      \n",
       "24      14.46%  376.12      C     C4        ... NA                      \n",
       "25      13.67%  242.38      C     C3        ... NA                      \n",
       "26       5.32%  481.84      A     A1        ... NA                      \n",
       "27      11.47%   87.35      B     B5        ... NA                      \n",
       "28       8.39%  630.34      B     B1        ... NA                      \n",
       "29      11.47%   98.89      B     B5        ... NA                      \n",
       "30      11.99%  469.81      C     C1        ... NA                      \n",
       "...    ...      ...         ...   ...           ...                     \n",
       "133858   7.89%   469.29     A     A5        ... NA                      \n",
       "133859  11.99%   630.99     C     C1        ... NA                      \n",
       "133860   6.89%   462.41     A     A3        ... NA                      \n",
       "133861   9.17%   350.67     B     B2        ... NA                      \n",
       "133862  11.22%   328.43     B     B5        ... NA                      \n",
       "133863  11.99%   199.26     C     C1        ... NA                      \n",
       "133864   9.76%   144.70     B     B3        ... NA                      \n",
       "133865   9.76%   241.16     B     B3        ... NA                      \n",
       "133866   9.76%  1093.26     B     B3        ... NA                      \n",
       "133867   7.26%   520.74     A     A4        ... NA                      \n",
       "133868  13.18%   287.14     C     C3        ... NA                      \n",
       "133869  18.99%   907.73     E     E3        ... NA                      \n",
       "133870  18.99%   916.28     E     E3        ... NA                      \n",
       "133871  18.99%   326.79     E     E3        ... NA                      \n",
       "133872   9.76%   385.86     B     B3        ... NA                      \n",
       "133873  13.18%   168.91     C     C3        ... NA                      \n",
       "133874  15.41%   174.34     D     D1        ... NA                      \n",
       "133875  15.41%   451.53     D     D1        ... NA                      \n",
       "133876  19.99%   560.90     E     E4        ... NA                      \n",
       "133877   5.32%   722.76     A     A1        ... NA                      \n",
       "133878  13.67%   204.11     C     C4        ... NA                      \n",
       "133879  26.77%   244.22     G     G1        ... NA                      \n",
       "133880  18.49%   618.43     E     E2        ... NA                      \n",
       "133881   9.17%   127.52     B     B2        ... NA                      \n",
       "133882   9.17%   159.40     B     B2        ... NA                      \n",
       "133883   7.89%   187.72     A     A5        ... NA                      \n",
       "133884   9.17%   191.28     B     B2        ... NA                      \n",
       "133885  13.18%   328.98     C     C3        ... NA                      \n",
       "133886  15.41%  1187.21     D     D1        ... NA                      \n",
       "133887  11.22%   164.22     B     B5        ... NA                      \n",
       "       sec_app_inq_last_6mths sec_app_mort_acc sec_app_open_acc\n",
       "1      NA                     NA               NA              \n",
       "2      NA                     NA               NA              \n",
       "3      NA                     NA               NA              \n",
       "4      NA                     NA               NA              \n",
       "5      NA                     NA               NA              \n",
       "6      NA                     NA               NA              \n",
       "7      NA                     NA               NA              \n",
       "8      NA                     NA               NA              \n",
       "9      NA                     NA               NA              \n",
       "10     NA                     NA               NA              \n",
       "11     NA                     NA               NA              \n",
       "12     NA                     NA               NA              \n",
       "13     NA                     NA               NA              \n",
       "14     NA                     NA               NA              \n",
       "15     NA                     NA               NA              \n",
       "16     NA                     NA               NA              \n",
       "17     NA                     NA               NA              \n",
       "18     NA                     NA               NA              \n",
       "19     NA                     NA               NA              \n",
       "20     NA                     NA               NA              \n",
       "21     NA                     NA               NA              \n",
       "22     NA                     NA               NA              \n",
       "23     NA                     NA               NA              \n",
       "24     NA                     NA               NA              \n",
       "25     NA                     NA               NA              \n",
       "26     NA                     NA               NA              \n",
       "27     NA                     NA               NA              \n",
       "28     NA                     NA               NA              \n",
       "29     NA                     NA               NA              \n",
       "30     NA                     NA               NA              \n",
       "...    ...                    ...              ...             \n",
       "133858 NA                     NA               NA              \n",
       "133859 NA                     NA               NA              \n",
       "133860 NA                     NA               NA              \n",
       "133861 NA                     NA               NA              \n",
       "133862 NA                     NA               NA              \n",
       "133863 NA                     NA               NA              \n",
       "133864 NA                     NA               NA              \n",
       "133865 NA                     NA               NA              \n",
       "133866 NA                     NA               NA              \n",
       "133867 NA                     NA               NA              \n",
       "133868 NA                     NA               NA              \n",
       "133869 NA                     NA               NA              \n",
       "133870 NA                     NA               NA              \n",
       "133871 NA                     NA               NA              \n",
       "133872 NA                     NA               NA              \n",
       "133873 NA                     NA               NA              \n",
       "133874 NA                     NA               NA              \n",
       "133875 NA                     NA               NA              \n",
       "133876 NA                     NA               NA              \n",
       "133877 NA                     NA               NA              \n",
       "133878 NA                     NA               NA              \n",
       "133879 NA                     NA               NA              \n",
       "133880 NA                     NA               NA              \n",
       "133881 NA                     NA               NA              \n",
       "133882 NA                     NA               NA              \n",
       "133883 NA                     NA               NA              \n",
       "133884 NA                     NA               NA              \n",
       "133885 NA                     NA               NA              \n",
       "133886 NA                     NA               NA              \n",
       "133887 NA                     NA               NA              \n",
       "       sec_app_revol_util sec_app_open_il_6m sec_app_num_rev_accts\n",
       "1      NA                 NA                 NA                   \n",
       "2      NA                 NA                 NA                   \n",
       "3      NA                 NA                 NA                   \n",
       "4      NA                 NA                 NA                   \n",
       "5      NA                 NA                 NA                   \n",
       "6      NA                 NA                 NA                   \n",
       "7      NA                 NA                 NA                   \n",
       "8      NA                 NA                 NA                   \n",
       "9      NA                 NA                 NA                   \n",
       "10     NA                 NA                 NA                   \n",
       "11     NA                 NA                 NA                   \n",
       "12     NA                 NA                 NA                   \n",
       "13     NA                 NA                 NA                   \n",
       "14     NA                 NA                 NA                   \n",
       "15     NA                 NA                 NA                   \n",
       "16     NA                 NA                 NA                   \n",
       "17     NA                 NA                 NA                   \n",
       "18     NA                 NA                 NA                   \n",
       "19     NA                 NA                 NA                   \n",
       "20     NA                 NA                 NA                   \n",
       "21     NA                 NA                 NA                   \n",
       "22     NA                 NA                 NA                   \n",
       "23     NA                 NA                 NA                   \n",
       "24     NA                 NA                 NA                   \n",
       "25     NA                 NA                 NA                   \n",
       "26     NA                 NA                 NA                   \n",
       "27     NA                 NA                 NA                   \n",
       "28     NA                 NA                 NA                   \n",
       "29     NA                 NA                 NA                   \n",
       "30     NA                 NA                 NA                   \n",
       "...    ...                ...                ...                  \n",
       "133858 NA                 NA                 NA                   \n",
       "133859 NA                 NA                 NA                   \n",
       "133860 NA                 NA                 NA                   \n",
       "133861 NA                 NA                 NA                   \n",
       "133862 NA                 NA                 NA                   \n",
       "133863 NA                 NA                 NA                   \n",
       "133864 NA                 NA                 NA                   \n",
       "133865 NA                 NA                 NA                   \n",
       "133866 NA                 NA                 NA                   \n",
       "133867 NA                 NA                 NA                   \n",
       "133868 NA                 NA                 NA                   \n",
       "133869 NA                 NA                 NA                   \n",
       "133870 NA                 NA                 NA                   \n",
       "133871 NA                 NA                 NA                   \n",
       "133872 NA                 NA                 NA                   \n",
       "133873 NA                 NA                 NA                   \n",
       "133874 NA                 NA                 NA                   \n",
       "133875 NA                 NA                 NA                   \n",
       "133876 NA                 NA                 NA                   \n",
       "133877 NA                 NA                 NA                   \n",
       "133878 NA                 NA                 NA                   \n",
       "133879 NA                 NA                 NA                   \n",
       "133880 NA                 NA                 NA                   \n",
       "133881 NA                 NA                 NA                   \n",
       "133882 NA                 NA                 NA                   \n",
       "133883 NA                 NA                 NA                   \n",
       "133884 NA                 NA                 NA                   \n",
       "133885 NA                 NA                 NA                   \n",
       "133886 NA                 NA                 NA                   \n",
       "133887 NA                 NA                 NA                   \n",
       "       sec_app_chargeoff_within_12_mths sec_app_collections_12_mths_ex_med\n",
       "1      NA                               NA                                \n",
       "2      NA                               NA                                \n",
       "3      NA                               NA                                \n",
       "4      NA                               NA                                \n",
       "5      NA                               NA                                \n",
       "6      NA                               NA                                \n",
       "7      NA                               NA                                \n",
       "8      NA                               NA                                \n",
       "9      NA                               NA                                \n",
       "10     NA                               NA                                \n",
       "11     NA                               NA                                \n",
       "12     NA                               NA                                \n",
       "13     NA                               NA                                \n",
       "14     NA                               NA                                \n",
       "15     NA                               NA                                \n",
       "16     NA                               NA                                \n",
       "17     NA                               NA                                \n",
       "18     NA                               NA                                \n",
       "19     NA                               NA                                \n",
       "20     NA                               NA                                \n",
       "21     NA                               NA                                \n",
       "22     NA                               NA                                \n",
       "23     NA                               NA                                \n",
       "24     NA                               NA                                \n",
       "25     NA                               NA                                \n",
       "26     NA                               NA                                \n",
       "27     NA                               NA                                \n",
       "28     NA                               NA                                \n",
       "29     NA                               NA                                \n",
       "30     NA                               NA                                \n",
       "...    ...                              ...                               \n",
       "133858 NA                               NA                                \n",
       "133859 NA                               NA                                \n",
       "133860 NA                               NA                                \n",
       "133861 NA                               NA                                \n",
       "133862 NA                               NA                                \n",
       "133863 NA                               NA                                \n",
       "133864 NA                               NA                                \n",
       "133865 NA                               NA                                \n",
       "133866 NA                               NA                                \n",
       "133867 NA                               NA                                \n",
       "133868 NA                               NA                                \n",
       "133869 NA                               NA                                \n",
       "133870 NA                               NA                                \n",
       "133871 NA                               NA                                \n",
       "133872 NA                               NA                                \n",
       "133873 NA                               NA                                \n",
       "133874 NA                               NA                                \n",
       "133875 NA                               NA                                \n",
       "133876 NA                               NA                                \n",
       "133877 NA                               NA                                \n",
       "133878 NA                               NA                                \n",
       "133879 NA                               NA                                \n",
       "133880 NA                               NA                                \n",
       "133881 NA                               NA                                \n",
       "133882 NA                               NA                                \n",
       "133883 NA                               NA                                \n",
       "133884 NA                               NA                                \n",
       "133885 NA                               NA                                \n",
       "133886 NA                               NA                                \n",
       "133887 NA                               NA                                \n",
       "       sec_app_mths_since_last_major_derog\n",
       "1      NA                                 \n",
       "2      NA                                 \n",
       "3      NA                                 \n",
       "4      NA                                 \n",
       "5      NA                                 \n",
       "6      NA                                 \n",
       "7      NA                                 \n",
       "8      NA                                 \n",
       "9      NA                                 \n",
       "10     NA                                 \n",
       "11     NA                                 \n",
       "12     NA                                 \n",
       "13     NA                                 \n",
       "14     NA                                 \n",
       "15     NA                                 \n",
       "16     NA                                 \n",
       "17     NA                                 \n",
       "18     NA                                 \n",
       "19     NA                                 \n",
       "20     NA                                 \n",
       "21     NA                                 \n",
       "22     NA                                 \n",
       "23     NA                                 \n",
       "24     NA                                 \n",
       "25     NA                                 \n",
       "26     NA                                 \n",
       "27     NA                                 \n",
       "28     NA                                 \n",
       "29     NA                                 \n",
       "30     NA                                 \n",
       "...    ...                                \n",
       "133858 NA                                 \n",
       "133859 NA                                 \n",
       "133860 NA                                 \n",
       "133861 NA                                 \n",
       "133862 NA                                 \n",
       "133863 NA                                 \n",
       "133864 NA                                 \n",
       "133865 NA                                 \n",
       "133866 NA                                 \n",
       "133867 NA                                 \n",
       "133868 NA                                 \n",
       "133869 NA                                 \n",
       "133870 NA                                 \n",
       "133871 NA                                 \n",
       "133872 NA                                 \n",
       "133873 NA                                 \n",
       "133874 NA                                 \n",
       "133875 NA                                 \n",
       "133876 NA                                 \n",
       "133877 NA                                 \n",
       "133878 NA                                 \n",
       "133879 NA                                 \n",
       "133880 NA                                 \n",
       "133881 NA                                 \n",
       "133882 NA                                 \n",
       "133883 NA                                 \n",
       "133884 NA                                 \n",
       "133885 NA                                 \n",
       "133886 NA                                 \n",
       "133887 NA                                 "
      ]
     },
     "metadata": {},
     "output_type": "display_data"
    }
   ],
   "source": [
    "data16[59470,]\n",
    "head(dataQ1, -2)\n"
   ]
  },
  {
   "cell_type": "markdown",
   "metadata": {},
   "source": [
    "### Clean Data with OpenRefine"
   ]
  },
  {
   "cell_type": "markdown",
   "metadata": {},
   "source": [
    "Changes made to data using OpenRefine:\n",
    "- emp_length: changed to numeric, where <1 years is 0 and 10+ years is 10\n",
    "- int_rate: changed to numeric\n",
    "- removing blank lines (last 2 rows for each quarter) - that contained info about total amount founded by policy code 1 and 2.\n",
    "- removing unnecessary features that are cannot be used for assigning interest rate: \n",
    "    - id\n",
    "    - member_id\n",
    "    - loan status (is not known at the moment of assigning interest rate)\n",
    "    - payment plan (only yes - if trouble paying loan)\n",
    "    - installment (calculated from interest and loan amount) - so direct correlation\n",
    "    - emp_title - too many different titles, should cluster before\n",
    "    - url - to given case (need to be member in Lending Club to check this)\n",
    "    - desc - only couple of descriptions\n",
    "    - title - subtitle of purpose (only little more information, mostly overlapping)\n",
    "    \n"
   ]
  },
  {
   "cell_type": "markdown",
   "metadata": {},
   "source": [
    "## Predicting Interest Rates"
   ]
  },
  {
   "cell_type": "code",
   "execution_count": 1,
   "metadata": {
    "collapsed": false
   },
   "outputs": [],
   "source": [
    "train_data <- read.csv(\"data_loan/data16_cleaned.csv\")"
   ]
  },
  {
   "cell_type": "code",
   "execution_count": 2,
   "metadata": {
    "collapsed": false
   },
   "outputs": [
    {
     "data": {
      "text/html": [
       "434407"
      ],
      "text/latex": [
       "434407"
      ],
      "text/markdown": [
       "434407"
      ],
      "text/plain": [
       "[1] 434407"
      ]
     },
     "metadata": {},
     "output_type": "display_data"
    }
   ],
   "source": [
    "nrow(train_data)"
   ]
  },
  {
   "cell_type": "code",
   "execution_count": 14,
   "metadata": {
    "collapsed": false
   },
   "outputs": [],
   "source": [
    "set.seed(3)\n",
    "sample <- sample(nrow(train_data), 10000)\n",
    "sample_data <- train_data[sample,]\n",
    "\n",
    "# Remove int_rate, grade, sub_grade - all these are targets, also 18 - earliest_cr_line      \n",
    "sub_sample_data <- sample_data[, c(-5, -6, -7, -18)]\n",
    "sub_train_data <- train_data[, c(-5,-6,-7, -18)]"
   ]
  },
  {
   "cell_type": "code",
   "execution_count": 16,
   "metadata": {
    "collapsed": false
   },
   "outputs": [],
   "source": [
    "# Data without unnecessary stuff (5,6,7,18)\n",
    "sub_data1 <- cbind(sub_sample_data, sample_data$int_rate)\n",
    "colnames(sub_data1)[ncol(sub_data1)] = \"int_rate\"\n",
    "\n",
    "sub_train_data1 <- cbind(sub_train_data, train_data$int_rate)\n",
    "colnames(sub_train_data1)[ncol(sub_train_data1)] = \"int_rate\"\n",
    "\n",
    "sub_data2 <- cbind(sub_sample_data, sample_data$grade)\n",
    "colnames(sub_data2)[ncol(sub_data2)] = \"grade\""
   ]
  },
  {
   "cell_type": "markdown",
   "metadata": {},
   "source": [
    "### Linear Regression"
   ]
  },
  {
   "cell_type": "code",
   "execution_count": 48,
   "metadata": {
    "collapsed": true
   },
   "outputs": [],
   "source": [
    "# Calculate Root Mean Squared Error (RMSE)\n",
    "rmse <- function(actual, predicted)\n",
    "{\n",
    "    error <- actual - predicted\n",
    "    return(sqrt(mean(error^2)))  \n",
    "    # sum(error^2)/n, can be used also <- n, n-1, n-2 (n-1, n-2 for some statistical reasons can be also used)\n",
    "}\n",
    "\n",
    "# Function to get model and RMSE and adjusted R-Square values\n",
    "get_model <- function(formula, dat, y, trace = TRUE)\n",
    "{\n",
    "    model <- lm(formula, dat)\n",
    "    y.pred <- predict(model)\n",
    "    if(trace)\n",
    "    {\n",
    "        print(sprintf(\"For given model the RMSE is %0.3f.\", rmse(y, y.pred)))\n",
    "        print(sprintf(\"For given model the Adjusted R-Squared is %0.3f.\", summary(model)$adj.r.squared))\n",
    "    }\n",
    "\n",
    "    return(model)\n",
    "}"
   ]
  },
  {
   "cell_type": "code",
   "execution_count": 5,
   "metadata": {
    "collapsed": false
   },
   "outputs": [
    {
     "name": "stdout",
     "output_type": "stream",
     "text": [
      "[1] \"For given model the RMSE is 4.930.\"\n",
      "[1] \"For given model the Adjusted R-Squared is 0.000.\"\n"
     ]
    },
    {
     "data": {
      "text/plain": [
       "\n",
       "Call:\n",
       "lm(formula = formula, data = dat)\n",
       "\n",
       "Residuals:\n",
       "   Min     1Q Median     3Q    Max \n",
       "-7.723 -3.554 -1.054  2.546 17.947 \n",
       "\n",
       "Coefficients:\n",
       "             Estimate Std. Error t value Pr(>|t|)    \n",
       "(Intercept) 13.043504   0.007481    1744   <2e-16 ***\n",
       "---\n",
       "Signif. codes:  0 '***' 0.001 '**' 0.01 '*' 0.05 '.' 0.1 ' ' 1\n",
       "\n",
       "Residual standard error: 4.93 on 434406 degrees of freedom\n"
      ]
     },
     "metadata": {},
     "output_type": "display_data"
    }
   ],
   "source": [
    "form1 <- int_rate ~ 1\n",
    "model <- get_model(form1, dat = train_data, y = train_data$int_rate)\n",
    "summary(model)"
   ]
  },
  {
   "cell_type": "code",
   "execution_count": 7,
   "metadata": {
    "collapsed": false
   },
   "outputs": [
    {
     "name": "stderr",
     "output_type": "stream",
     "text": [
      "Warning message in eval(expr, envir, enclos):\n",
      "\"NAs introduced by coercion\""
     ]
    }
   ],
   "source": [
    "train_data$emp_length <- as.numeric(as.character(train_data$emp_length))"
   ]
  },
  {
   "cell_type": "code",
   "execution_count": null,
   "metadata": {
    "collapsed": false
   },
   "outputs": [],
   "source": [
    "form2 <- int_rate ~ loan_amnt + annual_inc + dti + term + verification_status + issue_d + \n",
    "delinq_2yrs + fico_range_low + fico_range_high + open_acc + pub_rec + revol_bal + total_acc\n",
    "test_form <- int_rate ~ zip_code + term + fico_range_low + dti\n",
    "# Features left out\n",
    "# Contain NA-s: emp_length (28214), inq_last_6mths (1), revol_util (264), What to do with NA-s just skip?\n",
    "# earliest_cr_line DONT use that to model (too many factor levels...), zip_code also\n",
    "# not significant: purpose\n",
    "# Grade and subgrade are outcome (depends on the interest rate)\n",
    "model2 <- get_model(form2, dat = train_data, y = train_data$int_rate)\n",
    "#summary(model2)\n",
    "model3 <- get_model(form2, dat = sample_data, y = sample_data$int_rate)\n",
    "#sum(is.na(train_data$total_acc))"
   ]
  },
  {
   "cell_type": "markdown",
   "metadata": {},
   "source": [
    "### Gradient Boosting"
   ]
  },
  {
   "cell_type": "markdown",
   "metadata": {},
   "source": [
    "Seems to give best results out of all the tried methods"
   ]
  },
  {
   "cell_type": "code",
   "execution_count": 7,
   "metadata": {
    "collapsed": false
   },
   "outputs": [],
   "source": [
    "# Libraries\n",
    "library(caret)\n",
    "library(Metrics)\n",
    "library(gbm)"
   ]
  },
  {
   "cell_type": "code",
   "execution_count": 30,
   "metadata": {
    "collapsed": true
   },
   "outputs": [],
   "source": [
    "# Formulas from linear regression\n",
    "formula1 <- int_rate ~ loan_amnt + annual_inc\n",
    "formula2 <- int_rate ~ loan_amnt + annual_inc + dti + term + verification_status + issue_d\n",
    "formula3 <- int_rate ~ loan_amnt + annual_inc + dti + term + verification_status + issue_d + \n",
    "delinq_2yrs + fico_range_low + fico_range_high + open_acc + pub_rec + revol_bal + total_acc\n",
    "\n",
    "formula4 <- int_rate ~ loan_amnt + annual_inc + dti + verification_status + issue_d + \n",
    "delinq_2yrs + fico_range_low + fico_range_high + open_acc + pub_rec + revol_bal + total_acc"
   ]
  },
  {
   "cell_type": "code",
   "execution_count": 27,
   "metadata": {
    "collapsed": false
   },
   "outputs": [],
   "source": [
    "gbmFit4 <- train(formula3, data = sample_data, method = \"gbm\",verbose = FALSE)  # Verbose "
   ]
  },
  {
   "cell_type": "code",
   "execution_count": 18,
   "metadata": {
    "collapsed": false
   },
   "outputs": [
    {
     "data": {
      "text/html": [
       "4.63799738186246"
      ],
      "text/latex": [
       "4.63799738186246"
      ],
      "text/markdown": [
       "4.63799738186246"
      ],
      "text/plain": [
       "[1] 4.637997"
      ]
     },
     "metadata": {},
     "output_type": "display_data"
    }
   ],
   "source": [
    "y.pred <- predict(gbmFit1, train_data)\n",
    "rmse(train_data$int_rate, y.pred)"
   ]
  },
  {
   "cell_type": "code",
   "execution_count": 25,
   "metadata": {
    "collapsed": false
   },
   "outputs": [
    {
     "data": {
      "text/html": [
       "4.04587513097373"
      ],
      "text/latex": [
       "4.04587513097373"
      ],
      "text/markdown": [
       "4.04587513097373"
      ],
      "text/plain": [
       "[1] 4.045875"
      ]
     },
     "metadata": {},
     "output_type": "display_data"
    }
   ],
   "source": [
    "y.pred <- predict(gbmFit2, train_data)\n",
    "rmse(train_data$int_rate, y.pred)"
   ]
  },
  {
   "cell_type": "code",
   "execution_count": 52,
   "metadata": {
    "collapsed": false
   },
   "outputs": [
    {
     "data": {
      "text/html": [
       "3.57098293126153"
      ],
      "text/latex": [
       "3.57098293126153"
      ],
      "text/markdown": [
       "3.57098293126153"
      ],
      "text/plain": [
       "[1] 3.570983"
      ]
     },
     "metadata": {},
     "output_type": "display_data"
    }
   ],
   "source": [
    "y.pred <- predict(gbmFit3, sample_data)\n",
    "rmse(sample_data$int_rate, y.pred)"
   ]
  },
  {
   "cell_type": "markdown",
   "metadata": {},
   "source": [
    "#### Let's find best values for gradient boosting."
   ]
  },
  {
   "cell_type": "markdown",
   "metadata": {},
   "source": [
    "Gradient Boosting seems to give best results, so let's try different values for variables."
   ]
  },
  {
   "cell_type": "code",
   "execution_count": 57,
   "metadata": {
    "collapsed": false
   },
   "outputs": [],
   "source": [
    "#fitControl <- trainControl(method = \"repeatedcv\", number = 5, repeats = 3)\n",
    "#gbmFit1 <- train(int_rate ~ ., data = sub_data1, method = \"gbm\", trControl = fitControl, verbose = FALSE)"
   ]
  },
  {
   "cell_type": "code",
   "execution_count": 8,
   "metadata": {
    "collapsed": false
   },
   "outputs": [],
   "source": [
    "gbm.model1 <- gbm(int_rate ~ ., data = sub_data1,\n",
    "n.trees=1000,\n",
    "shrinkage=0.05,\n",
    "distribution=\"gaussian\",\n",
    "interaction.depth=7,\n",
    "bag.fraction=0.9,\n",
    "cv.fold=5,\n",
    "n.minobsinnode = 50)"
   ]
  },
  {
   "cell_type": "code",
   "execution_count": 9,
   "metadata": {
    "collapsed": false
   },
   "outputs": [
    {
     "data": {
      "text/plain": [
       "gbm(formula = int_rate ~ ., distribution = \"gaussian\", data = sub_data1, \n",
       "    n.trees = 1000, interaction.depth = 7, n.minobsinnode = 50, \n",
       "    shrinkage = 0.05, bag.fraction = 0.9, cv.folds = 5)\n",
       "A gradient boosted model with gaussian loss function.\n",
       "1000 iterations were performed.\n",
       "The best cross-validation iteration was 59.\n",
       "There were 24 predictors of which 12 had non-zero influence."
      ]
     },
     "metadata": {},
     "output_type": "display_data"
    }
   ],
   "source": [
    "#gbm.perf(gbm.model1)\n",
    "gbm.model1"
   ]
  },
  {
   "cell_type": "code",
   "execution_count": 10,
   "metadata": {
    "collapsed": false
   },
   "outputs": [
    {
     "data": {
      "text/html": [
       "<table>\n",
       "<thead><tr><th></th><th scope=col>var</th><th scope=col>rel.inf</th></tr></thead>\n",
       "<tbody>\n",
       "\t<tr><th scope=row>zip_code</th><td>zip_code              </td><td>57.502574027          </td></tr>\n",
       "\t<tr><th scope=row>term</th><td>term                  </td><td>13.935255358          </td></tr>\n",
       "\t<tr><th scope=row>fico_range_low</th><td>fico_range_low        </td><td>10.271606754          </td></tr>\n",
       "\t<tr><th scope=row>dti</th><td>dti                   </td><td> 3.470005663          </td></tr>\n",
       "\t<tr><th scope=row>verification_status</th><td>verification_status   </td><td> 3.346861976          </td></tr>\n",
       "\t<tr><th scope=row>purpose</th><td>purpose               </td><td> 1.829188736          </td></tr>\n",
       "\t<tr><th scope=row>issue_d</th><td>issue_d               </td><td> 1.824651505          </td></tr>\n",
       "\t<tr><th scope=row>inq_last_6mths</th><td>inq_last_6mths        </td><td> 1.604789015          </td></tr>\n",
       "\t<tr><th scope=row>annual_inc</th><td>annual_inc            </td><td> 1.351463764          </td></tr>\n",
       "\t<tr><th scope=row>revol_bal</th><td>revol_bal             </td><td> 0.897678953          </td></tr>\n",
       "\t<tr><th scope=row>revol_util</th><td>revol_util            </td><td> 0.853363821          </td></tr>\n",
       "\t<tr><th scope=row>funded_amnt_inv</th><td>funded_amnt_inv       </td><td> 0.826223349          </td></tr>\n",
       "\t<tr><th scope=row>loan_amnt</th><td>loan_amnt             </td><td> 0.634861264          </td></tr>\n",
       "\t<tr><th scope=row>total_acc</th><td>total_acc             </td><td> 0.561348799          </td></tr>\n",
       "\t<tr><th scope=row>emp_length</th><td>emp_length            </td><td> 0.461167717          </td></tr>\n",
       "\t<tr><th scope=row>mths_since_last_delinq</th><td>mths_since_last_delinq</td><td> 0.193123892          </td></tr>\n",
       "\t<tr><th scope=row>open_acc</th><td>open_acc              </td><td> 0.147175785          </td></tr>\n",
       "\t<tr><th scope=row>home_ownership</th><td>home_ownership        </td><td> 0.127528222          </td></tr>\n",
       "\t<tr><th scope=row>mths_since_last_record</th><td>mths_since_last_record</td><td> 0.124403288          </td></tr>\n",
       "\t<tr><th scope=row>delinq_2yrs</th><td>delinq_2yrs           </td><td> 0.032502332          </td></tr>\n",
       "\t<tr><th scope=row>pub_rec</th><td>pub_rec               </td><td> 0.002919180          </td></tr>\n",
       "\t<tr><th scope=row>addr_state</th><td>addr_state            </td><td> 0.001306602          </td></tr>\n",
       "\t<tr><th scope=row>funded_amnt</th><td>funded_amnt           </td><td> 0.000000000          </td></tr>\n",
       "\t<tr><th scope=row>fico_range_high</th><td>fico_range_high       </td><td> 0.000000000          </td></tr>\n",
       "</tbody>\n",
       "</table>\n"
      ],
      "text/latex": [
       "\\begin{tabular}{r|ll}\n",
       "  & var & rel.inf\\\\\n",
       "\\hline\n",
       "\tzip\\_code & zip\\_code               & 57.502574027            \\\\\n",
       "\tterm & term                   & 13.935255358          \\\\\n",
       "\tfico\\_range\\_low & fico\\_range\\_low         & 10.271606754              \\\\\n",
       "\tdti & dti                    &  3.470005663          \\\\\n",
       "\tverification\\_status & verification\\_status    &  3.346861976            \\\\\n",
       "\tpurpose & purpose                &  1.829188736          \\\\\n",
       "\tissue\\_d & issue\\_d                &  1.824651505            \\\\\n",
       "\tinq\\_last\\_6mths & inq\\_last\\_6mths         &  1.604789015              \\\\\n",
       "\tannual\\_inc & annual\\_inc             &  1.351463764            \\\\\n",
       "\trevol\\_bal & revol\\_bal              &  0.897678953            \\\\\n",
       "\trevol\\_util & revol\\_util             &  0.853363821            \\\\\n",
       "\tfunded\\_amnt\\_inv & funded\\_amnt\\_inv        &  0.826223349              \\\\\n",
       "\tloan\\_amnt & loan\\_amnt              &  0.634861264            \\\\\n",
       "\ttotal\\_acc & total\\_acc              &  0.561348799            \\\\\n",
       "\temp\\_length & emp\\_length             &  0.461167717            \\\\\n",
       "\tmths\\_since\\_last\\_delinq & mths\\_since\\_last\\_delinq &  0.193123892                \\\\\n",
       "\topen\\_acc & open\\_acc               &  0.147175785            \\\\\n",
       "\thome\\_ownership & home\\_ownership         &  0.127528222            \\\\\n",
       "\tmths\\_since\\_last\\_record & mths\\_since\\_last\\_record &  0.124403288                \\\\\n",
       "\tdelinq\\_2yrs & delinq\\_2yrs            &  0.032502332            \\\\\n",
       "\tpub\\_rec & pub\\_rec                &  0.002919180            \\\\\n",
       "\taddr\\_state & addr\\_state             &  0.001306602            \\\\\n",
       "\tfunded\\_amnt & funded\\_amnt            &  0.000000000            \\\\\n",
       "\tfico\\_range\\_high & fico\\_range\\_high        &  0.000000000              \\\\\n",
       "\\end{tabular}\n"
      ],
      "text/markdown": [
       "\n",
       "| <!--/--> | var | rel.inf | \n",
       "|---|---|---|---|---|---|---|---|---|---|---|---|---|---|---|---|---|---|---|---|---|---|---|---|\n",
       "| zip_code | zip_code               | 57.502574027           | \n",
       "| term | term                   | 13.935255358           | \n",
       "| fico_range_low | fico_range_low         | 10.271606754           | \n",
       "| dti | dti                    |  3.470005663           | \n",
       "| verification_status | verification_status    |  3.346861976           | \n",
       "| purpose | purpose                |  1.829188736           | \n",
       "| issue_d | issue_d                |  1.824651505           | \n",
       "| inq_last_6mths | inq_last_6mths         |  1.604789015           | \n",
       "| annual_inc | annual_inc             |  1.351463764           | \n",
       "| revol_bal | revol_bal              |  0.897678953           | \n",
       "| revol_util | revol_util             |  0.853363821           | \n",
       "| funded_amnt_inv | funded_amnt_inv        |  0.826223349           | \n",
       "| loan_amnt | loan_amnt              |  0.634861264           | \n",
       "| total_acc | total_acc              |  0.561348799           | \n",
       "| emp_length | emp_length             |  0.461167717           | \n",
       "| mths_since_last_delinq | mths_since_last_delinq |  0.193123892           | \n",
       "| open_acc | open_acc               |  0.147175785           | \n",
       "| home_ownership | home_ownership         |  0.127528222           | \n",
       "| mths_since_last_record | mths_since_last_record |  0.124403288           | \n",
       "| delinq_2yrs | delinq_2yrs            |  0.032502332           | \n",
       "| pub_rec | pub_rec                |  0.002919180           | \n",
       "| addr_state | addr_state             |  0.001306602           | \n",
       "| funded_amnt | funded_amnt            |  0.000000000           | \n",
       "| fico_range_high | fico_range_high        |  0.000000000           | \n",
       "\n",
       "\n"
      ],
      "text/plain": [
       "                       var                    rel.inf     \n",
       "zip_code               zip_code               57.502574027\n",
       "term                   term                   13.935255358\n",
       "fico_range_low         fico_range_low         10.271606754\n",
       "dti                    dti                     3.470005663\n",
       "verification_status    verification_status     3.346861976\n",
       "purpose                purpose                 1.829188736\n",
       "issue_d                issue_d                 1.824651505\n",
       "inq_last_6mths         inq_last_6mths          1.604789015\n",
       "annual_inc             annual_inc              1.351463764\n",
       "revol_bal              revol_bal               0.897678953\n",
       "revol_util             revol_util              0.853363821\n",
       "funded_amnt_inv        funded_amnt_inv         0.826223349\n",
       "loan_amnt              loan_amnt               0.634861264\n",
       "total_acc              total_acc               0.561348799\n",
       "emp_length             emp_length              0.461167717\n",
       "mths_since_last_delinq mths_since_last_delinq  0.193123892\n",
       "open_acc               open_acc                0.147175785\n",
       "home_ownership         home_ownership          0.127528222\n",
       "mths_since_last_record mths_since_last_record  0.124403288\n",
       "delinq_2yrs            delinq_2yrs             0.032502332\n",
       "pub_rec                pub_rec                 0.002919180\n",
       "addr_state             addr_state              0.001306602\n",
       "funded_amnt            funded_amnt             0.000000000\n",
       "fico_range_high        fico_range_high         0.000000000"
      ]
     },
     "metadata": {},
     "output_type": "display_data"
    },
    {
     "data": {
      "image/png": "[encoded data removed]",
      "text/plain": [
       "plot without title"
      ]
     },
     "metadata": {},
     "output_type": "display_data"
    }
   ],
   "source": [
    "summary(gbm.model1)\n",
    "# Zip_code has over 50% of relative influence da actual fck."
   ]
  },
  {
   "cell_type": "markdown",
   "metadata": {},
   "source": [
    "Zip_code most influential - weird."
   ]
  },
  {
   "cell_type": "code",
   "execution_count": 11,
   "metadata": {
    "collapsed": false
   },
   "outputs": [
    {
     "data": {
      "text/html": [
       "1.5147695988155"
      ],
      "text/latex": [
       "1.5147695988155"
      ],
      "text/markdown": [
       "1.5147695988155"
      ],
      "text/plain": [
       "[1] 1.51477"
      ]
     },
     "metadata": {},
     "output_type": "display_data"
    }
   ],
   "source": [
    "y.pred <- predict(gbm.model1, n.trees = 1000, sub_data1)\n",
    "rmse(sample_data$int_rate, y.pred)"
   ]
  },
  {
   "cell_type": "markdown",
   "metadata": {},
   "source": [
    "Let's pick random test sample. To see how well it performs on validation set."
   ]
  },
  {
   "cell_type": "code",
   "execution_count": 54,
   "metadata": {
    "collapsed": false
   },
   "outputs": [
    {
     "data": {
      "text/html": [
       "4.6946426287283"
      ],
      "text/latex": [
       "4.6946426287283"
      ],
      "text/markdown": [
       "4.6946426287283"
      ],
      "text/plain": [
       "[1] 4.694643"
      ]
     },
     "metadata": {},
     "output_type": "display_data"
    }
   ],
   "source": [
    "# First remove sample lines from all data lines.\n",
    "#set.seed(10)\n",
    "sample_val <- sample(nrow(train_data)[-sample], 10000)\n",
    "val_sample <- train_data[sample_val,]\n",
    "y.pred <- predict(gbm.model1, n.trees = 1000, val_sample)\n",
    "rmse(val_sample$int_rate, y.pred)"
   ]
  },
  {
   "cell_type": "markdown",
   "metadata": {},
   "source": [
    "Atm really overfitting.. Let's use more data"
   ]
  },
  {
   "cell_type": "code",
   "execution_count": null,
   "metadata": {
    "collapsed": true
   },
   "outputs": [],
   "source": [
    "gbm.model2 <- gbm(int_rate ~ ., data = sub_train_data1,\n",
    "n.trees=1000,\n",
    "shrinkage=0.05,\n",
    "distribution=\"gaussian\",\n",
    "interaction.depth=7,\n",
    "bag.fraction=0.9,\n",
    "cv.fold=5,\n",
    "n.minobsinnode = 50)"
   ]
  },
  {
   "cell_type": "code",
   "execution_count": null,
   "metadata": {
    "collapsed": true
   },
   "outputs": [],
   "source": [
    "summary(gbm.model1)"
   ]
  },
  {
   "cell_type": "code",
   "execution_count": null,
   "metadata": {
    "collapsed": true
   },
   "outputs": [],
   "source": [
    "y.pred <- predict(gbm.model2, n.trees = 1000, sub_train_data1)\n",
    "rmse(sub_train_data1$int_rate, y.pred)"
   ]
  },
  {
   "cell_type": "markdown",
   "metadata": {},
   "source": [
    "Also try testing on real test data 2017."
   ]
  },
  {
   "cell_type": "markdown",
   "metadata": {},
   "source": [
    "### Naive Bayes"
   ]
  },
  {
   "cell_type": "markdown",
   "metadata": {},
   "source": [
    "Could use Naive Bayes that to predict grade.\n",
    "\n",
    "Bad results with sample data, let's try on bigger data."
   ]
  },
  {
   "cell_type": "code",
   "execution_count": 104,
   "metadata": {
    "collapsed": false
   },
   "outputs": [
    {
     "data": {
      "text/html": [
       "<table>\n",
       "<thead><tr><th scope=col>loan_amnt</th><th scope=col>funded_amnt</th><th scope=col>funded_amnt_inv</th><th scope=col>term</th><th scope=col>emp_length</th><th scope=col>home_ownership</th><th scope=col>annual_inc</th><th scope=col>verification_status</th><th scope=col>issue_d</th><th scope=col>purpose</th><th scope=col>...</th><th scope=col>fico_range_high</th><th scope=col>inq_last_6mths</th><th scope=col>mths_since_last_delinq</th><th scope=col>mths_since_last_record</th><th scope=col>open_acc</th><th scope=col>pub_rec</th><th scope=col>revol_bal</th><th scope=col>revol_util</th><th scope=col>total_acc</th><th scope=col>grade</th></tr></thead>\n",
       "<tbody>\n",
       "\t<tr><td>28000             </td><td>28000             </td><td>28000             </td><td> 36 months        </td><td>10                </td><td>MORTGAGE          </td><td>117000            </td><td>Not Verified      </td><td>Mar-16            </td><td>debt_consolidation</td><td>...               </td><td>729               </td><td>1                 </td><td>NA                </td><td>NA                </td><td>10                </td><td>0                 </td><td>31704             </td><td>81.9              </td><td>23                </td><td>A                 </td></tr>\n",
       "\t<tr><td> 7200             </td><td> 7200             </td><td> 7200             </td><td> 36 months        </td><td>10                </td><td>RENT              </td><td>197000            </td><td>Not Verified      </td><td>Mar-16            </td><td>car               </td><td>...               </td><td>679               </td><td>1                 </td><td>NA                </td><td>71                </td><td> 9                </td><td>1                 </td><td>  762             </td><td> 5.4              </td><td>28                </td><td>B                 </td></tr>\n",
       "\t<tr><td>10850             </td><td>10850             </td><td>10850             </td><td> 36 months        </td><td>10                </td><td>MORTGAGE          </td><td> 44000            </td><td>Verified          </td><td>Mar-16            </td><td>credit_card       </td><td>...               </td><td>664               </td><td>0                 </td><td>58                </td><td>59                </td><td>11                </td><td>1                 </td><td>12347             </td><td>64.3              </td><td>26                </td><td>C                 </td></tr>\n",
       "\t<tr><td> 2000             </td><td> 2000             </td><td> 2000             </td><td> 36 months        </td><td> 2                </td><td>RENT              </td><td> 24000            </td><td>Verified          </td><td>Mar-16            </td><td>other             </td><td>...               </td><td>664               </td><td>3                 </td><td>33                </td><td>23                </td><td> 7                </td><td>1                 </td><td> 1728             </td><td>59.6              </td><td>11                </td><td>G                 </td></tr>\n",
       "\t<tr><td>20000             </td><td>20000             </td><td>20000             </td><td> 36 months        </td><td>10                </td><td>MORTGAGE          </td><td>165000            </td><td>Not Verified      </td><td>Mar-16            </td><td>debt_consolidation</td><td>...               </td><td>719               </td><td>0                 </td><td>NA                </td><td>NA                </td><td>14                </td><td>0                 </td><td>20577             </td><td>32.6              </td><td>30                </td><td>A                 </td></tr>\n",
       "\t<tr><td> 3000             </td><td> 3000             </td><td> 3000             </td><td> 36 months        </td><td> 0                </td><td>RENT              </td><td> 24000            </td><td>Source Verified   </td><td>Mar-16            </td><td>vacation          </td><td>...               </td><td>719               </td><td>0                 </td><td>NA                </td><td>NA                </td><td>13                </td><td>0                 </td><td> 3651             </td><td>16.4              </td><td>13                </td><td>B                 </td></tr>\n",
       "</tbody>\n",
       "</table>\n"
      ],
      "text/latex": [
       "\\begin{tabular}{r|lllllllllllllllllllllllll}\n",
       " loan\\_amnt & funded\\_amnt & funded\\_amnt\\_inv & term & emp\\_length & home\\_ownership & annual\\_inc & verification\\_status & issue\\_d & purpose & ... & fico\\_range\\_high & inq\\_last\\_6mths & mths\\_since\\_last\\_delinq & mths\\_since\\_last\\_record & open\\_acc & pub\\_rec & revol\\_bal & revol\\_util & total\\_acc & grade\\\\\n",
       "\\hline\n",
       "\t 28000                & 28000                & 28000                &  36 months           & 10                   & MORTGAGE             & 117000               & Not Verified         & Mar-16               & debt\\_consolidation & ...                  & 729                  & 1                    & NA                   & NA                   & 10                   & 0                    & 31704                & 81.9                 & 23                   & A                   \\\\\n",
       "\t  7200              &  7200              &  7200              &  36 months         & 10                 & RENT               & 197000             & Not Verified       & Mar-16             & car                & ...                & 679                & 1                  & NA                 & 71                 &  9                 & 1                  &   762              &  5.4               & 28                 & B                 \\\\\n",
       "\t 10850                & 10850                & 10850                &  36 months           & 10                   & MORTGAGE             &  44000               & Verified             & Mar-16               & credit\\_card        & ...                  & 664                  & 0                    & 58                   & 59                   & 11                   & 1                    & 12347                & 64.3                 & 26                   & C                   \\\\\n",
       "\t  2000              &  2000              &  2000              &  36 months         &  2                 & RENT               &  24000             & Verified           & Mar-16             & other              & ...                & 664                & 3                  & 33                 & 23                 &  7                 & 1                  &  1728              & 59.6               & 11                 & G                 \\\\\n",
       "\t 20000                & 20000                & 20000                &  36 months           & 10                   & MORTGAGE             & 165000               & Not Verified         & Mar-16               & debt\\_consolidation & ...                  & 719                  & 0                    & NA                   & NA                   & 14                   & 0                    & 20577                & 32.6                 & 30                   & A                   \\\\\n",
       "\t  3000              &  3000              &  3000              &  36 months         &  0                 & RENT               &  24000             & Source Verified    & Mar-16             & vacation           & ...                & 719                & 0                  & NA                 & NA                 & 13                 & 0                  &  3651              & 16.4               & 13                 & B                 \\\\\n",
       "\\end{tabular}\n"
      ],
      "text/markdown": [
       "\n",
       "loan_amnt | funded_amnt | funded_amnt_inv | term | emp_length | home_ownership | annual_inc | verification_status | issue_d | purpose | ... | fico_range_high | inq_last_6mths | mths_since_last_delinq | mths_since_last_record | open_acc | pub_rec | revol_bal | revol_util | total_acc | grade | \n",
       "|---|---|---|---|---|---|\n",
       "| 28000              | 28000              | 28000              |  36 months         | 10                 | MORTGAGE           | 117000             | Not Verified       | Mar-16             | debt_consolidation | ...                | 729                | 1                  | NA                 | NA                 | 10                 | 0                  | 31704              | 81.9               | 23                 | A                  | \n",
       "|  7200              |  7200              |  7200              |  36 months         | 10                 | RENT               | 197000             | Not Verified       | Mar-16             | car                | ...                | 679                | 1                  | NA                 | 71                 |  9                 | 1                  |   762              |  5.4               | 28                 | B                  | \n",
       "| 10850              | 10850              | 10850              |  36 months         | 10                 | MORTGAGE           |  44000             | Verified           | Mar-16             | credit_card        | ...                | 664                | 0                  | 58                 | 59                 | 11                 | 1                  | 12347              | 64.3               | 26                 | C                  | \n",
       "|  2000              |  2000              |  2000              |  36 months         |  2                 | RENT               |  24000             | Verified           | Mar-16             | other              | ...                | 664                | 3                  | 33                 | 23                 |  7                 | 1                  |  1728              | 59.6               | 11                 | G                  | \n",
       "| 20000              | 20000              | 20000              |  36 months         | 10                 | MORTGAGE           | 165000             | Not Verified       | Mar-16             | debt_consolidation | ...                | 719                | 0                  | NA                 | NA                 | 14                 | 0                  | 20577              | 32.6               | 30                 | A                  | \n",
       "|  3000              |  3000              |  3000              |  36 months         |  0                 | RENT               |  24000             | Source Verified    | Mar-16             | vacation           | ...                | 719                | 0                  | NA                 | NA                 | 13                 | 0                  |  3651              | 16.4               | 13                 | B                  | \n",
       "\n",
       "\n"
      ],
      "text/plain": [
       "  loan_amnt funded_amnt funded_amnt_inv term       emp_length home_ownership\n",
       "1 28000     28000       28000            36 months 10         MORTGAGE      \n",
       "2  7200      7200        7200            36 months 10         RENT          \n",
       "3 10850     10850       10850            36 months 10         MORTGAGE      \n",
       "4  2000      2000        2000            36 months  2         RENT          \n",
       "5 20000     20000       20000            36 months 10         MORTGAGE      \n",
       "6  3000      3000        3000            36 months  0         RENT          \n",
       "  annual_inc verification_status issue_d purpose            ... fico_range_high\n",
       "1 117000     Not Verified        Mar-16  debt_consolidation ... 729            \n",
       "2 197000     Not Verified        Mar-16  car                ... 679            \n",
       "3  44000     Verified            Mar-16  credit_card        ... 664            \n",
       "4  24000     Verified            Mar-16  other              ... 664            \n",
       "5 165000     Not Verified        Mar-16  debt_consolidation ... 719            \n",
       "6  24000     Source Verified     Mar-16  vacation           ... 719            \n",
       "  inq_last_6mths mths_since_last_delinq mths_since_last_record open_acc pub_rec\n",
       "1 1              NA                     NA                     10       0      \n",
       "2 1              NA                     71                      9       1      \n",
       "3 0              58                     59                     11       1      \n",
       "4 3              33                     23                      7       1      \n",
       "5 0              NA                     NA                     14       0      \n",
       "6 0              NA                     NA                     13       0      \n",
       "  revol_bal revol_util total_acc grade\n",
       "1 31704     81.9       23        A    \n",
       "2   762      5.4       28        B    \n",
       "3 12347     64.3       26        C    \n",
       "4  1728     59.6       11        G    \n",
       "5 20577     32.6       30        A    \n",
       "6  3651     16.4       13        B    "
      ]
     },
     "metadata": {},
     "output_type": "display_data"
    }
   ],
   "source": [
    "data1 <- cbind(sub_train_data, train_data$grade)\n",
    "colnames(data1)[ncol(data1)] = \"grade\"\n",
    "head(data1)"
   ]
  },
  {
   "cell_type": "code",
   "execution_count": 31,
   "metadata": {
    "collapsed": false
   },
   "outputs": [],
   "source": [
    "library(e1071)"
   ]
  },
  {
   "cell_type": "code",
   "execution_count": 105,
   "metadata": {
    "collapsed": true
   },
   "outputs": [],
   "source": [
    "formula3_1 <- grade ~ loan_amnt + annual_inc + dti + term + verification_status + issue_d + \n",
    "delinq_2yrs + fico_range_low + fico_range_high + open_acc + pub_rec + revol_bal + total_acc"
   ]
  },
  {
   "cell_type": "code",
   "execution_count": 106,
   "metadata": {
    "collapsed": false
   },
   "outputs": [],
   "source": [
    "nB <- naiveBayes(grade ~ ., data = data1)"
   ]
  },
  {
   "cell_type": "code",
   "execution_count": 107,
   "metadata": {
    "collapsed": false
   },
   "outputs": [],
   "source": [
    "target_col <- which(colnames(sample_data) == \"grade\")\n",
    "\n",
    "y.pred <- predict(nB, train_data[,-target_col],type = \"class\")"
   ]
  },
  {
   "cell_type": "code",
   "execution_count": 112,
   "metadata": {
    "collapsed": false
   },
   "outputs": [
    {
     "name": "stdout",
     "output_type": "stream",
     "text": [
      " Factor w/ 7 levels \"A\",\"B\",\"C\",\"D\",..: 1 2 2 4 1 2 2 2 5 2 ...\n",
      " Factor w/ 7 levels \"A\",\"B\",\"C\",\"D\",..: 1 2 3 7 1 2 2 2 4 3 ...\n"
     ]
    },
    {
     "data": {
      "text/html": [
       "170940"
      ],
      "text/latex": [
       "170940"
      ],
      "text/markdown": [
       "170940"
      ],
      "text/plain": [
       "[1] 170940"
      ]
     },
     "metadata": {},
     "output_type": "display_data"
    },
    {
     "data": {
      "text/html": [
       "434407"
      ],
      "text/latex": [
       "434407"
      ],
      "text/markdown": [
       "434407"
      ],
      "text/plain": [
       "[1] 434407"
      ]
     },
     "metadata": {},
     "output_type": "display_data"
    },
    {
     "data": {
      "text/html": [
       "1.22169570910945"
      ],
      "text/latex": [
       "1.22169570910945"
      ],
      "text/markdown": [
       "1.22169570910945"
      ],
      "text/plain": [
       "[1] 1.221696"
      ]
     },
     "metadata": {},
     "output_type": "display_data"
    },
    {
     "data": {
      "text/html": [
       "<ol class=list-inline>\n",
       "\t<li>A</li>\n",
       "\t<li>B</li>\n",
       "\t<li>C</li>\n",
       "\t<li>G</li>\n",
       "\t<li>A</li>\n",
       "\t<li>B</li>\n",
       "</ol>\n"
      ],
      "text/latex": [
       "\\begin{enumerate*}\n",
       "\\item A\n",
       "\\item B\n",
       "\\item C\n",
       "\\item G\n",
       "\\item A\n",
       "\\item B\n",
       "\\end{enumerate*}\n"
      ],
      "text/markdown": [
       "1. A\n",
       "2. B\n",
       "3. C\n",
       "4. G\n",
       "5. A\n",
       "6. B\n",
       "\n",
       "\n"
      ],
      "text/plain": [
       "[1] A B C G A B\n",
       "Levels: A B C D E F G"
      ]
     },
     "metadata": {},
     "output_type": "display_data"
    },
    {
     "data": {
      "text/html": [
       "<ol class=list-inline>\n",
       "\t<li>A</li>\n",
       "\t<li>B</li>\n",
       "\t<li>B</li>\n",
       "\t<li>D</li>\n",
       "\t<li>A</li>\n",
       "\t<li>B</li>\n",
       "</ol>\n"
      ],
      "text/latex": [
       "\\begin{enumerate*}\n",
       "\\item A\n",
       "\\item B\n",
       "\\item B\n",
       "\\item D\n",
       "\\item A\n",
       "\\item B\n",
       "\\end{enumerate*}\n"
      ],
      "text/markdown": [
       "1. A\n",
       "2. B\n",
       "3. B\n",
       "4. D\n",
       "5. A\n",
       "6. B\n",
       "\n",
       "\n"
      ],
      "text/plain": [
       "[1] A B B D A B\n",
       "Levels: A B C D E F G"
      ]
     },
     "metadata": {},
     "output_type": "display_data"
    }
   ],
   "source": [
    "str(y.pred)\n",
    "str(train_data$grade)\n",
    "sum(train_data$grade == y.pred)\n",
    "nrow(train_data)\n",
    "\n",
    "rmse(as.numeric(y.pred), as.numeric(train_data$grade))\n",
    "\n",
    "head(train_data$grade)\n",
    "head(y.pred)"
   ]
  },
  {
   "cell_type": "code",
   "execution_count": 145,
   "metadata": {
    "collapsed": false
   },
   "outputs": [
    {
     "data": {
      "text/html": [
       "39.3501946331436"
      ],
      "text/latex": [
       "39.3501946331436"
      ],
      "text/markdown": [
       "39.3501946331436"
      ],
      "text/plain": [
       "[1] 39.35019"
      ]
     },
     "metadata": {},
     "output_type": "display_data"
    }
   ],
   "source": [
    "# Epic accuracy!!!\n",
    "170940/nrow(train_data)*100"
   ]
  },
  {
   "cell_type": "markdown",
   "metadata": {},
   "source": [
    "Not the best overall accuracy, however the grade missing on average by 1.22."
   ]
  },
  {
   "cell_type": "markdown",
   "metadata": {},
   "source": [
    "### SVM"
   ]
  },
  {
   "cell_type": "code",
   "execution_count": 139,
   "metadata": {
    "collapsed": false
   },
   "outputs": [
    {
     "data": {
      "text/plain": [
       "\n",
       "Call:\n",
       "svm(formula = formula3, data = data2, cost = 10, gamma = 1)\n",
       "\n",
       "\n",
       "Parameters:\n",
       "   SVM-Type:  eps-regression \n",
       " SVM-Kernel:  radial \n",
       "       cost:  10 \n",
       "      gamma:  1 \n",
       "    epsilon:  0.1 \n",
       "\n",
       "\n",
       "Number of Support Vectors:  9042\n"
      ]
     },
     "metadata": {},
     "output_type": "display_data"
    }
   ],
   "source": [
    "svm.model <- svm(formula3, data = data2, cost = 10, gamma = 1)\n",
    "svm.model"
   ]
  },
  {
   "cell_type": "code",
   "execution_count": 142,
   "metadata": {
    "collapsed": false
   },
   "outputs": [
    {
     "data": {
      "text/html": [
       "<dl class=dl-horizontal>\n",
       "\t<dt>48413</dt>\n",
       "\t\t<dd>12.478037679579</dd>\n",
       "\t<dt>56028</dt>\n",
       "\t\t<dd>13.9729716999665</dd>\n",
       "\t<dt>102899</dt>\n",
       "\t\t<dd>17.4824394700658</dd>\n",
       "\t<dt>343661</dt>\n",
       "\t\t<dd>19.5022490109081</dd>\n",
       "\t<dt>92518</dt>\n",
       "\t\t<dd>10.2387464153339</dd>\n",
       "\t<dt>296255</dt>\n",
       "\t\t<dd>14.503181726102</dd>\n",
       "</dl>\n"
      ],
      "text/latex": [
       "\\begin{description*}\n",
       "\\item[48413] 12.478037679579\n",
       "\\item[56028] 13.9729716999665\n",
       "\\item[102899] 17.4824394700658\n",
       "\\item[343661] 19.5022490109081\n",
       "\\item[92518] 10.2387464153339\n",
       "\\item[296255] 14.503181726102\n",
       "\\end{description*}\n"
      ],
      "text/markdown": [
       "48413\n",
       ":   12.47803767957956028\n",
       ":   13.9729716999665102899\n",
       ":   17.4824394700658343661\n",
       ":   19.502249010908192518\n",
       ":   10.2387464153339296255\n",
       ":   14.503181726102\n",
       "\n"
      ],
      "text/plain": [
       "   48413    56028   102899   343661    92518   296255 \n",
       "12.47804 13.97297 17.48244 19.50225 10.23875 14.50318 "
      ]
     },
     "metadata": {},
     "output_type": "display_data"
    }
   ],
   "source": [
    "svm.pred <- predict(svm.model, data2[,-ncol(data2)])\n",
    "head(svm.pred)"
   ]
  },
  {
   "cell_type": "code",
   "execution_count": 143,
   "metadata": {
    "collapsed": false
   },
   "outputs": [
    {
     "data": {
      "text/html": [
       "825"
      ],
      "text/latex": [
       "825"
      ],
      "text/markdown": [
       "825"
      ],
      "text/plain": [
       "[1] 825"
      ]
     },
     "metadata": {},
     "output_type": "display_data"
    },
    {
     "data": {
      "text/html": [
       "10000"
      ],
      "text/latex": [
       "10000"
      ],
      "text/markdown": [
       "10000"
      ],
      "text/plain": [
       "[1] 10000"
      ]
     },
     "metadata": {},
     "output_type": "display_data"
    },
    {
     "name": "stderr",
     "output_type": "stream",
     "text": [
      "Warning message in actual - predicted:\n",
      "\"longer object length is not a multiple of shorter object length\""
     ]
    },
    {
     "data": {
      "text/html": [
       "6.72456738617254"
      ],
      "text/latex": [
       "6.72456738617254"
      ],
      "text/markdown": [
       "6.72456738617254"
      ],
      "text/plain": [
       "[1] 6.724567"
      ]
     },
     "metadata": {},
     "output_type": "display_data"
    }
   ],
   "source": [
    "length(svm.pred)\n",
    "length(data2$int_rate)\n",
    "rmse(svm.pred, data2$int_rate)\n",
    "# Something wrong 825 predictions"
   ]
  },
  {
   "cell_type": "code",
   "execution_count": null,
   "metadata": {
    "collapsed": false
   },
   "outputs": [],
   "source": [
    "# SVM to predict interest grade\n",
    "#svm.model <- svm(formula3_1, data = data1, cost = 100, gamma = 1)\n",
    "# Formula3_1 slower than using all the data.., is there some necessary feature missing"
   ]
  },
  {
   "cell_type": "code",
   "execution_count": 22,
   "metadata": {
    "collapsed": false
   },
   "outputs": [
    {
     "ename": "ERROR",
     "evalue": "Error in eval(expr, envir, enclos): object 'data1' not found\n",
     "output_type": "error",
     "traceback": [
      "Error in eval(expr, envir, enclos): object 'data1' not found\nTraceback:\n",
      "1. svm(grade ~ ., data = data1, cost = 100, gamma = 1)",
      "2. svm.formula(grade ~ ., data = data1, cost = 100, gamma = 1)",
      "3. identical(class(eval.parent(m$data)), \"matrix\")",
      "4. eval.parent(m$data)",
      "5. eval(expr, p)",
      "6. eval(expr, envir, enclos)"
     ]
    }
   ],
   "source": [
    "# SVM to predict interest grade\n",
    "svm.model2 <- svm(grade ~ ., data = sub_data2, cost = 100, gamma = 1)\n"
   ]
  },
  {
   "cell_type": "code",
   "execution_count": null,
   "metadata": {
    "collapsed": true
   },
   "outputs": [],
   "source": [
    "svm.pred <- predict(svm.model2, sub_data2[,-ncol(sub_data2)])\n",
    "head(svm.pred)"
   ]
  },
  {
   "cell_type": "code",
   "execution_count": null,
   "metadata": {
    "collapsed": true
   },
   "outputs": [],
   "source": [
    "length(svm.pred)\n",
    "length(sub_data2$int_rate)\n",
    "rmse(svm.pred, sub_data2$grade)"
   ]
  }
 ],
 "metadata": {
  "kernelspec": {
   "display_name": "R",
   "language": "R",
   "name": "ir"
  },
  "language_info": {
   "codemirror_mode": "r",
   "file_extension": ".r",
   "mimetype": "text/x-r-source",
   "name": "R",
   "pygments_lexer": "r",
   "version": "3.3.2"
  },
  "toc": {
   "colors": {
    "hover_highlight": "#DAA520",
    "running_highlight": "#FF0000",
    "selected_highlight": "#FFD700"
   },
   "moveMenuLeft": true,
   "nav_menu": {
    "height": "29px",
    "width": "251px"
   },
   "navigate_menu": true,
   "number_sections": true,
   "sideBar": true,
   "threshold": 4,
   "toc_cell": false,
   "toc_position": {
    "height": "509px",
    "left": "0px",
    "right": "1068px",
    "top": "106px",
    "width": "212px"
   },
   "toc_section_display": "block",
   "toc_window_display": true,
   "widenNotebook": false
  }
 },
 "nbformat": 4,
 "nbformat_minor": 2
}
