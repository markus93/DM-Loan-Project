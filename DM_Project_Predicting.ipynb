{
 "cells": [
  {
   "cell_type": "markdown",
   "metadata": {},
   "source": [
    "# Data Mining Project - Predicting Interest Rates\n",
    "Markus Kängsepp"
   ]
  },
  {
   "cell_type": "markdown",
   "metadata": {},
   "source": [
    "## Preprocessing Data"
   ]
  },
  {
   "cell_type": "code",
   "execution_count": 28,
   "metadata": {
    "collapsed": true
   },
   "outputs": [],
   "source": [
    "file1 = \"data_loan/LoanStats_securev1_2016Q1.csv\"\n",
    "file2 = \"data_loan/LoanStats_securev1_2016Q2.csv\"\n",
    "file3 = \"data_loan/LoanStats_securev1_2016Q3.csv\"\n",
    "file4 = \"data_loan/LoanStats_securev1_2016Q4.csv\"\n",
    "\n",
    "f_desc = \"data_loan/loan_desc.csv\""
   ]
  },
  {
   "cell_type": "code",
   "execution_count": 29,
   "metadata": {
    "collapsed": false
   },
   "outputs": [],
   "source": [
    "dataQ1 <- read.csv(file1, skip = 1)  # Added line with description so skip = 2.\n",
    "dataQ2 <- read.csv(file2, skip = 1)\n",
    "dataQ3 <- read.csv(file3, skip = 1)\n",
    "dataQ4 <- read.csv(file4, skip = 1)"
   ]
  },
  {
   "cell_type": "code",
   "execution_count": 30,
   "metadata": {
    "collapsed": false
   },
   "outputs": [
    {
     "data": {
      "text/html": [
       "<table>\n",
       "<thead><tr><th scope=col>id</th><th scope=col>member_id</th><th scope=col>loan_amnt</th><th scope=col>funded_amnt</th><th scope=col>funded_amnt_inv</th><th scope=col>term</th><th scope=col>int_rate</th><th scope=col>installment</th><th scope=col>grade</th><th scope=col>sub_grade</th><th scope=col>...</th><th scope=col>sec_app_earliest_cr_line</th><th scope=col>sec_app_inq_last_6mths</th><th scope=col>sec_app_mort_acc</th><th scope=col>sec_app_open_acc</th><th scope=col>sec_app_revol_util</th><th scope=col>sec_app_open_il_6m</th><th scope=col>sec_app_num_rev_accts</th><th scope=col>sec_app_chargeoff_within_12_mths</th><th scope=col>sec_app_collections_12_mths_ex_med</th><th scope=col>sec_app_mths_since_last_major_derog</th></tr></thead>\n",
       "<tbody>\n",
       "\t<tr><td>76153534  </td><td>NA        </td><td>28000     </td><td>28000     </td><td>28000     </td><td> 36 months</td><td>  6.49%   </td><td>858.05    </td><td>A         </td><td>A2        </td><td>...       </td><td>NA        </td><td>NA        </td><td>NA        </td><td>NA        </td><td>NA        </td><td>NA        </td><td>NA        </td><td>NA        </td><td>NA        </td><td>NA        </td></tr>\n",
       "\t<tr><td>76153691  </td><td>NA        </td><td> 7200     </td><td> 7200     </td><td> 7200     </td><td> 36 months</td><td>  8.39%   </td><td>226.92    </td><td>B         </td><td>B1        </td><td>...       </td><td>NA        </td><td>NA        </td><td>NA        </td><td>NA        </td><td>NA        </td><td>NA        </td><td>NA        </td><td>NA        </td><td>NA        </td><td>NA        </td></tr>\n",
       "\t<tr><td>75993542  </td><td>NA        </td><td>10850     </td><td>10850     </td><td>10850     </td><td> 36 months</td><td> 13.67%   </td><td>369.10    </td><td>C         </td><td>C3        </td><td>...       </td><td>NA        </td><td>NA        </td><td>NA        </td><td>NA        </td><td>NA        </td><td>NA        </td><td>NA        </td><td>NA        </td><td>NA        </td><td>NA        </td></tr>\n",
       "\t<tr><td>75273614  </td><td>NA        </td><td> 2000     </td><td> 2000     </td><td> 2000     </td><td> 36 months</td><td> 28.34%   </td><td> 83.10    </td><td>G         </td><td>G3        </td><td>...       </td><td>NA        </td><td>NA        </td><td>NA        </td><td>NA        </td><td>NA        </td><td>NA        </td><td>NA        </td><td>NA        </td><td>NA        </td><td>NA        </td></tr>\n",
       "\t<tr><td>75359225  </td><td>NA        </td><td>20000     </td><td>20000     </td><td>20000     </td><td> 36 months</td><td>  5.32%   </td><td>602.30    </td><td>A         </td><td>A1        </td><td>...       </td><td>NA        </td><td>NA        </td><td>NA        </td><td>NA        </td><td>NA        </td><td>NA        </td><td>NA        </td><td>NA        </td><td>NA        </td><td>NA        </td></tr>\n",
       "\t<tr><td>74805010  </td><td>NA        </td><td> 3000     </td><td> 3000     </td><td> 3000     </td><td> 36 months</td><td>  9.75%   </td><td> 96.45    </td><td>B         </td><td>B3        </td><td>...       </td><td>NA        </td><td>NA        </td><td>NA        </td><td>NA        </td><td>NA        </td><td>NA        </td><td>NA        </td><td>NA        </td><td>NA        </td><td>NA        </td></tr>\n",
       "</tbody>\n",
       "</table>\n"
      ],
      "text/latex": [
       "\\begin{tabular}{r|llllllllllllllllllllllllllllllllllllllllllllllllllllllllllllllllllllllllllllllllllllllllllllllllllllllllllllllllllllllllllllllll}\n",
       " id & member\\_id & loan\\_amnt & funded\\_amnt & funded\\_amnt\\_inv & term & int\\_rate & installment & grade & sub\\_grade & ... & sec\\_app\\_earliest\\_cr\\_line & sec\\_app\\_inq\\_last\\_6mths & sec\\_app\\_mort\\_acc & sec\\_app\\_open\\_acc & sec\\_app\\_revol\\_util & sec\\_app\\_open\\_il\\_6m & sec\\_app\\_num\\_rev\\_accts & sec\\_app\\_chargeoff\\_within\\_12\\_mths & sec\\_app\\_collections\\_12\\_mths\\_ex\\_med & sec\\_app\\_mths\\_since\\_last\\_major\\_derog\\\\\n",
       "\\hline\n",
       "\t 76153534   & NA         & 28000      & 28000      & 28000      &  36 months &   6.49\\%  & 858.05     & A          & A2         & ...        & NA         & NA         & NA         & NA         & NA         & NA         & NA         & NA         & NA         & NA        \\\\\n",
       "\t 76153691   & NA         &  7200      &  7200      &  7200      &  36 months &   8.39\\%  & 226.92     & B          & B1         & ...        & NA         & NA         & NA         & NA         & NA         & NA         & NA         & NA         & NA         & NA        \\\\\n",
       "\t 75993542   & NA         & 10850      & 10850      & 10850      &  36 months &  13.67\\%  & 369.10     & C          & C3         & ...        & NA         & NA         & NA         & NA         & NA         & NA         & NA         & NA         & NA         & NA        \\\\\n",
       "\t 75273614   & NA         &  2000      &  2000      &  2000      &  36 months &  28.34\\%  &  83.10     & G          & G3         & ...        & NA         & NA         & NA         & NA         & NA         & NA         & NA         & NA         & NA         & NA        \\\\\n",
       "\t 75359225   & NA         & 20000      & 20000      & 20000      &  36 months &   5.32\\%  & 602.30     & A          & A1         & ...        & NA         & NA         & NA         & NA         & NA         & NA         & NA         & NA         & NA         & NA        \\\\\n",
       "\t 74805010   & NA         &  3000      &  3000      &  3000      &  36 months &   9.75\\%  &  96.45     & B          & B3         & ...        & NA         & NA         & NA         & NA         & NA         & NA         & NA         & NA         & NA         & NA        \\\\\n",
       "\\end{tabular}\n"
      ],
      "text/markdown": [
       "\n",
       "id | member_id | loan_amnt | funded_amnt | funded_amnt_inv | term | int_rate | installment | grade | sub_grade | ... | sec_app_earliest_cr_line | sec_app_inq_last_6mths | sec_app_mort_acc | sec_app_open_acc | sec_app_revol_util | sec_app_open_il_6m | sec_app_num_rev_accts | sec_app_chargeoff_within_12_mths | sec_app_collections_12_mths_ex_med | sec_app_mths_since_last_major_derog | \n",
       "|---|---|---|---|---|---|\n",
       "| 76153534   | NA         | 28000      | 28000      | 28000      |  36 months |   6.49%    | 858.05     | A          | A2         | ...        | NA         | NA         | NA         | NA         | NA         | NA         | NA         | NA         | NA         | NA         | \n",
       "| 76153691   | NA         |  7200      |  7200      |  7200      |  36 months |   8.39%    | 226.92     | B          | B1         | ...        | NA         | NA         | NA         | NA         | NA         | NA         | NA         | NA         | NA         | NA         | \n",
       "| 75993542   | NA         | 10850      | 10850      | 10850      |  36 months |  13.67%    | 369.10     | C          | C3         | ...        | NA         | NA         | NA         | NA         | NA         | NA         | NA         | NA         | NA         | NA         | \n",
       "| 75273614   | NA         |  2000      |  2000      |  2000      |  36 months |  28.34%    |  83.10     | G          | G3         | ...        | NA         | NA         | NA         | NA         | NA         | NA         | NA         | NA         | NA         | NA         | \n",
       "| 75359225   | NA         | 20000      | 20000      | 20000      |  36 months |   5.32%    | 602.30     | A          | A1         | ...        | NA         | NA         | NA         | NA         | NA         | NA         | NA         | NA         | NA         | NA         | \n",
       "| 74805010   | NA         |  3000      |  3000      |  3000      |  36 months |   9.75%    |  96.45     | B          | B3         | ...        | NA         | NA         | NA         | NA         | NA         | NA         | NA         | NA         | NA         | NA         | \n",
       "\n",
       "\n"
      ],
      "text/plain": [
       "  id       member_id loan_amnt funded_amnt funded_amnt_inv term       int_rate\n",
       "1 76153534 NA        28000     28000       28000            36 months   6.49% \n",
       "2 76153691 NA         7200      7200        7200            36 months   8.39% \n",
       "3 75993542 NA        10850     10850       10850            36 months  13.67% \n",
       "4 75273614 NA         2000      2000        2000            36 months  28.34% \n",
       "5 75359225 NA        20000     20000       20000            36 months   5.32% \n",
       "6 74805010 NA         3000      3000        3000            36 months   9.75% \n",
       "  installment grade sub_grade ... sec_app_earliest_cr_line\n",
       "1 858.05      A     A2        ... NA                      \n",
       "2 226.92      B     B1        ... NA                      \n",
       "3 369.10      C     C3        ... NA                      \n",
       "4  83.10      G     G3        ... NA                      \n",
       "5 602.30      A     A1        ... NA                      \n",
       "6  96.45      B     B3        ... NA                      \n",
       "  sec_app_inq_last_6mths sec_app_mort_acc sec_app_open_acc sec_app_revol_util\n",
       "1 NA                     NA               NA               NA                \n",
       "2 NA                     NA               NA               NA                \n",
       "3 NA                     NA               NA               NA                \n",
       "4 NA                     NA               NA               NA                \n",
       "5 NA                     NA               NA               NA                \n",
       "6 NA                     NA               NA               NA                \n",
       "  sec_app_open_il_6m sec_app_num_rev_accts sec_app_chargeoff_within_12_mths\n",
       "1 NA                 NA                    NA                              \n",
       "2 NA                 NA                    NA                              \n",
       "3 NA                 NA                    NA                              \n",
       "4 NA                 NA                    NA                              \n",
       "5 NA                 NA                    NA                              \n",
       "6 NA                 NA                    NA                              \n",
       "  sec_app_collections_12_mths_ex_med sec_app_mths_since_last_major_derog\n",
       "1 NA                                 NA                                 \n",
       "2 NA                                 NA                                 \n",
       "3 NA                                 NA                                 \n",
       "4 NA                                 NA                                 \n",
       "5 NA                                 NA                                 \n",
       "6 NA                                 NA                                 "
      ]
     },
     "metadata": {},
     "output_type": "display_data"
    }
   ],
   "source": [
    "head(dataQ1)"
   ]
  },
  {
   "cell_type": "markdown",
   "metadata": {},
   "source": [
    "### Additional Information About Features"
   ]
  },
  {
   "cell_type": "code",
   "execution_count": 97,
   "metadata": {
    "collapsed": false
   },
   "outputs": [],
   "source": [
    "n = length(colnames(dataQ1))\n",
    "\n",
    "col_desc = rep(\"\", n)\n",
    "\n",
    "\n",
    "for(i in c(1:128))\n",
    "{\n",
    "    #print(colnames(dataQ1)[i])\n",
    "    #print(as.character(desc[desc$V1 == colnames(dataQ1)[i], 2][1]))\n",
    "    d = as.character(desc[desc$V1 == colnames(dataQ1)[i], 2])\n",
    "    if(length(d) == 0)\n",
    "    {\n",
    "        d = \"\"\n",
    "    }\n",
    "    \n",
    "    col_desc[i] = d\n",
    "    \n",
    "}\n",
    "\n",
    "col_desc = cbind(colnames(dataQ1), col_desc)"
   ]
  },
  {
   "cell_type": "code",
   "execution_count": 103,
   "metadata": {
    "collapsed": false
   },
   "outputs": [],
   "source": [
    "write.table(t(col_desc), file = \"data_loan/sorted_desc.csv\", sep = \",\", col.names = F, row.names = F)"
   ]
  },
  {
   "cell_type": "markdown",
   "metadata": {},
   "source": [
    "### Selecting initial columns that may be useful"
   ]
  },
  {
   "cell_type": "code",
   "execution_count": null,
   "metadata": {
    "collapsed": true
   },
   "outputs": [],
   "source": [
    "## total_acc (37) last interesting row\n",
    "#colnames(dataQ1)[37]\n",
    "\n",
    "# Put all data to one data.frame\n",
    "data16 = rbind(head(dataQ1[, c(1:37)],-2), head(dataQ2[, c(1:37)],-2), head(dataQ3[, c(1:37)],-2), head(dataQ4[, c(1:37)],-2))"
   ]
  },
  {
   "cell_type": "code",
   "execution_count": 55,
   "metadata": {
    "collapsed": false
   },
   "outputs": [],
   "source": [
    "#write.csv(data2016, \"data_loan/data16.csv\", row.names = F)  # For some reason turns some months to numbers... i.e Jan-16 to 42401"
   ]
  },
  {
   "cell_type": "code",
   "execution_count": 56,
   "metadata": {
    "collapsed": true
   },
   "outputs": [],
   "source": [
    "data16 <- read.csv(\"data_loan/data16.csv\")"
   ]
  },
  {
   "cell_type": "code",
   "execution_count": 57,
   "metadata": {
    "collapsed": false
   },
   "outputs": [
    {
     "data": {
      "text/html": [
       "<table>\n",
       "<thead><tr><th scope=col>id</th><th scope=col>member_id</th><th scope=col>loan_amnt</th><th scope=col>funded_amnt</th><th scope=col>funded_amnt_inv</th><th scope=col>term</th><th scope=col>int_rate</th><th scope=col>installment</th><th scope=col>grade</th><th scope=col>sub_grade</th></tr></thead>\n",
       "<tbody>\n",
       "\t<tr><td>76153534  </td><td>NA        </td><td>28000     </td><td>28000     </td><td>28000     </td><td> 36 months</td><td>6.49%     </td><td>858.05    </td><td>A         </td><td>A2        </td></tr>\n",
       "\t<tr><td>76153691  </td><td>NA        </td><td> 7200     </td><td> 7200     </td><td> 7200     </td><td> 36 months</td><td>8.39%     </td><td>226.92    </td><td>B         </td><td>B1        </td></tr>\n",
       "\t<tr><td>75993542  </td><td>NA        </td><td>10850     </td><td>10850     </td><td>10850     </td><td> 36 months</td><td>13.67%    </td><td>369.10    </td><td>C         </td><td>C3        </td></tr>\n",
       "\t<tr><td>75273614  </td><td>NA        </td><td> 2000     </td><td> 2000     </td><td> 2000     </td><td> 36 months</td><td>28.34%    </td><td> 83.10    </td><td>G         </td><td>G3        </td></tr>\n",
       "\t<tr><td>75359225  </td><td>NA        </td><td>20000     </td><td>20000     </td><td>20000     </td><td> 36 months</td><td>5.32%     </td><td>602.30    </td><td>A         </td><td>A1        </td></tr>\n",
       "\t<tr><td>74805010  </td><td>NA        </td><td> 3000     </td><td> 3000     </td><td> 3000     </td><td> 36 months</td><td>9.75%     </td><td> 96.45    </td><td>B         </td><td>B3        </td></tr>\n",
       "</tbody>\n",
       "</table>\n"
      ],
      "text/latex": [
       "\\begin{tabular}{r|llllllllll}\n",
       " id & member\\_id & loan\\_amnt & funded\\_amnt & funded\\_amnt\\_inv & term & int\\_rate & installment & grade & sub\\_grade\\\\\n",
       "\\hline\n",
       "\t 76153534   & NA         & 28000      & 28000      & 28000      &  36 months & 6.49\\%    & 858.05     & A          & A2        \\\\\n",
       "\t 76153691   & NA         &  7200      &  7200      &  7200      &  36 months & 8.39\\%    & 226.92     & B          & B1        \\\\\n",
       "\t 75993542   & NA         & 10850      & 10850      & 10850      &  36 months & 13.67\\%   & 369.10     & C          & C3        \\\\\n",
       "\t 75273614   & NA         &  2000      &  2000      &  2000      &  36 months & 28.34\\%   &  83.10     & G          & G3        \\\\\n",
       "\t 75359225   & NA         & 20000      & 20000      & 20000      &  36 months & 5.32\\%    & 602.30     & A          & A1        \\\\\n",
       "\t 74805010   & NA         &  3000      &  3000      &  3000      &  36 months & 9.75\\%    &  96.45     & B          & B3        \\\\\n",
       "\\end{tabular}\n"
      ],
      "text/markdown": [
       "\n",
       "id | member_id | loan_amnt | funded_amnt | funded_amnt_inv | term | int_rate | installment | grade | sub_grade | \n",
       "|---|---|---|---|---|---|\n",
       "| 76153534   | NA         | 28000      | 28000      | 28000      |  36 months | 6.49%      | 858.05     | A          | A2         | \n",
       "| 76153691   | NA         |  7200      |  7200      |  7200      |  36 months | 8.39%      | 226.92     | B          | B1         | \n",
       "| 75993542   | NA         | 10850      | 10850      | 10850      |  36 months | 13.67%     | 369.10     | C          | C3         | \n",
       "| 75273614   | NA         |  2000      |  2000      |  2000      |  36 months | 28.34%     |  83.10     | G          | G3         | \n",
       "| 75359225   | NA         | 20000      | 20000      | 20000      |  36 months | 5.32%      | 602.30     | A          | A1         | \n",
       "| 74805010   | NA         |  3000      |  3000      |  3000      |  36 months | 9.75%      |  96.45     | B          | B3         | \n",
       "\n",
       "\n"
      ],
      "text/plain": [
       "  id       member_id loan_amnt funded_amnt funded_amnt_inv term       int_rate\n",
       "1 76153534 NA        28000     28000       28000            36 months 6.49%   \n",
       "2 76153691 NA         7200      7200        7200            36 months 8.39%   \n",
       "3 75993542 NA        10850     10850       10850            36 months 13.67%  \n",
       "4 75273614 NA         2000      2000        2000            36 months 28.34%  \n",
       "5 75359225 NA        20000     20000       20000            36 months 5.32%   \n",
       "6 74805010 NA         3000      3000        3000            36 months 9.75%   \n",
       "  installment grade sub_grade\n",
       "1 858.05      A     A2       \n",
       "2 226.92      B     B1       \n",
       "3 369.10      C     C3       \n",
       "4  83.10      G     G3       \n",
       "5 602.30      A     A1       \n",
       "6  96.45      B     B3       "
      ]
     },
     "metadata": {},
     "output_type": "display_data"
    },
    {
     "data": {
      "text/html": [
       "<table>\n",
       "<thead><tr><th scope=col>sub_grade</th><th scope=col>emp_title</th><th scope=col>emp_length</th><th scope=col>home_ownership</th><th scope=col>annual_inc</th><th scope=col>verification_status</th><th scope=col>issue_d</th><th scope=col>loan_status</th><th scope=col>pymnt_plan</th><th scope=col>url</th><th scope=col>desc</th></tr></thead>\n",
       "<tbody>\n",
       "\t<tr><td>A2                                                               </td><td>IT                                                               </td><td>10+ years                                                        </td><td>MORTGAGE                                                         </td><td>117000                                                           </td><td>Not Verified                                                     </td><td>Mar-16                                                           </td><td>Current                                                          </td><td>n                                                                </td><td>https://lendingclub.com/browse/loanDetail.action?loan_id=76153534</td><td>                                                                 </td></tr>\n",
       "\t<tr><td>B1                                                               </td><td>Director of Slots                                                </td><td>10+ years                                                        </td><td>RENT                                                             </td><td>197000                                                           </td><td>Not Verified                                                     </td><td>Mar-16                                                           </td><td>Current                                                          </td><td>n                                                                </td><td>https://lendingclub.com/browse/loanDetail.action?loan_id=76153691</td><td>                                                                 </td></tr>\n",
       "\t<tr><td>C3                                                               </td><td>Manager                                                          </td><td>10+ years                                                        </td><td>MORTGAGE                                                         </td><td> 44000                                                           </td><td>Verified                                                         </td><td>Mar-16                                                           </td><td>Current                                                          </td><td>n                                                                </td><td>https://lendingclub.com/browse/loanDetail.action?loan_id=75993542</td><td>                                                                 </td></tr>\n",
       "\t<tr><td>G3                                                               </td><td>security officer                                                 </td><td>2 years                                                          </td><td>RENT                                                             </td><td> 24000                                                           </td><td>Verified                                                         </td><td>Mar-16                                                           </td><td>Fully Paid                                                       </td><td>n                                                                </td><td>https://lendingclub.com/browse/loanDetail.action?loan_id=75273614</td><td>                                                                 </td></tr>\n",
       "\t<tr><td>A1                                                               </td><td>President                                                        </td><td>10+ years                                                        </td><td>MORTGAGE                                                         </td><td>165000                                                           </td><td>Not Verified                                                     </td><td>Mar-16                                                           </td><td>Current                                                          </td><td>n                                                                </td><td>https://lendingclub.com/browse/loanDetail.action?loan_id=75359225</td><td>                                                                 </td></tr>\n",
       "\t<tr><td>B3                                                               </td><td><span style=white-space:pre-wrap>sales            </span>        </td><td>&lt; 1 year                                                      </td><td><span style=white-space:pre-wrap>RENT    </span>                 </td><td> 24000                                                           </td><td>Source Verified                                                  </td><td>Mar-16                                                           </td><td><span style=white-space:pre-wrap>Current   </span>               </td><td>n                                                                </td><td>https://lendingclub.com/browse/loanDetail.action?loan_id=74805010</td><td>                                                                 </td></tr>\n",
       "</tbody>\n",
       "</table>\n"
      ],
      "text/latex": [
       "\\begin{tabular}{r|lllllllllll}\n",
       " sub\\_grade & emp\\_title & emp\\_length & home\\_ownership & annual\\_inc & verification\\_status & issue\\_d & loan\\_status & pymnt\\_plan & url & desc\\\\\n",
       "\\hline\n",
       "\t A2                                                                  & IT                                                                  & 10+ years                                                           & MORTGAGE                                                            & 117000                                                              & Not Verified                                                        & Mar-16                                                              & Current                                                             & n                                                                   & https://lendingclub.com/browse/loanDetail.action?loan\\_id=76153534 &                                                                    \\\\\n",
       "\t B1                                                                  & Director of Slots                                                   & 10+ years                                                           & RENT                                                                & 197000                                                              & Not Verified                                                        & Mar-16                                                              & Current                                                             & n                                                                   & https://lendingclub.com/browse/loanDetail.action?loan\\_id=76153691 &                                                                    \\\\\n",
       "\t C3                                                                  & Manager                                                             & 10+ years                                                           & MORTGAGE                                                            &  44000                                                              & Verified                                                            & Mar-16                                                              & Current                                                             & n                                                                   & https://lendingclub.com/browse/loanDetail.action?loan\\_id=75993542 &                                                                    \\\\\n",
       "\t G3                                                                  & security officer                                                    & 2 years                                                             & RENT                                                                &  24000                                                              & Verified                                                            & Mar-16                                                              & Fully Paid                                                          & n                                                                   & https://lendingclub.com/browse/loanDetail.action?loan\\_id=75273614 &                                                                    \\\\\n",
       "\t A1                                                                  & President                                                           & 10+ years                                                           & MORTGAGE                                                            & 165000                                                              & Not Verified                                                        & Mar-16                                                              & Current                                                             & n                                                                   & https://lendingclub.com/browse/loanDetail.action?loan\\_id=75359225 &                                                                    \\\\\n",
       "\t B3                                                                  & sales                                                               & < 1 year                                                            & RENT                                                                &  24000                                                              & Source Verified                                                     & Mar-16                                                              & Current                                                             & n                                                                   & https://lendingclub.com/browse/loanDetail.action?loan\\_id=74805010 &                                                                    \\\\\n",
       "\\end{tabular}\n"
      ],
      "text/markdown": [
       "\n",
       "sub_grade | emp_title | emp_length | home_ownership | annual_inc | verification_status | issue_d | loan_status | pymnt_plan | url | desc | \n",
       "|---|---|---|---|---|---|\n",
       "| A2                                                                | IT                                                                | 10+ years                                                         | MORTGAGE                                                          | 117000                                                            | Not Verified                                                      | Mar-16                                                            | Current                                                           | n                                                                 | https://lendingclub.com/browse/loanDetail.action?loan_id=76153534 |                                                                   | \n",
       "| B1                                                                | Director of Slots                                                 | 10+ years                                                         | RENT                                                              | 197000                                                            | Not Verified                                                      | Mar-16                                                            | Current                                                           | n                                                                 | https://lendingclub.com/browse/loanDetail.action?loan_id=76153691 |                                                                   | \n",
       "| C3                                                                | Manager                                                           | 10+ years                                                         | MORTGAGE                                                          |  44000                                                            | Verified                                                          | Mar-16                                                            | Current                                                           | n                                                                 | https://lendingclub.com/browse/loanDetail.action?loan_id=75993542 |                                                                   | \n",
       "| G3                                                                | security officer                                                  | 2 years                                                           | RENT                                                              |  24000                                                            | Verified                                                          | Mar-16                                                            | Fully Paid                                                        | n                                                                 | https://lendingclub.com/browse/loanDetail.action?loan_id=75273614 |                                                                   | \n",
       "| A1                                                                | President                                                         | 10+ years                                                         | MORTGAGE                                                          | 165000                                                            | Not Verified                                                      | Mar-16                                                            | Current                                                           | n                                                                 | https://lendingclub.com/browse/loanDetail.action?loan_id=75359225 |                                                                   | \n",
       "| B3                                                                | sales                                                             | < 1 year                                                          | RENT                                                              |  24000                                                            | Source Verified                                                   | Mar-16                                                            | Current                                                           | n                                                                 | https://lendingclub.com/browse/loanDetail.action?loan_id=74805010 |                                                                   | \n",
       "\n",
       "\n"
      ],
      "text/plain": [
       "  sub_grade emp_title         emp_length home_ownership annual_inc\n",
       "1 A2        IT                10+ years  MORTGAGE       117000    \n",
       "2 B1        Director of Slots 10+ years  RENT           197000    \n",
       "3 C3        Manager           10+ years  MORTGAGE        44000    \n",
       "4 G3        security officer  2 years    RENT            24000    \n",
       "5 A1        President         10+ years  MORTGAGE       165000    \n",
       "6 B3        sales             < 1 year   RENT            24000    \n",
       "  verification_status issue_d loan_status pymnt_plan\n",
       "1 Not Verified        Mar-16  Current     n         \n",
       "2 Not Verified        Mar-16  Current     n         \n",
       "3 Verified            Mar-16  Current     n         \n",
       "4 Verified            Mar-16  Fully Paid  n         \n",
       "5 Not Verified        Mar-16  Current     n         \n",
       "6 Source Verified     Mar-16  Current     n         \n",
       "  url                                                               desc\n",
       "1 https://lendingclub.com/browse/loanDetail.action?loan_id=76153534     \n",
       "2 https://lendingclub.com/browse/loanDetail.action?loan_id=76153691     \n",
       "3 https://lendingclub.com/browse/loanDetail.action?loan_id=75993542     \n",
       "4 https://lendingclub.com/browse/loanDetail.action?loan_id=75273614     \n",
       "5 https://lendingclub.com/browse/loanDetail.action?loan_id=75359225     \n",
       "6 https://lendingclub.com/browse/loanDetail.action?loan_id=74805010     "
      ]
     },
     "metadata": {},
     "output_type": "display_data"
    }
   ],
   "source": [
    "head(data16[,c(1:10)])\n",
    "head(data16[,c(10:20)])"
   ]
  },
  {
   "cell_type": "code",
   "execution_count": 34,
   "metadata": {
    "collapsed": false
   },
   "outputs": [
    {
     "name": "stdout",
     "output_type": "stream",
     "text": [
      " Factor w/ 13 levels \"\",\"< 1 year\",..: 4 4 4 5 4 2 6 6 3 12 ...\n"
     ]
    }
   ],
   "source": [
    "str(data16$emp_length)"
   ]
  },
  {
   "cell_type": "markdown",
   "metadata": {},
   "source": [
    "### Clean Data with OpenRefine"
   ]
  },
  {
   "cell_type": "markdown",
   "metadata": {},
   "source": [
    "Changes made to data using OpenRefine:\n",
    "- emp_length: changed to numeric, where <1 years is 0 and 10+ years is 10\n",
    "- int_rate: changed to numeric\n",
    "- term: to numeric (36 months to 36 and 60 months to 60)\n",
    "- home_ownership: to numeric - ANY - 4, RENT - 3, MORTGAGE - 2, OWN - 1\n",
    "- verification_status: Verified - 1, Source Verified - 2 and Not Verified - 3\n",
    "- issue_d: months to numeric\n",
    "- zip_code:  instead of ***XX only numbers kept (i.e 321XX to 321)\n",
    "- removing blank lines (last 2 rows for each quarter) - that contained info about total amount founded by policy code 1 and 2.\n",
    "- removing unnecessary features that are cannot be used for assigning interest rate: \n",
    "    - id\n",
    "    - member_id\n",
    "    - loan status (is not known at the moment of assigning interest rate)\n",
    "    - payment plan (only yes - if trouble paying loan)\n",
    "    - installment (calculated from interest and loan amount) - so direct correlation\n",
    "    - emp_title - too many different titles, should cluster before\n",
    "    - url - to given case (need to be member in Lending Club to check this)\n",
    "    - desc - only couple of descriptions\n",
    "    - title - subtitle of purpose (only little more information, mostly overlapping)\n",
    "    - earliest_cr_line\n",
    "    \n"
   ]
  },
  {
   "cell_type": "markdown",
   "metadata": {},
   "source": [
    "### Taking Care of Unknown Values"
   ]
  },
  {
   "cell_type": "code",
   "execution_count": 18,
   "metadata": {
    "collapsed": true
   },
   "outputs": [],
   "source": [
    "train_data <- read.csv(\"data_loan/data16_cleaned2.csv\")\n",
    "test_data <- read.csv(\"data_loan/data17_test_cleaned2.csv\")"
   ]
  },
  {
   "cell_type": "code",
   "execution_count": 19,
   "metadata": {
    "collapsed": false
   },
   "outputs": [
    {
     "name": "stderr",
     "output_type": "stream",
     "text": [
      "Warning message in eval(expr, envir, enclos):\n",
      "\"NAs introduced by coercion\"Warning message in eval(expr, envir, enclos):\n",
      "\"NAs introduced by coercion\"Warning message in eval(expr, envir, enclos):\n",
      "\"NAs introduced by coercion\""
     ]
    }
   ],
   "source": [
    "# Change factor values to numeric\n",
    "train_data$emp_length <- as.numeric(as.character(train_data$emp_length))\n",
    "test_data$emp_length <- as.numeric(as.character(test_data$emp_length))\n",
    "test_data$home_ownership <- as.numeric(as.character(test_data$home_ownership))"
   ]
  },
  {
   "cell_type": "code",
   "execution_count": 20,
   "metadata": {
    "collapsed": false
   },
   "outputs": [],
   "source": [
    "mean1 <- round(mean(train_data[, \"inq_last_6mths\"], na.rm=TRUE))  # Mean value for that attribute\n",
    "# Max for following two as I assume there are no information because no delinq's or record's happened or available\n",
    "max2 <- max(train_data[, \"mths_since_last_delinq\"], na.rm=TRUE)  \n",
    "max3 <- max(train_data[, \"mths_since_last_record\"], na.rm=TRUE)\n",
    "# Mean value for revol_util attribute\n",
    "mean4 <- mean(train_data[, \"revol_util\"], na.rm=TRUE)\n",
    "mean5 <- mean(train_data[, \"emp_length\"], na.rm=TRUE)\n",
    "\n",
    "# Same thing for test data\n",
    "t_mean1 <- round(mean(test_data[, \"zip_code\"], na.rm=TRUE))  # Should look for closest neighbors to predict this?\n",
    "# Max for following two as I assume there are no information because no delinq's or record's happened or available\n",
    "t_max2 <- max(test_data[, \"mths_since_last_delinq\"], na.rm=TRUE)  \n",
    "t_max3 <- max(test_data[, \"mths_since_last_record\"], na.rm=TRUE)\n",
    "# Mean value for revol_util attribute\n",
    "t_mean4 <- mean(test_data[, \"revol_util\"], na.rm=TRUE)\n",
    "t_mean5 <- mean(test_data[, \"emp_length\"], na.rm=TRUE)"
   ]
  },
  {
   "cell_type": "markdown",
   "metadata": {},
   "source": [
    "#### Replace NA-s with Mean and Max values of Attributes"
   ]
  },
  {
   "cell_type": "code",
   "execution_count": 21,
   "metadata": {
    "collapsed": false
   },
   "outputs": [],
   "source": [
    "train_data[is.na(train_data[, \"inq_last_6mths\"]), \"inq_last_6mths\"] <- mean1\n",
    "train_data[is.na(train_data[, \"mths_since_last_delinq\"]), \"mths_since_last_delinq\"] <- max2\n",
    "train_data[is.na(train_data[, \"mths_since_last_record\"]), \"mths_since_last_record\"] <- max3\n",
    "train_data[is.na(train_data[, \"revol_util\"]), \"revol_util\"] <- mean4\n",
    "train_data[is.na(train_data[, \"emp_length\"]), \"emp_length\"] <- mean5\n",
    "\n",
    "test_data[is.na(test_data[, \"zip_code\"]), \"zip_code\"] <- t_mean1\n",
    "test_data[is.na(test_data[, \"mths_since_last_delinq\"]), \"mths_since_last_delinq\"] <- t_max2\n",
    "test_data[is.na(test_data[, \"mths_since_last_record\"]), \"mths_since_last_record\"] <- t_max3\n",
    "test_data[is.na(test_data[, \"revol_util\"]), \"revol_util\"] <- t_mean4\n",
    "test_data[is.na(test_data[, \"emp_length\"]), \"emp_length\"] <- t_mean5\n",
    "test_data[is.na(test_data[, \"home_ownership\"]), \"home_ownership\"] <- 4  # means ANY (as we do not know the right val)"
   ]
  },
  {
   "cell_type": "code",
   "execution_count": 22,
   "metadata": {
    "collapsed": true
   },
   "outputs": [],
   "source": [
    "write.csv(train_data, \"data_loan/data16_cleaned3.csv\", row.names=FALSE)\n",
    "write.csv(test_data, \"data_loan/data17_test_cleaned3.csv\", row.names=FALSE)"
   ]
  },
  {
   "cell_type": "markdown",
   "metadata": {},
   "source": [
    "## Preparing data: splitting, scaling etc"
   ]
  },
  {
   "cell_type": "markdown",
   "metadata": {},
   "source": [
    "### First read in cleanest data"
   ]
  },
  {
   "cell_type": "code",
   "execution_count": 23,
   "metadata": {
    "collapsed": true
   },
   "outputs": [],
   "source": [
    "train_data <- read.csv(\"data_loan/data16_cleaned3.csv\")\n",
    "test_data <- read.csv(\"data_loan/data17_test_cleaned3.csv\")"
   ]
  },
  {
   "cell_type": "code",
   "execution_count": 102,
   "metadata": {
    "collapsed": false
   },
   "outputs": [],
   "source": [
    "# Small sample for testing algorithms, skip if not needed\n",
    "\n",
    "n <- nrow(train_data)\n",
    "set.seed(3)\n",
    "sample <- sample(n, 10000)\n",
    "data_sample_int <- train_data[sample, c(-6,-7)]\n",
    "data_sample_grade <- train_data[sample, c(-5,-7)]"
   ]
  },
  {
   "cell_type": "markdown",
   "metadata": {},
   "source": [
    "### Split Data to Train, Validation and Test"
   ]
  },
  {
   "cell_type": "code",
   "execution_count": 25,
   "metadata": {
    "collapsed": false
   },
   "outputs": [],
   "source": [
    "set.seed(10)\n",
    "n <- nrow(train_data)\n",
    "sample <- sample(n, n*0.75)\n",
    "data_train <- train_data[sample,]\n",
    "data_val <- train_data[-sample,]\n",
    "\n",
    "int_rate_train <- data_train$int_rate\n",
    "int_rate_val <- data_val$int_rate\n",
    "int_rate_test <- test_data$int_rate\n",
    "\n",
    "grade_train <- data_train$grade\n",
    "grade_val <- data_val$grade\n",
    "grade_test <- test_data$grade\n",
    "\n",
    "# Remove int_rate, grade, sub_grade - all these are targets      \n",
    "data_train <- data_train[, c(-5, -6, -7)]\n",
    "data_val <- data_val[, c(-5,-6,-7)]\n",
    "data_test <- test_data[, c(-5,-6,-7)]\n",
    "levels(data_test$purpose) <- levels(data_train$purpose)  # Same levels as training data\n",
    "levels(data_test$addr_state) <- levels(data_train$addr_state)\n",
    "\n",
    "data_train_w <- train_data[, c(-5, -6, -7)]  # whole (w) train data for final model\n",
    "\n",
    "# Special data sets with target values\n",
    "data_train_int <- data_train\n",
    "data_train_int$int_rate <- int_rate_train\n",
    "\n",
    "data_train_w_int <- data_train_w\n",
    "data_train_w_int$int_rate <- train_data$int_rate\n",
    "\n",
    "data_train_grade <- data_train\n",
    "data_train_grade$grade <- grade_train\n",
    "\n",
    "data_train_w_grade <- data_train_w\n",
    "data_train_w_grade$grade <- train_data$grade"
   ]
  },
  {
   "cell_type": "markdown",
   "metadata": {},
   "source": [
    "### Split data to Quarters"
   ]
  },
  {
   "cell_type": "code",
   "execution_count": 26,
   "metadata": {
    "collapsed": false
   },
   "outputs": [],
   "source": [
    "Q1 <- train_data[,\"issue_d\"] == 1 | train_data[,\"issue_d\"] == 2 | train_data[,\"issue_d\"] == 3\n",
    "Q2 <- train_data[,\"issue_d\"] == 4 | train_data[,\"issue_d\"] == 5 | train_data[,\"issue_d\"] == 6\n",
    "Q3 <- train_data[,\"issue_d\"] == 7 | train_data[,\"issue_d\"] == 8 | train_data[,\"issue_d\"] == 9\n",
    "Q4 <- train_data[,\"issue_d\"] == 10 | train_data[,\"issue_d\"] == 11 | train_data[,\"issue_d\"] == 12\n",
    "\n",
    "data_trainQ1 <- data_train_w_int[Q1, ]\n",
    "data_trainQ2 <- data_train_w_int[Q2, ]\n",
    "data_trainQ3 <- data_train_w_int[Q3, ]\n",
    "data_trainQ4 <- data_train_w_int[Q4, ]\n",
    "\n",
    "# Quarter data for interest rates\n",
    "data_trainQ234 <- rbind(data_trainQ2, data_trainQ3, data_trainQ4)  # Data with interest rate as target\n",
    "data_trainQ34 <- rbind(data_trainQ3, data_trainQ4)  # Interest rate as target\n",
    "# Quarter data for grades\n",
    "data_trainQ4_g <- data_train_w_grade[Q4, ]  # grade as target"
   ]
  },
  {
   "cell_type": "markdown",
   "metadata": {},
   "source": [
    "### Scale Data"
   ]
  },
  {
   "cell_type": "code",
   "execution_count": 41,
   "metadata": {
    "collapsed": false
   },
   "outputs": [],
   "source": [
    "data_train_scaled <- as.data.frame(scale(train_data[,c(-5,-6,-7,-13,-15)]))  # Left out categorical features\n",
    "data_train_scaled$purpose <- train_data$purpose  # purpose\n",
    "data_train_scaled$int_rate <- train_data$int_rate  # interest rate"
   ]
  },
  {
   "cell_type": "code",
   "execution_count": 42,
   "metadata": {
    "collapsed": false
   },
   "outputs": [
    {
     "data": {
      "text/html": [
       "<table>\n",
       "<thead><tr><th scope=col>loan_amnt</th><th scope=col>funded_amnt</th><th scope=col>funded_amnt_inv</th><th scope=col>term</th><th scope=col>emp_length</th><th scope=col>home_ownership</th><th scope=col>annual_inc</th><th scope=col>verification_status</th><th scope=col>issue_d</th><th scope=col>zip_code</th><th scope=col>...</th><th scope=col>inq_last_6mths</th><th scope=col>mths_since_last_delinq</th><th scope=col>mths_since_last_record</th><th scope=col>open_acc</th><th scope=col>pub_rec</th><th scope=col>revol_bal</th><th scope=col>revol_util</th><th scope=col>total_acc</th><th scope=col>purpose</th><th scope=col>int_rate</th></tr></thead>\n",
       "<tbody>\n",
       "\t<tr><td> 1.4753692        </td><td> 1.4753763        </td><td> 1.4764444        </td><td>-0.5855379        </td><td> 1.098083         </td><td>-0.4051353        </td><td> 0.4853618        </td><td> 1.2701908        </td><td>-0.9308896        </td><td>-0.65249100       </td><td>...               </td><td> 0.5090701        </td><td> 1.0386127        </td><td> 0.4333717        </td><td>-0.3255219        </td><td>-0.374646         </td><td> 0.6166402        </td><td> 1.2906401        </td><td>-0.1264975        </td><td>debt_consolidation</td><td> 6.49             </td></tr>\n",
       "\t<tr><td>-0.8378955        </td><td>-0.8378883        </td><td>-0.8374099        </td><td>-0.5855379        </td><td> 1.098083         </td><td> 1.1000226        </td><td> 1.5207527        </td><td> 1.2701908        </td><td>-0.9308896        </td><td>-0.04597263       </td><td>...               </td><td> 0.5090701        </td><td> 1.0386127        </td><td>-1.6734058        </td><td>-0.4990861        </td><td> 1.092763         </td><td>-0.6759712        </td><td>-1.8714674        </td><td> 0.2896176        </td><td>car               </td><td> 8.39             </td></tr>\n",
       "\t<tr><td>-0.4319620        </td><td>-0.4319549        </td><td>-0.4313730        </td><td>-0.5855379        </td><td> 1.098083         </td><td>-0.4051353        </td><td>-0.4594324        </td><td>-1.3150812        </td><td>-0.9308896        </td><td>-0.82114851       </td><td>...               </td><td>-0.6517339        </td><td>-0.6292873        </td><td>-2.1790324        </td><td>-0.1519577        </td><td> 1.092763         </td><td>-0.1920043        </td><td> 0.5631487        </td><td> 0.1231715        </td><td>credit_card       </td><td>13.67             </td></tr>\n",
       "\t<tr><td>-1.4162116        </td><td>-1.4162045        </td><td>-1.4158735        </td><td>-0.5855379        </td><td>-1.131402         </td><td> 1.1000226        </td><td>-0.7182801        </td><td>-1.3150812        </td><td>-0.9308896        </td><td>-1.39847615       </td><td>...               </td><td> 2.8306781        </td><td>-0.9336487        </td><td>-3.6959123        </td><td>-0.8462145        </td><td> 1.092763         </td><td>-0.6356163        </td><td> 0.3688754        </td><td>-1.1251737        </td><td>other             </td><td>28.34             </td></tr>\n",
       "\t<tr><td> 0.5856520        </td><td> 0.5856591        </td><td> 0.5865004        </td><td>-0.5855379        </td><td> 1.098083         </td><td>-0.4051353        </td><td> 1.1065963        </td><td> 1.2701908        </td><td>-0.9308896        </td><td> 0.31404629       </td><td>...               </td><td>-0.6517339        </td><td> 1.0386127        </td><td> 0.4333717        </td><td> 0.3687349        </td><td>-0.374646         </td><td> 0.1518064        </td><td>-0.7471625        </td><td> 0.4560636        </td><td>debt_consolidation</td><td> 5.32             </td></tr>\n",
       "\t<tr><td>-1.3049970        </td><td>-1.3049898        </td><td>-1.3046305        </td><td>-0.5855379        </td><td>-1.688774         </td><td> 1.1000226        </td><td>-0.7182801        </td><td>-0.0224452        </td><td>-0.9308896        </td><td> 1.18003775       </td><td>...               </td><td>-0.6517339        </td><td> 1.0386127        </td><td> 0.4333717        </td><td> 0.1951707        </td><td>-0.374646         </td><td>-0.5552824        </td><td>-1.4167853        </td><td>-0.9587277        </td><td>vacation          </td><td> 9.75             </td></tr>\n",
       "</tbody>\n",
       "</table>\n"
      ],
      "text/latex": [
       "\\begin{tabular}{r|llllllllllllllllllllllll}\n",
       " loan\\_amnt & funded\\_amnt & funded\\_amnt\\_inv & term & emp\\_length & home\\_ownership & annual\\_inc & verification\\_status & issue\\_d & zip\\_code & ... & inq\\_last\\_6mths & mths\\_since\\_last\\_delinq & mths\\_since\\_last\\_record & open\\_acc & pub\\_rec & revol\\_bal & revol\\_util & total\\_acc & purpose & int\\_rate\\\\\n",
       "\\hline\n",
       "\t  1.4753692           &  1.4753763           &  1.4764444           & -0.5855379           &  1.098083            & -0.4051353           &  0.4853618           &  1.2701908           & -0.9308896           & -0.65249100          & ...                  &  0.5090701           &  1.0386127           &  0.4333717           & -0.3255219           & -0.374646            &  0.6166402           &  1.2906401           & -0.1264975           & debt\\_consolidation &  6.49               \\\\\n",
       "\t -0.8378955         & -0.8378883         & -0.8374099         & -0.5855379         &  1.098083          &  1.1000226         &  1.5207527         &  1.2701908         & -0.9308896         & -0.04597263        & ...                &  0.5090701         &  1.0386127         & -1.6734058         & -0.4990861         &  1.092763          & -0.6759712         & -1.8714674         &  0.2896176         & car                &  8.39             \\\\\n",
       "\t -0.4319620           & -0.4319549           & -0.4313730           & -0.5855379           &  1.098083            & -0.4051353           & -0.4594324           & -1.3150812           & -0.9308896           & -0.82114851          & ...                  & -0.6517339           & -0.6292873           & -2.1790324           & -0.1519577           &  1.092763            & -0.1920043           &  0.5631487           &  0.1231715           & credit\\_card        & 13.67               \\\\\n",
       "\t -1.4162116         & -1.4162045         & -1.4158735         & -0.5855379         & -1.131402          &  1.1000226         & -0.7182801         & -1.3150812         & -0.9308896         & -1.39847615        & ...                &  2.8306781         & -0.9336487         & -3.6959123         & -0.8462145         &  1.092763          & -0.6356163         &  0.3688754         & -1.1251737         & other              & 28.34             \\\\\n",
       "\t  0.5856520           &  0.5856591           &  0.5865004           & -0.5855379           &  1.098083            & -0.4051353           &  1.1065963           &  1.2701908           & -0.9308896           &  0.31404629          & ...                  & -0.6517339           &  1.0386127           &  0.4333717           &  0.3687349           & -0.374646            &  0.1518064           & -0.7471625           &  0.4560636           & debt\\_consolidation &  5.32               \\\\\n",
       "\t -1.3049970         & -1.3049898         & -1.3046305         & -0.5855379         & -1.688774          &  1.1000226         & -0.7182801         & -0.0224452         & -0.9308896         &  1.18003775        & ...                & -0.6517339         &  1.0386127         &  0.4333717         &  0.1951707         & -0.374646          & -0.5552824         & -1.4167853         & -0.9587277         & vacation           &  9.75             \\\\\n",
       "\\end{tabular}\n"
      ],
      "text/markdown": [
       "\n",
       "loan_amnt | funded_amnt | funded_amnt_inv | term | emp_length | home_ownership | annual_inc | verification_status | issue_d | zip_code | ... | inq_last_6mths | mths_since_last_delinq | mths_since_last_record | open_acc | pub_rec | revol_bal | revol_util | total_acc | purpose | int_rate | \n",
       "|---|---|---|---|---|---|\n",
       "|  1.4753692         |  1.4753763         |  1.4764444         | -0.5855379         |  1.098083          | -0.4051353         |  0.4853618         |  1.2701908         | -0.9308896         | -0.65249100        | ...                |  0.5090701         |  1.0386127         |  0.4333717         | -0.3255219         | -0.374646          |  0.6166402         |  1.2906401         | -0.1264975         | debt_consolidation |  6.49              | \n",
       "| -0.8378955         | -0.8378883         | -0.8374099         | -0.5855379         |  1.098083          |  1.1000226         |  1.5207527         |  1.2701908         | -0.9308896         | -0.04597263        | ...                |  0.5090701         |  1.0386127         | -1.6734058         | -0.4990861         |  1.092763          | -0.6759712         | -1.8714674         |  0.2896176         | car                |  8.39              | \n",
       "| -0.4319620         | -0.4319549         | -0.4313730         | -0.5855379         |  1.098083          | -0.4051353         | -0.4594324         | -1.3150812         | -0.9308896         | -0.82114851        | ...                | -0.6517339         | -0.6292873         | -2.1790324         | -0.1519577         |  1.092763          | -0.1920043         |  0.5631487         |  0.1231715         | credit_card        | 13.67              | \n",
       "| -1.4162116         | -1.4162045         | -1.4158735         | -0.5855379         | -1.131402          |  1.1000226         | -0.7182801         | -1.3150812         | -0.9308896         | -1.39847615        | ...                |  2.8306781         | -0.9336487         | -3.6959123         | -0.8462145         |  1.092763          | -0.6356163         |  0.3688754         | -1.1251737         | other              | 28.34              | \n",
       "|  0.5856520         |  0.5856591         |  0.5865004         | -0.5855379         |  1.098083          | -0.4051353         |  1.1065963         |  1.2701908         | -0.9308896         |  0.31404629        | ...                | -0.6517339         |  1.0386127         |  0.4333717         |  0.3687349         | -0.374646          |  0.1518064         | -0.7471625         |  0.4560636         | debt_consolidation |  5.32              | \n",
       "| -1.3049970         | -1.3049898         | -1.3046305         | -0.5855379         | -1.688774          |  1.1000226         | -0.7182801         | -0.0224452         | -0.9308896         |  1.18003775        | ...                | -0.6517339         |  1.0386127         |  0.4333717         |  0.1951707         | -0.374646          | -0.5552824         | -1.4167853         | -0.9587277         | vacation           |  9.75              | \n",
       "\n",
       "\n"
      ],
      "text/plain": [
       "  loan_amnt  funded_amnt funded_amnt_inv term       emp_length home_ownership\n",
       "1  1.4753692  1.4753763   1.4764444      -0.5855379  1.098083  -0.4051353    \n",
       "2 -0.8378955 -0.8378883  -0.8374099      -0.5855379  1.098083   1.1000226    \n",
       "3 -0.4319620 -0.4319549  -0.4313730      -0.5855379  1.098083  -0.4051353    \n",
       "4 -1.4162116 -1.4162045  -1.4158735      -0.5855379 -1.131402   1.1000226    \n",
       "5  0.5856520  0.5856591   0.5865004      -0.5855379  1.098083  -0.4051353    \n",
       "6 -1.3049970 -1.3049898  -1.3046305      -0.5855379 -1.688774   1.1000226    \n",
       "  annual_inc verification_status issue_d    zip_code    ... inq_last_6mths\n",
       "1  0.4853618  1.2701908          -0.9308896 -0.65249100 ...  0.5090701    \n",
       "2  1.5207527  1.2701908          -0.9308896 -0.04597263 ...  0.5090701    \n",
       "3 -0.4594324 -1.3150812          -0.9308896 -0.82114851 ... -0.6517339    \n",
       "4 -0.7182801 -1.3150812          -0.9308896 -1.39847615 ...  2.8306781    \n",
       "5  1.1065963  1.2701908          -0.9308896  0.31404629 ... -0.6517339    \n",
       "6 -0.7182801 -0.0224452          -0.9308896  1.18003775 ... -0.6517339    \n",
       "  mths_since_last_delinq mths_since_last_record open_acc   pub_rec   revol_bal \n",
       "1  1.0386127              0.4333717             -0.3255219 -0.374646  0.6166402\n",
       "2  1.0386127             -1.6734058             -0.4990861  1.092763 -0.6759712\n",
       "3 -0.6292873             -2.1790324             -0.1519577  1.092763 -0.1920043\n",
       "4 -0.9336487             -3.6959123             -0.8462145  1.092763 -0.6356163\n",
       "5  1.0386127              0.4333717              0.3687349 -0.374646  0.1518064\n",
       "6  1.0386127              0.4333717              0.1951707 -0.374646 -0.5552824\n",
       "  revol_util total_acc  purpose            int_rate\n",
       "1  1.2906401 -0.1264975 debt_consolidation  6.49   \n",
       "2 -1.8714674  0.2896176 car                 8.39   \n",
       "3  0.5631487  0.1231715 credit_card        13.67   \n",
       "4  0.3688754 -1.1251737 other              28.34   \n",
       "5 -0.7471625  0.4560636 debt_consolidation  5.32   \n",
       "6 -1.4167853 -0.9587277 vacation            9.75   "
      ]
     },
     "metadata": {},
     "output_type": "display_data"
    }
   ],
   "source": [
    "head(data_train_scaled)"
   ]
  },
  {
   "cell_type": "markdown",
   "metadata": {},
   "source": [
    "## Predicting Interest Rates"
   ]
  },
  {
   "cell_type": "code",
   "execution_count": 29,
   "metadata": {
    "collapsed": true
   },
   "outputs": [],
   "source": [
    "# Necessary functions\n",
    "\n",
    "# Calculate Root Mean Squared Error (RMSE)\n",
    "rmse <- function(actual, predicted)\n",
    "{\n",
    "    error <- actual - predicted\n",
    "    return(sqrt(mean(error^2)))  \n",
    "    # sum(error^2)/n, can be used also <- n, n-1, n-2 (n-1, n-2 for some statistical reasons can be also used)\n",
    "}"
   ]
  },
  {
   "cell_type": "markdown",
   "metadata": {},
   "source": [
    "### Linear Regression"
   ]
  },
  {
   "cell_type": "code",
   "execution_count": 27,
   "metadata": {
    "collapsed": true
   },
   "outputs": [],
   "source": [
    "# Function to get model and RMSE and adjusted R-Square values\n",
    "get_model <- function(formula, dat, y, trace = TRUE)\n",
    "{\n",
    "    model <- lm(formula, dat)\n",
    "    y.pred <- predict(model)\n",
    "    if(trace)\n",
    "    {\n",
    "        print(sprintf(\"For given model the RMSE is %0.3f.\", rmse(y, y.pred)))\n",
    "        print(sprintf(\"For given model the Adjusted R-Squared is %0.3f.\", summary(model)$adj.r.squared))\n",
    "    }\n",
    "\n",
    "    return(model)\n",
    "}"
   ]
  },
  {
   "cell_type": "code",
   "execution_count": 104,
   "metadata": {
    "collapsed": false
   },
   "outputs": [
    {
     "name": "stdout",
     "output_type": "stream",
     "text": [
      "[1] \"For given model the RMSE is 4.925.\"\n",
      "[1] \"For given model the Adjusted R-Squared is 0.000.\"\n"
     ]
    }
   ],
   "source": [
    "form1 <- int_rate ~ 1\n",
    "model <- get_model(form1, dat = data_train_int , y = int_rate_train)"
   ]
  },
  {
   "cell_type": "code",
   "execution_count": 105,
   "metadata": {
    "collapsed": false
   },
   "outputs": [
    {
     "name": "stdout",
     "output_type": "stream",
     "text": [
      "[1] \"For given model the RMSE is 3.806.\"\n",
      "[1] \"For given model the Adjusted R-Squared is 0.404.\"\n"
     ]
    }
   ],
   "source": [
    "form3 <- int_rate ~ loan_amnt + term + home_ownership + verification_status + purpose + annual_inc + issue_d +\n",
    "fico_range_low + inq_last_6mths + mths_since_last_delinq + open_acc + revol_bal + \n",
    "revol_util + total_acc + emp_length + mths_since_last_record\n",
    "\n",
    "model4 <- get_model(form3, dat = train_data, y = train_data$int_rate)  # \n",
    "#summary(model4)"
   ]
  },
  {
   "cell_type": "code",
   "execution_count": 106,
   "metadata": {
    "collapsed": false
   },
   "outputs": [
    {
     "data": {
      "text/html": [
       "'Test RMSE: 4.387'"
      ],
      "text/latex": [
       "'Test RMSE: 4.387'"
      ],
      "text/markdown": [
       "'Test RMSE: 4.387'"
      ],
      "text/plain": [
       "[1] \"Test RMSE: 4.387\""
      ]
     },
     "metadata": {},
     "output_type": "display_data"
    }
   ],
   "source": [
    "#y.pred <- predict(model4, data_val)\n",
    "#paste(\"Val RMSE:\", round(rmse(y.pred, int_rate_val),3))\n",
    "\n",
    "y.pred <- predict(model4, data_test)\n",
    "paste(\"Test RMSE:\", round(rmse(y.pred, int_rate_test),3))"
   ]
  },
  {
   "cell_type": "markdown",
   "metadata": {},
   "source": [
    "#### Predict using last three quarters"
   ]
  },
  {
   "cell_type": "code",
   "execution_count": 42,
   "metadata": {
    "collapsed": false
   },
   "outputs": [
    {
     "name": "stdout",
     "output_type": "stream",
     "text": [
      "[1] \"For given model the RMSE is 3.874.\"\n",
      "[1] \"For given model the Adjusted R-Squared is 0.389.\"\n"
     ]
    }
   ],
   "source": [
    "model1 <- get_model(form3, dat = data_trainQ234 , y = data_trainQ234$int_rate)"
   ]
  },
  {
   "cell_type": "code",
   "execution_count": 43,
   "metadata": {
    "collapsed": false
   },
   "outputs": [
    {
     "data": {
      "text/html": [
       "'Test RMSE: 4.45'"
      ],
      "text/latex": [
       "'Test RMSE: 4.45'"
      ],
      "text/markdown": [
       "'Test RMSE: 4.45'"
      ],
      "text/plain": [
       "[1] \"Test RMSE: 4.45\""
      ]
     },
     "metadata": {},
     "output_type": "display_data"
    }
   ],
   "source": [
    "y.pred <- predict(model1, data_test)\n",
    "paste(\"Test RMSE:\", round(rmse(y.pred, int_rate_test),3))"
   ]
  },
  {
   "cell_type": "markdown",
   "metadata": {},
   "source": [
    "#### Try performance on the Last half of year"
   ]
  },
  {
   "cell_type": "code",
   "execution_count": 15,
   "metadata": {
    "collapsed": false
   },
   "outputs": [
    {
     "name": "stdout",
     "output_type": "stream",
     "text": [
      "[1] \"For given model the RMSE is 3.824.\"\n",
      "[1] \"For given model the Adjusted R-Squared is 0.395.\"\n"
     ]
    }
   ],
   "source": [
    "model2 <- get_model(form3, dat = data_trainQ34 , y = data_trainQ34$int_rate)"
   ]
  },
  {
   "cell_type": "code",
   "execution_count": 16,
   "metadata": {
    "collapsed": false
   },
   "outputs": [
    {
     "data": {
      "text/html": [
       "'Test RMSE: 4.331'"
      ],
      "text/latex": [
       "'Test RMSE: 4.331'"
      ],
      "text/markdown": [
       "'Test RMSE: 4.331'"
      ],
      "text/plain": [
       "[1] \"Test RMSE: 4.331\""
      ]
     },
     "metadata": {},
     "output_type": "display_data"
    }
   ],
   "source": [
    "y.pred <- predict(model2, data_test)\n",
    "paste(\"Test RMSE:\", round(rmse(y.pred, int_rate_test),3))"
   ]
  },
  {
   "cell_type": "markdown",
   "metadata": {},
   "source": [
    "#### Predict using only last quarter"
   ]
  },
  {
   "cell_type": "code",
   "execution_count": 46,
   "metadata": {
    "collapsed": false
   },
   "outputs": [
    {
     "name": "stdout",
     "output_type": "stream",
     "text": [
      "[1] \"For given model the RMSE is 3.855.\"\n",
      "[1] \"For given model the Adjusted R-Squared is 0.395.\"\n"
     ]
    }
   ],
   "source": [
    "model <- get_model(form3, dat = data_trainQ4 , y = data_trainQ4$int_rate)"
   ]
  },
  {
   "cell_type": "code",
   "execution_count": 47,
   "metadata": {
    "collapsed": false
   },
   "outputs": [
    {
     "data": {
      "text/html": [
       "'Test RMSE: 4.386'"
      ],
      "text/latex": [
       "'Test RMSE: 4.386'"
      ],
      "text/markdown": [
       "'Test RMSE: 4.386'"
      ],
      "text/plain": [
       "[1] \"Test RMSE: 4.386\""
      ]
     },
     "metadata": {},
     "output_type": "display_data"
    }
   ],
   "source": [
    "y.pred <- predict(model, data_test)\n",
    "paste(\"Test RMSE:\", round(rmse(y.pred, int_rate_test),3))"
   ]
  },
  {
   "cell_type": "markdown",
   "metadata": {},
   "source": [
    "### Polynomial Regression"
   ]
  },
  {
   "cell_type": "code",
   "execution_count": 111,
   "metadata": {
    "collapsed": false
   },
   "outputs": [
    {
     "name": "stdout",
     "output_type": "stream",
     "text": [
      "[1] \"For given model the RMSE is 3.647.\"\n",
      "[1] \"For given model the Adjusted R-Squared is 0.453.\"\n"
     ]
    }
   ],
   "source": [
    "#poly(dti,4) + annual_inc + issue_d does not work well on test set\n",
    "# For some reason annual income made the outcome far worse.\n",
    "\n",
    "form_poly <- int_rate ~ poly(loan_amnt,3) + term + poly(home_ownership,3) + poly(dti, 4) + \n",
    "annual_inc + issue_d + poly(verification_status, 2) + purpose + poly(fico_range_low,2) + inq_last_6mths + \n",
    "mths_since_last_delinq + mths_since_last_record + open_acc + poly(revol_bal,3) + \n",
    "revol_util + poly(total_acc,3) + emp_length\n",
    "\n",
    "model_poly <- get_model(form_poly, dat = train_data, y = train_data$int_rate)  # \n",
    "#summary(model_poly)"
   ]
  },
  {
   "cell_type": "code",
   "execution_count": 113,
   "metadata": {
    "collapsed": false
   },
   "outputs": [
    {
     "data": {
      "text/html": [
       "'Test RMSE: 4.484'"
      ],
      "text/latex": [
       "'Test RMSE: 4.484'"
      ],
      "text/markdown": [
       "'Test RMSE: 4.484'"
      ],
      "text/plain": [
       "[1] \"Test RMSE: 4.484\""
      ]
     },
     "metadata": {},
     "output_type": "display_data"
    }
   ],
   "source": [
    "#y.pred <- predict(model_poly, data_val)\n",
    "#paste(\"Val RMSE:\", round(rmse(y.pred, int_rate_val),3))\n",
    "\n",
    "y.pred <- predict(model_poly, data_test)\n",
    "paste(\"Test RMSE:\", round(rmse(y.pred, int_rate_test),3))"
   ]
  },
  {
   "cell_type": "markdown",
   "metadata": {},
   "source": [
    "### SVM"
   ]
  },
  {
   "cell_type": "code",
   "execution_count": 121,
   "metadata": {
    "collapsed": false
   },
   "outputs": [],
   "source": [
    "library(e1071)"
   ]
  },
  {
   "cell_type": "code",
   "execution_count": 53,
   "metadata": {
    "collapsed": false,
    "scrolled": true
   },
   "outputs": [
    {
     "data": {
      "text/plain": [
       "\n",
       "Call:\n",
       "svm(formula = int_rate ~ ., data = data_sample, cost = 10, gamma = 1)\n",
       "\n",
       "\n",
       "Parameters:\n",
       "   SVM-Type:  eps-regression \n",
       " SVM-Kernel:  radial \n",
       "       cost:  10 \n",
       "      gamma:  1 \n",
       "    epsilon:  0.1 \n",
       "\n",
       "\n",
       "Number of Support Vectors:  8915\n"
      ]
     },
     "metadata": {},
     "output_type": "display_data"
    }
   ],
   "source": [
    "svm.model <- svm(int_rate ~ ., data = data_train_w, cost = 10, gamma = 1)\n",
    "svm.model"
   ]
  },
  {
   "cell_type": "code",
   "execution_count": null,
   "metadata": {
    "collapsed": false
   },
   "outputs": [],
   "source": [
    "svm.pred <- predict(svm.model, data_train_w)"
   ]
  },
  {
   "cell_type": "code",
   "execution_count": null,
   "metadata": {
    "collapsed": false
   },
   "outputs": [],
   "source": [
    "rmse(svm.pred, train_data$int_rate)"
   ]
  },
  {
   "cell_type": "code",
   "execution_count": 106,
   "metadata": {
    "collapsed": false
   },
   "outputs": [],
   "source": [
    "svm.pred <- predict(svm.model, data_test)"
   ]
  },
  {
   "cell_type": "code",
   "execution_count": 107,
   "metadata": {
    "collapsed": false,
    "scrolled": false
   },
   "outputs": [
    {
     "data": {
      "text/html": [
       "5.09108436661389"
      ],
      "text/latex": [
       "5.09108436661389"
      ],
      "text/markdown": [
       "5.09108436661389"
      ],
      "text/plain": [
       "[1] 5.091084"
      ]
     },
     "metadata": {},
     "output_type": "display_data"
    },
    {
     "data": {
      "text/html": [
       "5.0694477340841"
      ],
      "text/latex": [
       "5.0694477340841"
      ],
      "text/markdown": [
       "5.0694477340841"
      ],
      "text/plain": [
       "[1] 5.069448"
      ]
     },
     "metadata": {},
     "output_type": "display_data"
    }
   ],
   "source": [
    "rmse(svm.pred, test_data$int_rate)"
   ]
  },
  {
   "cell_type": "code",
   "execution_count": 118,
   "metadata": {
    "collapsed": false
   },
   "outputs": [],
   "source": [
    "load(file = \"models/svm_model_int_rate.rda\")"
   ]
  },
  {
   "cell_type": "markdown",
   "metadata": {},
   "source": [
    "### Neural Net"
   ]
  },
  {
   "cell_type": "code",
   "execution_count": 41,
   "metadata": {
    "collapsed": true
   },
   "outputs": [],
   "source": [
    "library(nnet)"
   ]
  },
  {
   "cell_type": "code",
   "execution_count": 64,
   "metadata": {
    "collapsed": true
   },
   "outputs": [],
   "source": [
    "formula_nnet <- int_rate ~ loan_amnt + term + emp_length + annual_inc + home_ownership + dti + fico_range_low + \n",
    "                 funded_amnt + funded_amnt_inv + verification_status + issue_d + delinq_2yrs + inq_last_6mths + \n",
    "                 mths_since_last_delinq + mths_since_last_record"
   ]
  },
  {
   "cell_type": "code",
   "execution_count": 68,
   "metadata": {
    "collapsed": false
   },
   "outputs": [],
   "source": [
    "nnet.fit <- nnet(formula_nnet, data=data_trainQ34, size=10, decay = 5e-4,\n",
    "                 linout=TRUE, skip=TRUE, MaxNWts=30000, trace=FALSE, maxit=200)"
   ]
  },
  {
   "cell_type": "code",
   "execution_count": 69,
   "metadata": {
    "collapsed": false
   },
   "outputs": [
    {
     "data": {
      "text/html": [
       "3.93463862638371"
      ],
      "text/latex": [
       "3.93463862638371"
      ],
      "text/markdown": [
       "3.93463862638371"
      ],
      "text/plain": [
       "[1] 3.934639"
      ]
     },
     "metadata": {},
     "output_type": "display_data"
    }
   ],
   "source": [
    "nnet.pred <- predict(nnet.fit)\n",
    "rmse(nnet.pred, data_trainQ34$int_rate)"
   ]
  },
  {
   "cell_type": "code",
   "execution_count": 115,
   "metadata": {
    "collapsed": false
   },
   "outputs": [
    {
     "data": {
      "text/html": [
       "4.4715953202391"
      ],
      "text/latex": [
       "4.4715953202391"
      ],
      "text/markdown": [
       "4.4715953202391"
      ],
      "text/plain": [
       "[1] 4.471595"
      ]
     },
     "metadata": {},
     "output_type": "display_data"
    }
   ],
   "source": [
    "nnet.pred <- predict(nnet.fit, test_data)\n",
    "rmse(nnet.pred, test_data$int_rate)"
   ]
  },
  {
   "cell_type": "code",
   "execution_count": 116,
   "metadata": {
    "collapsed": true
   },
   "outputs": [],
   "source": [
    "save(nnet.fit, file = \"models/nnet_fit_q34.rda\")"
   ]
  },
  {
   "cell_type": "markdown",
   "metadata": {},
   "source": [
    "### Gradient Boosting"
   ]
  },
  {
   "cell_type": "code",
   "execution_count": null,
   "metadata": {
    "collapsed": true
   },
   "outputs": [],
   "source": [
    "# Libraries\n",
    "library(caret)\n",
    "library(gbm)"
   ]
  },
  {
   "cell_type": "code",
   "execution_count": 46,
   "metadata": {
    "collapsed": true
   },
   "outputs": [],
   "source": [
    "gbm.model_s <- gbm(int_rate ~ ., data = data_trainQ34,\n",
    "n.trees=1000,\n",
    "shrinkage=0.05,\n",
    "distribution=\"gaussian\",\n",
    "interaction.depth=7,\n",
    "bag.fraction=0.9,\n",
    "cv.fold=5,\n",
    "n.minobsinnode = 50)"
   ]
  },
  {
   "cell_type": "code",
   "execution_count": null,
   "metadata": {
    "collapsed": true
   },
   "outputs": [],
   "source": [
    "gbm.model_s"
   ]
  },
  {
   "cell_type": "code",
   "execution_count": 48,
   "metadata": {
    "collapsed": true
   },
   "outputs": [],
   "source": [
    "save(gbm.model_s, file = \"models/gbm_models_q34.rda\")"
   ]
  },
  {
   "cell_type": "code",
   "execution_count": 61,
   "metadata": {
    "collapsed": false
   },
   "outputs": [
    {
     "data": {
      "text/html": [
       "3.36035080949206"
      ],
      "text/latex": [
       "3.36035080949206"
      ],
      "text/markdown": [
       "3.36035080949206"
      ],
      "text/plain": [
       "[1] 3.360351"
      ]
     },
     "metadata": {},
     "output_type": "display_data"
    }
   ],
   "source": [
    "y.pred <- predict(gbm.model_s, n.trees = 1000, data_trainQ34)\n",
    "rmse(data_trainQ34$int_rate, y.pred)"
   ]
  },
  {
   "cell_type": "code",
   "execution_count": 62,
   "metadata": {
    "collapsed": false
   },
   "outputs": [
    {
     "data": {
      "text/html": [
       "3.81106598281981"
      ],
      "text/latex": [
       "3.81106598281981"
      ],
      "text/markdown": [
       "3.81106598281981"
      ],
      "text/plain": [
       "[1] 3.811066"
      ]
     },
     "metadata": {},
     "output_type": "display_data"
    }
   ],
   "source": [
    "y.pred <- predict(gbm.model_s, n.trees = 1000, test_data)\n",
    "rmse(test_data$int_rate, y.pred)"
   ]
  },
  {
   "cell_type": "markdown",
   "metadata": {},
   "source": [
    "## Predicting Interest Grade"
   ]
  },
  {
   "cell_type": "markdown",
   "metadata": {},
   "source": [
    "### Naive Bayes"
   ]
  },
  {
   "cell_type": "code",
   "execution_count": 17,
   "metadata": {
    "collapsed": false
   },
   "outputs": [],
   "source": [
    "library(e1071)"
   ]
  },
  {
   "cell_type": "code",
   "execution_count": null,
   "metadata": {
    "collapsed": true
   },
   "outputs": [],
   "source": [
    "nB <- naiveBayes(grade ~ ., data = data_train_w_grade)\n",
    "\n",
    "target_col <- which(colnames(data_train_w_grade) == \"grade\")"
   ]
  },
  {
   "cell_type": "code",
   "execution_count": null,
   "metadata": {
    "collapsed": true
   },
   "outputs": [],
   "source": [
    "nb.pred1 <- predict(nB, data_train_w_grade[,-target_col], type = \"class\")\n",
    "sum(train_data$grade == nb.pred1)/nrow(train_data)"
   ]
  },
  {
   "cell_type": "code",
   "execution_count": 20,
   "metadata": {
    "collapsed": false
   },
   "outputs": [
    {
     "data": {
      "text/html": [
       "1.22210452447696"
      ],
      "text/latex": [
       "1.22210452447696"
      ],
      "text/markdown": [
       "1.22210452447696"
      ],
      "text/plain": [
       "[1] 1.222105"
      ]
     },
     "metadata": {},
     "output_type": "display_data"
    }
   ],
   "source": [
    "rmse(as.numeric(nb.pred1), as.numeric(train_data$grade))"
   ]
  },
  {
   "cell_type": "code",
   "execution_count": null,
   "metadata": {
    "collapsed": true
   },
   "outputs": [],
   "source": [
    "nb.pred2 <- predict(nB, data_test, type = \"class\")"
   ]
  },
  {
   "cell_type": "code",
   "execution_count": 21,
   "metadata": {
    "collapsed": false
   },
   "outputs": [
    {
     "data": {
      "text/html": [
       "38360"
      ],
      "text/latex": [
       "38360"
      ],
      "text/markdown": [
       "38360"
      ],
      "text/plain": [
       "[1] 38360"
      ]
     },
     "metadata": {},
     "output_type": "display_data"
    },
    {
     "data": {
      "text/html": [
       "0.396366980439971"
      ],
      "text/latex": [
       "0.396366980439971"
      ],
      "text/markdown": [
       "0.396366980439971"
      ],
      "text/plain": [
       "[1] 0.396367"
      ]
     },
     "metadata": {},
     "output_type": "display_data"
    },
    {
     "data": {
      "text/html": [
       "1.26172775700849"
      ],
      "text/latex": [
       "1.26172775700849"
      ],
      "text/markdown": [
       "1.26172775700849"
      ],
      "text/plain": [
       "[1] 1.261728"
      ]
     },
     "metadata": {},
     "output_type": "display_data"
    }
   ],
   "source": [
    "sum(test_data$grade == nb.pred2)/nrow(test_data)\n",
    "rmse(as.numeric(nb.pred2), as.numeric(test_data$grade))"
   ]
  },
  {
   "cell_type": "markdown",
   "metadata": {
    "collapsed": false
   },
   "source": [
    "Not the best overall accuracy, however the grade missing on average by 1.26."
   ]
  },
  {
   "cell_type": "markdown",
   "metadata": {},
   "source": [
    "Given model probably not saved.."
   ]
  },
  {
   "cell_type": "markdown",
   "metadata": {},
   "source": [
    "### SVM"
   ]
  },
  {
   "cell_type": "code",
   "execution_count": 11,
   "metadata": {
    "collapsed": false
   },
   "outputs": [],
   "source": [
    "library(e1071)"
   ]
  },
  {
   "cell_type": "code",
   "execution_count": null,
   "metadata": {
    "collapsed": false
   },
   "outputs": [],
   "source": [
    "# SVM to predict interest grade\n",
    "svm.model <- svm(grade ~ ., data = data_trainQ4_g, cost = 10, gamma = 1)"
   ]
  },
  {
   "cell_type": "code",
   "execution_count": 12,
   "metadata": {
    "collapsed": false
   },
   "outputs": [],
   "source": [
    "svm.pred <- predict(svm.model)"
   ]
  },
  {
   "cell_type": "code",
   "execution_count": null,
   "metadata": {
    "collapsed": true
   },
   "outputs": [],
   "source": [
    "length(svm.pred)"
   ]
  },
  {
   "cell_type": "code",
   "execution_count": 31,
   "metadata": {
    "collapsed": false
   },
   "outputs": [
    {
     "data": {
      "text/html": [
       "0"
      ],
      "text/latex": [
       "0"
      ],
      "text/markdown": [
       "0"
      ],
      "text/plain": [
       "[1] 0"
      ]
     },
     "metadata": {},
     "output_type": "display_data"
    },
    {
     "data": {
      "text/html": [
       "11.539801703271"
      ],
      "text/latex": [
       "11.539801703271"
      ],
      "text/markdown": [
       "11.539801703271"
      ],
      "text/plain": [
       "[1] 11.5398"
      ]
     },
     "metadata": {},
     "output_type": "display_data"
    }
   ],
   "source": [
    "sum(data_trainQ4_g$grade == svm.pred)/nrow(data_trainQ4_g)\n",
    "rmse(as.numeric(svm.pred), as.numeric(data_trainQ4_g$grade))"
   ]
  },
  {
   "cell_type": "code",
   "execution_count": null,
   "metadata": {
    "collapsed": false
   },
   "outputs": [],
   "source": [
    "svm.pred2 <- predict(svm.model, data_test)"
   ]
  },
  {
   "cell_type": "code",
   "execution_count": null,
   "metadata": {
    "collapsed": false
   },
   "outputs": [],
   "source": [
    "sum(test_data$grade == svm.pred2)/nrow(data_test)\n",
    "rmse(as.numeric(svm.pred2), as.numeric(test_data$grade))"
   ]
  },
  {
   "cell_type": "code",
   "execution_count": null,
   "metadata": {
    "collapsed": true
   },
   "outputs": [],
   "source": [
    "save(svm.model, file = \"models/svm_model_q4_grade.rda\")"
   ]
  },
  {
   "cell_type": "code",
   "execution_count": 1,
   "metadata": {
    "collapsed": true
   },
   "outputs": [],
   "source": [
    "load(\"models/svm_model_q4_grade.rda\")"
   ]
  },
  {
   "cell_type": "markdown",
   "metadata": {},
   "source": [
    "### Gradiant Boosting - multinomial"
   ]
  },
  {
   "cell_type": "code",
   "execution_count": 153,
   "metadata": {
    "collapsed": true
   },
   "outputs": [],
   "source": [
    "library(gbm)"
   ]
  },
  {
   "cell_type": "code",
   "execution_count": 154,
   "metadata": {
    "collapsed": true
   },
   "outputs": [],
   "source": [
    "form_gb_grade <- grade ~ loan_amnt + term + home_ownership + verification_status + purpose + \n",
    "fico_range_low + inq_last_6mths + mths_since_last_delinq + open_acc + revol_bal + \n",
    "revol_util + total_acc + emp_length + mths_since_last_record"
   ]
  },
  {
   "cell_type": "code",
   "execution_count": null,
   "metadata": {
    "collapsed": false
   },
   "outputs": [],
   "source": [
    "gbm.model <- gbm(form_gb_grade, data = data_trainQ34_g,\n",
    "n.trees=500,\n",
    "shrinkage=0.05,\n",
    "distribution=\"multinomial\",\n",
    "interaction.depth=5,\n",
    "bag.fraction=0.9,\n",
    "cv.fold=3,\n",
    "n.minobsinnode = 30)"
   ]
  },
  {
   "cell_type": "code",
   "execution_count": null,
   "metadata": {
    "collapsed": false
   },
   "outputs": [],
   "source": [
    "gbm.model"
   ]
  },
  {
   "cell_type": "code",
   "execution_count": null,
   "metadata": {
    "collapsed": true
   },
   "outputs": [],
   "source": [
    "save(gbm.model, file = \"models/gbm_grade_q34.rda\")"
   ]
  },
  {
   "cell_type": "code",
   "execution_count": null,
   "metadata": {
    "collapsed": true
   },
   "outputs": [],
   "source": [
    "load(file = \"models/gbm_q34_grade.rda\")"
   ]
  },
  {
   "cell_type": "code",
   "execution_count": null,
   "metadata": {
    "collapsed": false
   },
   "outputs": [],
   "source": [
    "gb.pred_train <- predict(gbm.model, type = \"response\")"
   ]
  },
  {
   "cell_type": "code",
   "execution_count": null,
   "metadata": {
    "collapsed": false
   },
   "outputs": [],
   "source": [
    "n <- nrow(data_trainQ34_g)\n",
    "gb.labels <- rep(0, n)\n",
    "for(i in c(1:n))\n",
    "{\n",
    "    gb.labels[i] <- which(max(gb.pred_train[i,,1]) == gb.pred_train[i,,1])\n",
    "}\n",
    "\n",
    "rmse(as.numeric(gb.labels), as.numeric(data_trainQ34_g$grade))"
   ]
  },
  {
   "cell_type": "code",
   "execution_count": null,
   "metadata": {
    "collapsed": false
   },
   "outputs": [],
   "source": [
    "gb.pred <- predict(gbm.model, data_test, type = \"response\")"
   ]
  },
  {
   "cell_type": "code",
   "execution_count": null,
   "metadata": {
    "collapsed": false
   },
   "outputs": [],
   "source": [
    "n <- nrow(data_test)\n",
    "gb.labels <- rep(0, n)\n",
    "for(i in c(1:n))\n",
    "{\n",
    "    gb.labels[i] <- which(max(gb.pred[i,,1]) == gb.pred[i,,1])\n",
    "}"
   ]
  },
  {
   "cell_type": "code",
   "execution_count": 167,
   "metadata": {
    "collapsed": false
   },
   "outputs": [
    {
     "data": {
      "text/html": [
       "1.0408135582904"
      ],
      "text/latex": [
       "1.0408135582904"
      ],
      "text/markdown": [
       "1.0408135582904"
      ],
      "text/plain": [
       "[1] 1.040814"
      ]
     },
     "metadata": {},
     "output_type": "display_data"
    }
   ],
   "source": [
    "rmse(as.numeric(gb.labels), as.numeric(test_data$grade))"
   ]
  },
  {
   "cell_type": "markdown",
   "metadata": {},
   "source": [
    "### KNN"
   ]
  },
  {
   "cell_type": "code",
   "execution_count": 136,
   "metadata": {
    "collapsed": false
   },
   "outputs": [],
   "source": [
    "library(class)"
   ]
  },
  {
   "cell_type": "code",
   "execution_count": null,
   "metadata": {
    "collapsed": true
   },
   "outputs": [],
   "source": [
    "# Try this on scaled data"
   ]
  },
  {
   "cell_type": "code",
   "execution_count": 141,
   "metadata": {
    "collapsed": false
   },
   "outputs": [],
   "source": [
    "knn.pred <- knn(data_trainQ34_g[, c(-10, -12,-25)], data_test[, c(-10, -12)], \n",
    "                data_trainQ34_g$grade, k = 10)  # 10 closest members"
   ]
  },
  {
   "cell_type": "code",
   "execution_count": 142,
   "metadata": {
    "collapsed": false
   },
   "outputs": [
    {
     "data": {
      "text/html": [
       "31891"
      ],
      "text/latex": [
       "31891"
      ],
      "text/markdown": [
       "31891"
      ],
      "text/plain": [
       "[1] 31891"
      ]
     },
     "metadata": {},
     "output_type": "display_data"
    },
    {
     "data": {
      "text/html": [
       "0.329523966976307"
      ],
      "text/latex": [
       "0.329523966976307"
      ],
      "text/markdown": [
       "0.329523966976307"
      ],
      "text/plain": [
       "[1] 0.329524"
      ]
     },
     "metadata": {},
     "output_type": "display_data"
    },
    {
     "data": {
      "text/html": [
       "1.29899211959395"
      ],
      "text/latex": [
       "1.29899211959395"
      ],
      "text/markdown": [
       "1.29899211959395"
      ],
      "text/plain": [
       "[1] 1.298992"
      ]
     },
     "metadata": {},
     "output_type": "display_data"
    }
   ],
   "source": [
    "sum(test_data$grade == knn.pred)\n",
    "sum(test_data$grade == knn.pred)/nrow(test_data)\n",
    "\n",
    "rmse(as.numeric(knn.pred), as.numeric(test_data$grade))"
   ]
  },
  {
   "cell_type": "markdown",
   "metadata": {},
   "source": [
    "### Random Forest"
   ]
  },
  {
   "cell_type": "code",
   "execution_count": 3,
   "metadata": {
    "collapsed": false
   },
   "outputs": [],
   "source": [
    "library(randomForest)"
   ]
  },
  {
   "cell_type": "code",
   "execution_count": 144,
   "metadata": {
    "collapsed": true
   },
   "outputs": [],
   "source": [
    "rf1 <- randomForest(grade ~ ., data_trainQ34_g, ntree = 100) "
   ]
  },
  {
   "cell_type": "code",
   "execution_count": 145,
   "metadata": {
    "collapsed": false
   },
   "outputs": [
    {
     "data": {
      "text/plain": [
       "\n",
       "Call:\n",
       " randomForest(formula = grade ~ ., data = data_trainQ34_g, ntree = 100) \n",
       "               Type of random forest: classification\n",
       "                     Number of trees: 100\n",
       "No. of variables tried at each split: 4\n",
       "\n",
       "        OOB estimate of  error rate: 53.72%\n",
       "Confusion matrix:\n",
       "      A     B     C    D   E  F G class.error\n",
       "A 11880 10032  1985   50   0  0 0   0.5039045\n",
       "B  5855 37122 20334 1309  67  8 0   0.4261999\n",
       "C  1605 22091 38524 5113 600 57 0   0.4333873\n",
       "D   248  5904 18066 5299 861 95 4   0.8261312\n",
       "E    21   996  5857 2909 869 91 3   0.9191327\n",
       "F     3   139  1694 1321 517 99 4   0.9737887\n",
       "G     1    15   425  350 189 51 3   0.9970986"
      ]
     },
     "metadata": {},
     "output_type": "display_data"
    }
   ],
   "source": [
    "rf1"
   ]
  },
  {
   "cell_type": "code",
   "execution_count": 146,
   "metadata": {
    "collapsed": true
   },
   "outputs": [],
   "source": [
    "rf.pred <- predict(rf1, data_trainQ34_g)"
   ]
  },
  {
   "cell_type": "code",
   "execution_count": 147,
   "metadata": {
    "collapsed": false
   },
   "outputs": [
    {
     "data": {
      "text/html": [
       "0.972018000059211"
      ],
      "text/latex": [
       "0.972018000059211"
      ],
      "text/markdown": [
       "0.972018000059211"
      ],
      "text/plain": [
       "[1] 0.972018"
      ]
     },
     "metadata": {},
     "output_type": "display_data"
    },
    {
     "data": {
      "text/html": [
       "0.279426563175208"
      ],
      "text/latex": [
       "0.279426563175208"
      ],
      "text/markdown": [
       "0.279426563175208"
      ],
      "text/plain": [
       "[1] 0.2794266"
      ]
     },
     "metadata": {},
     "output_type": "display_data"
    }
   ],
   "source": [
    "sum(data_trainQ34_g$grade == rf.pred)/nrow(data_trainQ34_g)\n",
    "rmse(as.numeric(rf.pred), as.numeric(data_trainQ34_g$grade))"
   ]
  },
  {
   "cell_type": "code",
   "execution_count": 149,
   "metadata": {
    "collapsed": true
   },
   "outputs": [],
   "source": [
    "levels(data_test$purpose) <- levels(train_data$purpose)\n",
    "levels(data_test$addr_state) <- levels(train_data$addr_state)"
   ]
  },
  {
   "cell_type": "code",
   "execution_count": 150,
   "metadata": {
    "collapsed": false
   },
   "outputs": [],
   "source": [
    "rf.pred2 <- predict(rf1, data_test)"
   ]
  },
  {
   "cell_type": "code",
   "execution_count": 151,
   "metadata": {
    "collapsed": false
   },
   "outputs": [
    {
     "data": {
      "text/html": [
       "0.485456555657736"
      ],
      "text/latex": [
       "0.485456555657736"
      ],
      "text/markdown": [
       "0.485456555657736"
      ],
      "text/plain": [
       "[1] 0.4854566"
      ]
     },
     "metadata": {},
     "output_type": "display_data"
    },
    {
     "data": {
      "text/html": [
       "1.01243572159957"
      ],
      "text/latex": [
       "1.01243572159957"
      ],
      "text/markdown": [
       "1.01243572159957"
      ],
      "text/plain": [
       "[1] 1.012436"
      ]
     },
     "metadata": {},
     "output_type": "display_data"
    }
   ],
   "source": [
    "sum(test_data$grade == rf.pred2)/nrow(test_data)\n",
    "rmse(as.numeric(rf.pred2), as.numeric(test_data$grade))"
   ]
  },
  {
   "cell_type": "code",
   "execution_count": 152,
   "metadata": {
    "collapsed": true
   },
   "outputs": [],
   "source": [
    "save(rf1, file = \"models/rf_q34.rda\")"
   ]
  },
  {
   "cell_type": "markdown",
   "metadata": {},
   "source": [
    "## Plotting results"
   ]
  },
  {
   "cell_type": "markdown",
   "metadata": {},
   "source": [
    "### Interest Rates"
   ]
  },
  {
   "cell_type": "code",
   "execution_count": 77,
   "metadata": {
    "collapsed": false
   },
   "outputs": [
    {
     "data": {
      "text/html": [
       "<table>\n",
       "<thead><tr><th></th><th scope=col>Linear.Regression</th><th scope=col>Polynomial.Regression</th><th scope=col>Neural.Net</th><th scope=col>Gradient.Boosting</th><th scope=col>SVM</th></tr></thead>\n",
       "<tbody>\n",
       "\t<tr><th scope=row>train_rmse</th><td>3.806</td><td>3.935</td><td>3.801</td><td>3.360</td><td>0.475</td></tr>\n",
       "\t<tr><th scope=row>test_rmse</th><td>4.387</td><td>4.472</td><td>4.690</td><td>3.811</td><td>5.091</td></tr>\n",
       "</tbody>\n",
       "</table>\n"
      ],
      "text/latex": [
       "\\begin{tabular}{r|lllll}\n",
       "  & Linear.Regression & Polynomial.Regression & Neural.Net & Gradient.Boosting & SVM\\\\\n",
       "\\hline\n",
       "\ttrain\\_rmse & 3.806 & 3.935 & 3.801 & 3.360 & 0.475\\\\\n",
       "\ttest\\_rmse & 4.387 & 4.472 & 4.690 & 3.811 & 5.091\\\\\n",
       "\\end{tabular}\n"
      ],
      "text/markdown": [
       "\n",
       "| <!--/--> | Linear.Regression | Polynomial.Regression | Neural.Net | Gradient.Boosting | SVM | \n",
       "|---|---|\n",
       "| train_rmse | 3.806 | 3.935 | 3.801 | 3.360 | 0.475 | \n",
       "| test_rmse | 4.387 | 4.472 | 4.690 | 3.811 | 5.091 | \n",
       "\n",
       "\n"
      ],
      "text/plain": [
       "           Linear.Regression Polynomial.Regression Neural.Net Gradient.Boosting\n",
       "train_rmse 3.806             3.935                 3.801      3.360            \n",
       "test_rmse  4.387             4.472                 4.690      3.811            \n",
       "           SVM  \n",
       "train_rmse 0.475\n",
       "test_rmse  5.091"
      ]
     },
     "metadata": {},
     "output_type": "display_data"
    }
   ],
   "source": [
    "res <- read.csv(\"res/res_int_rate.csv\")\n",
    "\n",
    "rownames(res) <- c(\"train_rmse\", \"test_rmse\")\n",
    "method <- c('Linear Regression', 'Polynomial Regression', 'Neural Net', 'Gradient Boosting', 'SVM')\n",
    "\n",
    "test_res <- cbind(method, t(res[2,]), rep(\"Test\", 5))\n",
    "train_res <- cbind(method, t(res[1,]), rep(\"Train\", 5))\n",
    "\n",
    "res_new <- rbind(test_res, train_res)\n",
    "colnames(res_new) <- c(\"method\", \"RMSE\", \"class\")\n",
    "res_new <- as.data.frame(res_new)\n",
    "res_new$RMSE <- as.numeric(as.character(res_new$RMSE))\n",
    "\n",
    "res_test <- res_new[res_new$class == \"Test\",]\n",
    "res"
   ]
  },
  {
   "cell_type": "code",
   "execution_count": 78,
   "metadata": {
    "collapsed": false
   },
   "outputs": [
    {
     "data": {},
     "metadata": {},
     "output_type": "display_data"
    },
    {
     "data": {
      "image/png": "[encoded data removed]",
      "text/plain": [
       "plot without title"
      ]
     },
     "metadata": {},
     "output_type": "display_data"
    }
   ],
   "source": [
    "library(ggplot2)\n",
    "\n",
    "p1 <- ggplot()+\n",
    "geom_bar(aes(x=res_new[,\"method\"],y=as.numeric(res_new[,\"RMSE\"]),fill=factor(res_new[,\"class\"])), \n",
    "         stat=\"identity\",position=\"dodge\")+\n",
    "scale_fill_discrete(name=\"Result\",\n",
    "                    breaks=c(\"Train\", \"Test\"))+\n",
    "theme_bw()+\n",
    "theme(axis.text.x = element_text(angle = 90, hjust = 1))+\n",
    "geom_text(aes(x=res_test[,\"method\"],y=as.numeric(res_test[,\"RMSE\"]),label=factor(res_test[,\"method\"]), \n",
    "              hjust = 1.05, vjust = -1.5, angle = 90), col = \"black\")+\n",
    "ggtitle(\"RMSEs of Predicted Interest Rates\")+\n",
    "ylab(\"Root Mean Square Error\")+\n",
    "xlab(\"Method\")+\n",
    "theme(axis.title.x=element_blank(),\n",
    "        axis.text.x=element_blank(),\n",
    "        axis.ticks.x=element_blank())+\n",
    "scale_x_discrete(limits=c('Gradient Boosting', 'Linear Regression', 'Polynomial Regression', 'Neural Net', 'SVM'))\n",
    "\n",
    "p1"
   ]
  },
  {
   "cell_type": "code",
   "execution_count": 74,
   "metadata": {
    "collapsed": false
   },
   "outputs": [],
   "source": [
    "ggsave(filename=\"RMSE_int_rate.png\", plot=p1, height = 3, width = 6)"
   ]
  },
  {
   "cell_type": "markdown",
   "metadata": {},
   "source": [
    "### Plot Grades"
   ]
  },
  {
   "cell_type": "code",
   "execution_count": 79,
   "metadata": {
    "collapsed": false
   },
   "outputs": [
    {
     "data": {
      "text/html": [
       "<table>\n",
       "<thead><tr><th></th><th scope=col>Random.Forest</th><th scope=col>Naive.Bayes</th><th scope=col>KNN</th><th scope=col>Gradient.Boosting</th><th scope=col>SVM</th></tr></thead>\n",
       "<tbody>\n",
       "\t<tr><th scope=row>train_rmse</th><td>0.279</td><td>1.222</td><td>0.000</td><td>1.017</td><td>0.000</td></tr>\n",
       "\t<tr><th scope=row>test_rmse</th><td>1.012</td><td>1.262</td><td>1.299</td><td>1.041</td><td>1.216</td></tr>\n",
       "</tbody>\n",
       "</table>\n"
      ],
      "text/latex": [
       "\\begin{tabular}{r|lllll}\n",
       "  & Random.Forest & Naive.Bayes & KNN & Gradient.Boosting & SVM\\\\\n",
       "\\hline\n",
       "\ttrain\\_rmse & 0.279 & 1.222 & 0.000 & 1.017 & 0.000\\\\\n",
       "\ttest\\_rmse & 1.012 & 1.262 & 1.299 & 1.041 & 1.216\\\\\n",
       "\\end{tabular}\n"
      ],
      "text/markdown": [
       "\n",
       "| <!--/--> | Random.Forest | Naive.Bayes | KNN | Gradient.Boosting | SVM | \n",
       "|---|---|\n",
       "| train_rmse | 0.279 | 1.222 | 0.000 | 1.017 | 0.000 | \n",
       "| test_rmse | 1.012 | 1.262 | 1.299 | 1.041 | 1.216 | \n",
       "\n",
       "\n"
      ],
      "text/plain": [
       "           Random.Forest Naive.Bayes KNN   Gradient.Boosting SVM  \n",
       "train_rmse 0.279         1.222       0.000 1.017             0.000\n",
       "test_rmse  1.012         1.262       1.299 1.041             1.216"
      ]
     },
     "metadata": {},
     "output_type": "display_data"
    }
   ],
   "source": [
    "res2 <- read.csv(\"res/res_grade.csv\")\n",
    "\n",
    "rownames(res2) <- c(\"train_rmse\", \"test_rmse\")\n",
    "method <- c('Random Forest', 'Naive Bayes', 'K-Nearest Neighbors', 'Gradient Boosting', 'SVM')\n",
    "\n",
    "test_res2 <- cbind(method, t(res2[2,]), rep(\"Test\", 5))\n",
    "train_res2 <- cbind(method, t(res2[1,]), rep(\"Train\", 5))\n",
    "\n",
    "res2_new <- rbind(test_res2, train_res2)\n",
    "colnames(res2_new) <- c(\"method\", \"RMSE\", \"class\")\n",
    "res2_new <- as.data.frame(res2_new)\n",
    "res2_new$RMSE <- as.numeric(as.character(res2_new$RMSE))\n",
    "\n",
    "res_test_grade <- res2_new[res2_new$class == \"Test\",]\n",
    "res2"
   ]
  },
  {
   "cell_type": "code",
   "execution_count": 80,
   "metadata": {
    "collapsed": false
   },
   "outputs": [
    {
     "data": {},
     "metadata": {},
     "output_type": "display_data"
    },
    {
     "data": {
      "image/png": "[encoded data removed]",
      "text/plain": [
       "plot without title"
      ]
     },
     "metadata": {},
     "output_type": "display_data"
    }
   ],
   "source": [
    "library(ggplot2)\n",
    "\n",
    "p2 <- ggplot()+\n",
    "geom_bar(aes(x=res2_new[,\"method\"],y=res2_new[,\"RMSE\"],fill=factor(res2_new[,\"class\"])), \n",
    "         stat=\"identity\",position=\"dodge\")+\n",
    "scale_fill_discrete(name=\"Result\",\n",
    "                    breaks=c(\"Train\", \"Test\"))+\n",
    "theme_bw()+\n",
    "theme(axis.text.x = element_text(angle = 90, hjust = 1))+\n",
    "geom_text(aes(x=res_test_grade[,\"method\"],y=as.numeric(res_test_grade[,\"RMSE\"]),\n",
    "              label=factor(res_test_grade[,\"method\"]), \n",
    "              hjust = 1.05, vjust = -1.5, angle = 90), col = \"black\")+\n",
    "ggtitle(\"RMSEs of Predicted Loan Grades\")+\n",
    "ylab(\"Root Mean Square Error\")+\n",
    "xlab(\"Method\")+\n",
    "theme(axis.title.x=element_blank(),\n",
    "        axis.text.x=element_blank(),\n",
    "        axis.ticks.x=element_blank())+\n",
    "scale_x_discrete(limits=c('Random Forest', 'Gradient Boosting', 'SVM', 'Naive Bayes', 'K-Nearest Neighbors'))\n",
    "p2"
   ]
  },
  {
   "cell_type": "code",
   "execution_count": 81,
   "metadata": {
    "collapsed": false
   },
   "outputs": [],
   "source": [
    "ggsave(filename=\"RMSE_grade.png\", plot=p2, height = 3, width = 6)"
   ]
  }
 ],
 "metadata": {
  "kernelspec": {
   "display_name": "R",
   "language": "R",
   "name": "ir"
  },
  "language_info": {
   "codemirror_mode": "r",
   "file_extension": ".r",
   "mimetype": "text/x-r-source",
   "name": "R",
   "pygments_lexer": "r",
   "version": "3.3.2"
  },
  "toc": {
   "colors": {
    "hover_highlight": "#DAA520",
    "running_highlight": "#FF0000",
    "selected_highlight": "#FFD700"
   },
   "moveMenuLeft": true,
   "nav_menu": {
    "height": "29px",
    "width": "251px"
   },
   "navigate_menu": true,
   "number_sections": true,
   "sideBar": true,
   "threshold": 4,
   "toc_cell": false,
   "toc_position": {
    "height": "509px",
    "left": "0px",
    "right": "1068px",
    "top": "106px",
    "width": "212px"
   },
   "toc_section_display": "block",
   "toc_window_display": true,
   "widenNotebook": false
  }
 },
 "nbformat": 4,
 "nbformat_minor": 2
}
